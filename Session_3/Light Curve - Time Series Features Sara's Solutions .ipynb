{
 "cells": [
  {
   "cell_type": "code",
   "execution_count": 2,
   "id": "0cc84c7b",
   "metadata": {},
   "outputs": [],
   "source": [
    "import feets\n",
    "import os \n",
    "import math \n",
    "import numpy as np \n",
    "import argparse \n",
    "from astropy.table import Table, Column, join\n",
    "from astropy.coordinates import SkyCoord\n",
    "from astropy import units as u\n",
    "from astroquery.vizier import Vizier\n",
    "import sys\n",
    "import hdbscan\n",
    "from sklearn.manifold import TSNE\n",
    "import matplotlib.pyplot as plt\n",
    "import seaborn as sns\n",
    "from sklearn.decomposition import PCA\n",
    "import pandas as pd\n",
    "from sklearn.preprocessing import StandardScaler\n",
    "fft = False\n",
    "import pickle\n",
    "import matplotlib.pylab as pylab\n",
    "from astropy.table import Table, Column, join \n",
    "import glob"
   ]
  },
  {
   "cell_type": "code",
   "execution_count": 3,
   "id": "d1f264e2",
   "metadata": {},
   "outputs": [],
   "source": [
    "## get light curves \n",
    "\n",
    "## folder - LC_set1_files (columns: hjd, mag, emag)\n",
    "## folder - LC_set2_files (columns: mjd, mag, emag, uplim)\n",
    "path = 'PATH/LC_set1_files/'\n"
   ]
  },
  {
   "cell_type": "code",
   "execution_count": 4,
   "id": "24e25cf2",
   "metadata": {},
   "outputs": [
    {
     "data": {
      "text/plain": [
       "['exampledata_66.ascii',\n",
       " 'exampledata_23.ascii',\n",
       " 'exampledata_42.ascii',\n",
       " 'exampledata_3.ascii',\n",
       " 'exampledata_38.ascii',\n",
       " 'exampledata_1.ascii',\n",
       " 'exampledata_40.ascii',\n",
       " 'exampledata_64.ascii',\n",
       " 'exampledata_21.ascii',\n",
       " 'exampledata_59.ascii',\n",
       " 'exampledata_60.ascii',\n",
       " 'exampledata_25.ascii',\n",
       " 'exampledata_18.ascii',\n",
       " 'exampledata_5.ascii',\n",
       " 'exampledata_44.ascii',\n",
       " 'exampledata_46.ascii',\n",
       " 'exampledata_7.ascii',\n",
       " 'exampledata_62.ascii',\n",
       " 'exampledata_27.ascii',\n",
       " 'exampledata_41.ascii',\n",
       " 'exampledata_39.ascii',\n",
       " 'exampledata_58.ascii',\n",
       " 'exampledata_20.ascii',\n",
       " 'exampledata_65.ascii',\n",
       " 'exampledata_22.ascii',\n",
       " 'exampledata_67.ascii',\n",
       " 'exampledata_2.ascii',\n",
       " 'exampledata_43.ascii',\n",
       " 'exampledata_6.ascii',\n",
       " 'exampledata_47.ascii',\n",
       " 'exampledata_26.ascii',\n",
       " 'exampledata_63.ascii',\n",
       " 'exampledata_19.ascii',\n",
       " 'exampledata_24.ascii',\n",
       " 'exampledata_61.ascii',\n",
       " 'exampledata_45.ascii',\n",
       " 'exampledata_4.ascii',\n",
       " 'exampledata_8.ascii',\n",
       " 'exampledata_31.ascii',\n",
       " 'exampledata_49.ascii',\n",
       " 'exampledata_28.ascii',\n",
       " 'exampledata_50.ascii',\n",
       " 'exampledata_15.ascii',\n",
       " 'exampledata_52.ascii',\n",
       " 'exampledata_17.ascii',\n",
       " 'exampledata_33.ascii',\n",
       " 'exampledata_37.ascii',\n",
       " 'exampledata_56.ascii',\n",
       " 'exampledata_13.ascii',\n",
       " 'exampledata_69.ascii',\n",
       " 'exampledata_54.ascii',\n",
       " 'exampledata_11.ascii',\n",
       " 'exampledata_70.ascii',\n",
       " 'exampledata_35.ascii',\n",
       " 'exampledata_16.ascii',\n",
       " 'exampledata_53.ascii',\n",
       " 'exampledata_32.ascii',\n",
       " 'exampledata_48.ascii',\n",
       " 'exampledata_9.ascii',\n",
       " 'exampledata_30.ascii',\n",
       " 'exampledata_14.ascii',\n",
       " 'exampledata_51.ascii',\n",
       " 'exampledata_29.ascii',\n",
       " 'exampledata_10.ascii',\n",
       " 'exampledata_55.ascii',\n",
       " 'exampledata_68.ascii',\n",
       " 'exampledata_34.ascii',\n",
       " 'exampledata_36.ascii',\n",
       " 'exampledata_12.ascii',\n",
       " 'exampledata_57.ascii']"
      ]
     },
     "execution_count": 4,
     "metadata": {},
     "output_type": "execute_result"
    }
   ],
   "source": [
    "file_list = os.listdir(path)\n",
    "file_list       "
   ]
  },
  {
   "cell_type": "code",
   "execution_count": 5,
   "id": "1859b225",
   "metadata": {},
   "outputs": [
    {
     "name": "stdout",
     "output_type": "stream",
     "text": [
      "exampledata_60.ascii\n"
     ]
    },
    {
     "data": {
      "text/plain": [
       "<matplotlib.collections.PathCollection at 0x7fd5c007a7f0>"
      ]
     },
     "execution_count": 5,
     "metadata": {},
     "output_type": "execute_result"
    },
    {
     "data": {
      "image/png": "[encoded data removed]",
      "text/plain": [
       "<Figure size 432x288 with 1 Axes>"
      ]
     },
     "metadata": {
      "needs_background": "light"
     },
     "output_type": "display_data"
    }
   ],
   "source": [
    "## list at a test lightcurve \n",
    "\n",
    "print(file_list[10])\n",
    "\n",
    "hjd, mag, emag = np.loadtxt(path+file_list[10], unpack = True, skiprows=1)\n",
    "plt.scatter(hjd, mag)\n",
    "         "
   ]
  },
  {
   "cell_type": "markdown",
   "id": "bb7a5a5d",
   "metadata": {},
   "source": [
    "# What features do you think could describe the light curves for ML? \n",
    "\n",
    "Papers to consider reading: \n",
    "\n",
    "https://ui.adsabs.harvard.edu/abs/2021MNRAS.506.2089W/abstract \n",
    "https://ui.adsabs.harvard.edu/abs/2011ApJ...735...68K/abstract \n",
    "https://ui.adsabs.harvard.edu/abs/2016A%26A...587A..18K/abstract\n",
    "https://ui.adsabs.harvard.edu/abs/2015arXiv150600010N/abstract\n",
    "https://ui.adsabs.harvard.edu/abs/2013ApJ...777...83P/abstract\n",
    "\n",
    "Types of features which have been used for light curves: \n",
    "\n",
    "Autocor_length,\n",
    "Beyond1Std,\n",
    "CAR_sigma, \n",
    "CAR_mean, \n",
    "CAR_tau, \n",
    "Con, \n",
    "Eta_e, \n",
    "LinearTrend,\n",
    "MaxSlope, \n",
    "Mean, \n",
    "Meanvariance, \n",
    "MedianAbsDev, \n",
    "MedianBRP, \n",
    "PairSlopeTrend, \n",
    "PercentAmplitude, \n",
    "Q31, \n",
    "Rcs,\n",
    "Skew, \n",
    "SlottedA_length,\n",
    "SmallKurtosis,\n",
    "Std, \n",
    "StetsonK_AC, \n",
    "Amplitudes, \n",
    "VariabilityIndex, \n",
    "hl_ratio,\n",
    "amp1_val,\n",
    "amp_2_1_ratio,\n",
    "amp_3_1_ratio, \n",
    "phase_2_1_ratio, \n",
    "phase_3_1_ratio, \n"
   ]
  },
  {
   "cell_type": "code",
   "execution_count": 7,
   "id": "323d5913",
   "metadata": {},
   "outputs": [
    {
     "name": "stderr",
     "output_type": "stream",
     "text": [
      "/Users/swebb/opt/anaconda3/lib/python3.9/site-packages/numpy/core/fromnumeric.py:3419: RuntimeWarning: Mean of empty slice.\n",
      "  return _methods._mean(a, axis=axis, dtype=dtype,\n",
      "/Users/swebb/opt/anaconda3/lib/python3.9/site-packages/numpy/core/_methods.py:188: RuntimeWarning: invalid value encountered in double_scalars\n",
      "  ret = ret.dtype.type(ret / rcount)\n",
      "/Users/swebb/opt/anaconda3/lib/python3.9/site-packages/numpy/core/_methods.py:261: RuntimeWarning: Degrees of freedom <= 0 for slice\n",
      "  ret = _var(a, axis=axis, dtype=dtype, out=out, ddof=ddof,\n",
      "/Users/swebb/opt/anaconda3/lib/python3.9/site-packages/numpy/core/_methods.py:221: RuntimeWarning: invalid value encountered in true_divide\n",
      "  arrmean = um.true_divide(arrmean, div, out=arrmean, casting='unsafe',\n",
      "/Users/swebb/opt/anaconda3/lib/python3.9/site-packages/numpy/core/_methods.py:253: RuntimeWarning: invalid value encountered in double_scalars\n",
      "  ret = ret.dtype.type(ret / rcount)\n",
      "/Users/swebb/opt/anaconda3/lib/python3.9/site-packages/feets/extractors/ext_stetson.py:247: RuntimeWarning: divide by zero encountered in double_scalars\n",
      "  K = (1 / np.sqrt(N_autocor * 1.0) *\n",
      "/Users/swebb/opt/anaconda3/lib/python3.9/site-packages/feets/extractors/ext_stetson.py:247: RuntimeWarning: invalid value encountered in double_scalars\n",
      "  K = (1 / np.sqrt(N_autocor * 1.0) *\n",
      "/Users/swebb/opt/anaconda3/lib/python3.9/site-packages/statsmodels/tsa/stattools.py:667: FutureWarning: fft=True will become the default after the release of the 0.12 release of statsmodels. To suppress this warning, explicitly set fft=False.\n",
      "  warnings.warn(\n",
      "/Users/swebb/opt/anaconda3/lib/python3.9/site-packages/feets/extractors/ext_max_slope.py:91: RuntimeWarning: divide by zero encountered in true_divide\n",
      "  slope = np.abs(magnitude[1:] - magnitude[:-1]) / (time[1:] - time[:-1])\n",
      "/Users/swebb/opt/anaconda3/lib/python3.9/site-packages/numpy/core/fromnumeric.py:3419: RuntimeWarning: Mean of empty slice.\n",
      "  return _methods._mean(a, axis=axis, dtype=dtype,\n",
      "/Users/swebb/opt/anaconda3/lib/python3.9/site-packages/numpy/core/_methods.py:188: RuntimeWarning: invalid value encountered in double_scalars\n",
      "  ret = ret.dtype.type(ret / rcount)\n",
      "/Users/swebb/opt/anaconda3/lib/python3.9/site-packages/numpy/core/_methods.py:261: RuntimeWarning: Degrees of freedom <= 0 for slice\n",
      "  ret = _var(a, axis=axis, dtype=dtype, out=out, ddof=ddof,\n",
      "/Users/swebb/opt/anaconda3/lib/python3.9/site-packages/numpy/core/_methods.py:221: RuntimeWarning: invalid value encountered in true_divide\n",
      "  arrmean = um.true_divide(arrmean, div, out=arrmean, casting='unsafe',\n",
      "/Users/swebb/opt/anaconda3/lib/python3.9/site-packages/numpy/core/_methods.py:253: RuntimeWarning: invalid value encountered in double_scalars\n",
      "  ret = ret.dtype.type(ret / rcount)\n",
      "/Users/swebb/opt/anaconda3/lib/python3.9/site-packages/feets/extractors/ext_stetson.py:247: RuntimeWarning: divide by zero encountered in double_scalars\n",
      "  K = (1 / np.sqrt(N_autocor * 1.0) *\n",
      "/Users/swebb/opt/anaconda3/lib/python3.9/site-packages/feets/extractors/ext_stetson.py:247: RuntimeWarning: invalid value encountered in double_scalars\n",
      "  K = (1 / np.sqrt(N_autocor * 1.0) *\n"
     ]
    },
    {
     "name": "stdout",
     "output_type": "stream",
     "text": [
      "['Autocor_length' 'Beyond1Std' 'CAR_mean' 'CAR_sigma' 'CAR_tau' 'Con'\n",
      " 'LinearTrend' 'MaxSlope' 'Mean' 'Meanvariance' 'MedianAbsDev' 'MedianBRP'\n",
      " 'PairSlopeTrend' 'PercentAmplitude' 'Q31' 'Rcs' 'Skew' 'SlottedA_length'\n",
      " 'SmallKurtosis' 'Std' 'StetsonK_AC'] [ 1.25000000e+02  4.12280702e-01  1.17667376e+05  1.00000000e+01\n",
      "  5.00000000e-01  0.00000000e+00 -2.19368740e-01             inf\n",
      "  5.88336882e+04  1.59349126e-06  8.13110000e-02  1.98245614e-01\n",
      "  9.66666667e-01  2.75752728e-06  1.62340750e-01  4.33347058e-01\n",
      "  1.49098131e-03             nan -1.19727335e+00  9.37509679e-02\n",
      "             nan]\n",
      "125.0\n"
     ]
    },
    {
     "name": "stderr",
     "output_type": "stream",
     "text": [
      "/Users/swebb/opt/anaconda3/lib/python3.9/site-packages/feets/extractors/ext_max_slope.py:91: RuntimeWarning: divide by zero encountered in true_divide\n",
      "  slope = np.abs(magnitude[1:] - magnitude[:-1]) / (time[1:] - time[:-1])\n",
      "/Users/swebb/opt/anaconda3/lib/python3.9/site-packages/statsmodels/tsa/stattools.py:667: FutureWarning: fft=True will become the default after the release of the 0.12 release of statsmodels. To suppress this warning, explicitly set fft=False.\n",
      "  warnings.warn(\n"
     ]
    },
    {
     "name": "stdout",
     "output_type": "stream",
     "text": [
      "['Autocor_length' 'Beyond1Std' 'CAR_mean' 'CAR_sigma' 'CAR_tau' 'Con'\n",
      " 'LinearTrend' 'MaxSlope' 'Mean' 'Meanvariance' 'MedianAbsDev' 'MedianBRP'\n",
      " 'PairSlopeTrend' 'PercentAmplitude' 'Q31' 'Rcs' 'Skew' 'SlottedA_length'\n",
      " 'SmallKurtosis' 'Std' 'StetsonK_AC'] [ 1.22000000e+02  4.15467626e-01  1.17667375e+05  1.00000000e+01\n",
      "  5.00000000e-01  0.00000000e+00 -2.94066711e-01             inf\n",
      "  5.88336874e+04  1.59786859e-06  8.18815000e-02  1.90647482e-01\n",
      "  9.66666667e-01  2.75805417e-06  1.63447250e-01  4.34882434e-01\n",
      "  3.29451879e-03             nan -1.21192043e+00  9.40085009e-02\n",
      "             nan]\n",
      "122.0\n"
     ]
    },
    {
     "name": "stderr",
     "output_type": "stream",
     "text": [
      "/Users/swebb/opt/anaconda3/lib/python3.9/site-packages/numpy/core/fromnumeric.py:3419: RuntimeWarning: Mean of empty slice.\n",
      "  return _methods._mean(a, axis=axis, dtype=dtype,\n",
      "/Users/swebb/opt/anaconda3/lib/python3.9/site-packages/numpy/core/_methods.py:188: RuntimeWarning: invalid value encountered in double_scalars\n",
      "  ret = ret.dtype.type(ret / rcount)\n",
      "/Users/swebb/opt/anaconda3/lib/python3.9/site-packages/numpy/core/_methods.py:261: RuntimeWarning: Degrees of freedom <= 0 for slice\n",
      "  ret = _var(a, axis=axis, dtype=dtype, out=out, ddof=ddof,\n",
      "/Users/swebb/opt/anaconda3/lib/python3.9/site-packages/numpy/core/_methods.py:221: RuntimeWarning: invalid value encountered in true_divide\n",
      "  arrmean = um.true_divide(arrmean, div, out=arrmean, casting='unsafe',\n",
      "/Users/swebb/opt/anaconda3/lib/python3.9/site-packages/numpy/core/_methods.py:253: RuntimeWarning: invalid value encountered in double_scalars\n",
      "  ret = ret.dtype.type(ret / rcount)\n",
      "/Users/swebb/opt/anaconda3/lib/python3.9/site-packages/feets/extractors/ext_stetson.py:247: RuntimeWarning: divide by zero encountered in double_scalars\n",
      "  K = (1 / np.sqrt(N_autocor * 1.0) *\n",
      "/Users/swebb/opt/anaconda3/lib/python3.9/site-packages/feets/extractors/ext_stetson.py:247: RuntimeWarning: invalid value encountered in double_scalars\n",
      "  K = (1 / np.sqrt(N_autocor * 1.0) *\n"
     ]
    },
    {
     "name": "stdout",
     "output_type": "stream",
     "text": [
      "['Autocor_length' 'Beyond1Std' 'CAR_mean' 'CAR_sigma' 'CAR_tau' 'Con'\n",
      " 'LinearTrend' 'MaxSlope' 'Mean' 'Meanvariance' 'MedianAbsDev' 'MedianBRP'\n",
      " 'PairSlopeTrend' 'PercentAmplitude' 'Q31' 'Rcs' 'Skew' 'SlottedA_length'\n",
      " 'SmallKurtosis' 'Std' 'StetsonK_AC'] [ 1.24000000e+02  4.03169014e-01  1.17667378e+05  1.00000000e+01\n",
      "  5.00000000e-01  0.00000000e+00 -4.36008074e-01  2.43222000e+05\n",
      "  5.88336888e+04  1.58922163e-06  8.10295000e-02  1.98943662e-01\n",
      "  9.66666667e-01  2.75805417e-06  1.61779000e-01  4.33242183e-01\n",
      " -1.15181956e-03             nan -1.19403865e+00  9.34997710e-02\n",
      "             nan]\n",
      "124.0\n"
     ]
    },
    {
     "name": "stderr",
     "output_type": "stream",
     "text": [
      "/Users/swebb/opt/anaconda3/lib/python3.9/site-packages/statsmodels/tsa/stattools.py:667: FutureWarning: fft=True will become the default after the release of the 0.12 release of statsmodels. To suppress this warning, explicitly set fft=False.\n",
      "  warnings.warn(\n",
      "/Users/swebb/opt/anaconda3/lib/python3.9/site-packages/feets/extractors/ext_max_slope.py:91: RuntimeWarning: divide by zero encountered in true_divide\n",
      "  slope = np.abs(magnitude[1:] - magnitude[:-1]) / (time[1:] - time[:-1])\n",
      "/Users/swebb/opt/anaconda3/lib/python3.9/site-packages/numpy/core/fromnumeric.py:3419: RuntimeWarning: Mean of empty slice.\n",
      "  return _methods._mean(a, axis=axis, dtype=dtype,\n",
      "/Users/swebb/opt/anaconda3/lib/python3.9/site-packages/numpy/core/_methods.py:188: RuntimeWarning: invalid value encountered in double_scalars\n",
      "  ret = ret.dtype.type(ret / rcount)\n",
      "/Users/swebb/opt/anaconda3/lib/python3.9/site-packages/numpy/core/_methods.py:261: RuntimeWarning: Degrees of freedom <= 0 for slice\n",
      "  ret = _var(a, axis=axis, dtype=dtype, out=out, ddof=ddof,\n",
      "/Users/swebb/opt/anaconda3/lib/python3.9/site-packages/numpy/core/_methods.py:221: RuntimeWarning: invalid value encountered in true_divide\n",
      "  arrmean = um.true_divide(arrmean, div, out=arrmean, casting='unsafe',\n",
      "/Users/swebb/opt/anaconda3/lib/python3.9/site-packages/numpy/core/_methods.py:253: RuntimeWarning: invalid value encountered in double_scalars\n",
      "  ret = ret.dtype.type(ret / rcount)\n",
      "/Users/swebb/opt/anaconda3/lib/python3.9/site-packages/feets/extractors/ext_stetson.py:247: RuntimeWarning: divide by zero encountered in double_scalars\n",
      "  K = (1 / np.sqrt(N_autocor * 1.0) *\n",
      "/Users/swebb/opt/anaconda3/lib/python3.9/site-packages/feets/extractors/ext_stetson.py:247: RuntimeWarning: invalid value encountered in double_scalars\n",
      "  K = (1 / np.sqrt(N_autocor * 1.0) *\n",
      "/Users/swebb/opt/anaconda3/lib/python3.9/site-packages/feets/extractors/ext_max_slope.py:91: RuntimeWarning: divide by zero encountered in true_divide\n",
      "  slope = np.abs(magnitude[1:] - magnitude[:-1]) / (time[1:] - time[:-1])\n"
     ]
    },
    {
     "name": "stdout",
     "output_type": "stream",
     "text": [
      "['Autocor_length' 'Beyond1Std' 'CAR_mean' 'CAR_sigma' 'CAR_tau' 'Con'\n",
      " 'LinearTrend' 'MaxSlope' 'Mean' 'Meanvariance' 'MedianAbsDev' 'MedianBRP'\n",
      " 'PairSlopeTrend' 'PercentAmplitude' 'Q31' 'Rcs' 'Skew' 'SlottedA_length'\n",
      " 'SmallKurtosis' 'Std' 'StetsonK_AC'] [ 1.25000000e+02  4.22807018e-01  1.17667376e+05  1.00000000e+01\n",
      "  5.00000000e-01  0.00000000e+00 -6.92059852e-01             inf\n",
      "  5.88336882e+04  1.59349126e-06  8.13110000e-02  1.98245614e-01\n",
      "  9.66666667e-01  2.75752728e-06  1.62340750e-01  4.33347058e-01\n",
      "  1.49098131e-03             nan -1.19727335e+00  9.37509679e-02\n",
      "             nan]\n",
      "125.0\n"
     ]
    },
    {
     "name": "stderr",
     "output_type": "stream",
     "text": [
      "/Users/swebb/opt/anaconda3/lib/python3.9/site-packages/statsmodels/tsa/stattools.py:667: FutureWarning: fft=True will become the default after the release of the 0.12 release of statsmodels. To suppress this warning, explicitly set fft=False.\n",
      "  warnings.warn(\n"
     ]
    },
    {
     "name": "stdout",
     "output_type": "stream",
     "text": [
      "['Autocor_length' 'Beyond1Std' 'CAR_mean' 'CAR_sigma' 'CAR_tau' 'Con'\n",
      " 'LinearTrend' 'MaxSlope' 'Mean' 'Meanvariance' 'MedianAbsDev' 'MedianBRP'\n",
      " 'PairSlopeTrend' 'PercentAmplitude' 'Q31' 'Rcs' 'Skew' 'SlottedA_length'\n",
      " 'SmallKurtosis' 'Std' 'StetsonK_AC'] [ 1.25000000e+02  4.03508772e-01  1.17667376e+05  1.00000000e+01\n",
      "  5.00000000e-01  0.00000000e+00 -4.13297050e-01             inf\n",
      "  5.88336882e+04  1.59349126e-06  8.13110000e-02  1.98245614e-01\n",
      "  9.66666667e-01  2.75752728e-06  1.62340750e-01  4.33347058e-01\n",
      "  1.49098131e-03             nan -1.19727335e+00  9.37509679e-02\n",
      "             nan]\n",
      "125.0\n"
     ]
    },
    {
     "name": "stderr",
     "output_type": "stream",
     "text": [
      "/Users/swebb/opt/anaconda3/lib/python3.9/site-packages/statsmodels/tsa/stattools.py:667: FutureWarning: fft=True will become the default after the release of the 0.12 release of statsmodels. To suppress this warning, explicitly set fft=False.\n",
      "  warnings.warn(\n",
      "/Users/swebb/opt/anaconda3/lib/python3.9/site-packages/numpy/core/fromnumeric.py:3419: RuntimeWarning: Mean of empty slice.\n",
      "  return _methods._mean(a, axis=axis, dtype=dtype,\n",
      "/Users/swebb/opt/anaconda3/lib/python3.9/site-packages/numpy/core/_methods.py:188: RuntimeWarning: invalid value encountered in double_scalars\n",
      "  ret = ret.dtype.type(ret / rcount)\n",
      "/Users/swebb/opt/anaconda3/lib/python3.9/site-packages/numpy/core/_methods.py:261: RuntimeWarning: Degrees of freedom <= 0 for slice\n",
      "  ret = _var(a, axis=axis, dtype=dtype, out=out, ddof=ddof,\n",
      "/Users/swebb/opt/anaconda3/lib/python3.9/site-packages/numpy/core/_methods.py:221: RuntimeWarning: invalid value encountered in true_divide\n",
      "  arrmean = um.true_divide(arrmean, div, out=arrmean, casting='unsafe',\n",
      "/Users/swebb/opt/anaconda3/lib/python3.9/site-packages/numpy/core/_methods.py:253: RuntimeWarning: invalid value encountered in double_scalars\n",
      "  ret = ret.dtype.type(ret / rcount)\n",
      "/Users/swebb/opt/anaconda3/lib/python3.9/site-packages/feets/extractors/ext_stetson.py:247: RuntimeWarning: divide by zero encountered in double_scalars\n",
      "  K = (1 / np.sqrt(N_autocor * 1.0) *\n",
      "/Users/swebb/opt/anaconda3/lib/python3.9/site-packages/feets/extractors/ext_stetson.py:247: RuntimeWarning: invalid value encountered in double_scalars\n",
      "  K = (1 / np.sqrt(N_autocor * 1.0) *\n",
      "/Users/swebb/opt/anaconda3/lib/python3.9/site-packages/feets/extractors/ext_max_slope.py:91: RuntimeWarning: divide by zero encountered in true_divide\n",
      "  slope = np.abs(magnitude[1:] - magnitude[:-1]) / (time[1:] - time[:-1])\n"
     ]
    },
    {
     "name": "stdout",
     "output_type": "stream",
     "text": [
      "['Autocor_length' 'Beyond1Std' 'CAR_mean' 'CAR_sigma' 'CAR_tau' 'Con'\n",
      " 'LinearTrend' 'MaxSlope' 'Mean' 'Meanvariance' 'MedianAbsDev' 'MedianBRP'\n",
      " 'PairSlopeTrend' 'PercentAmplitude' 'Q31' 'Rcs' 'Skew' 'SlottedA_length'\n",
      " 'SmallKurtosis' 'Std' 'StetsonK_AC'] [ 1.25000000e+02  4.22807018e-01  1.17667376e+05  1.00000000e+01\n",
      "  5.00000000e-01  0.00000000e+00 -9.76935954e-01             inf\n",
      "  5.88336882e+04  1.59349126e-06  8.13110000e-02  1.98245614e-01\n",
      "  9.66666667e-01  2.75752728e-06  1.62340750e-01  4.33347058e-01\n",
      "  1.49098131e-03             nan -1.19727335e+00  9.37509679e-02\n",
      "             nan]\n",
      "125.0\n"
     ]
    },
    {
     "name": "stderr",
     "output_type": "stream",
     "text": [
      "/Users/swebb/opt/anaconda3/lib/python3.9/site-packages/statsmodels/tsa/stattools.py:667: FutureWarning: fft=True will become the default after the release of the 0.12 release of statsmodels. To suppress this warning, explicitly set fft=False.\n",
      "  warnings.warn(\n",
      "/Users/swebb/opt/anaconda3/lib/python3.9/site-packages/numpy/core/fromnumeric.py:3419: RuntimeWarning: Mean of empty slice.\n",
      "  return _methods._mean(a, axis=axis, dtype=dtype,\n",
      "/Users/swebb/opt/anaconda3/lib/python3.9/site-packages/numpy/core/_methods.py:188: RuntimeWarning: invalid value encountered in double_scalars\n",
      "  ret = ret.dtype.type(ret / rcount)\n",
      "/Users/swebb/opt/anaconda3/lib/python3.9/site-packages/numpy/core/_methods.py:261: RuntimeWarning: Degrees of freedom <= 0 for slice\n",
      "  ret = _var(a, axis=axis, dtype=dtype, out=out, ddof=ddof,\n",
      "/Users/swebb/opt/anaconda3/lib/python3.9/site-packages/numpy/core/_methods.py:221: RuntimeWarning: invalid value encountered in true_divide\n",
      "  arrmean = um.true_divide(arrmean, div, out=arrmean, casting='unsafe',\n",
      "/Users/swebb/opt/anaconda3/lib/python3.9/site-packages/numpy/core/_methods.py:253: RuntimeWarning: invalid value encountered in double_scalars\n",
      "  ret = ret.dtype.type(ret / rcount)\n",
      "/Users/swebb/opt/anaconda3/lib/python3.9/site-packages/feets/extractors/ext_stetson.py:247: RuntimeWarning: divide by zero encountered in double_scalars\n",
      "  K = (1 / np.sqrt(N_autocor * 1.0) *\n",
      "/Users/swebb/opt/anaconda3/lib/python3.9/site-packages/feets/extractors/ext_stetson.py:247: RuntimeWarning: invalid value encountered in double_scalars\n",
      "  K = (1 / np.sqrt(N_autocor * 1.0) *\n",
      "/Users/swebb/opt/anaconda3/lib/python3.9/site-packages/feets/extractors/ext_max_slope.py:91: RuntimeWarning: divide by zero encountered in true_divide\n",
      "  slope = np.abs(magnitude[1:] - magnitude[:-1]) / (time[1:] - time[:-1])\n"
     ]
    },
    {
     "name": "stdout",
     "output_type": "stream",
     "text": [
      "['Autocor_length' 'Beyond1Std' 'CAR_mean' 'CAR_sigma' 'CAR_tau' 'Con'\n",
      " 'LinearTrend' 'MaxSlope' 'Mean' 'Meanvariance' 'MedianAbsDev' 'MedianBRP'\n",
      " 'PairSlopeTrend' 'PercentAmplitude' 'Q31' 'Rcs' 'Skew' 'SlottedA_length'\n",
      " 'SmallKurtosis' 'Std' 'StetsonK_AC'] [ 1.24000000e+02  4.04929577e-01  1.17667377e+05  1.00000000e+01\n",
      "  5.00000000e-01  0.00000000e+00 -3.86032198e-01             inf\n",
      "  5.88336886e+04  1.59337103e-06  8.10295000e-02  1.98943662e-01\n",
      "  9.66666667e-01  2.75805417e-06  1.61779000e-01  4.33109238e-01\n",
      " -5.54018958e-03             nan -1.19414677e+00  9.37438948e-02\n",
      "             nan]\n",
      "124.0\n"
     ]
    },
    {
     "name": "stderr",
     "output_type": "stream",
     "text": [
      "/Users/swebb/opt/anaconda3/lib/python3.9/site-packages/statsmodels/tsa/stattools.py:667: FutureWarning: fft=True will become the default after the release of the 0.12 release of statsmodels. To suppress this warning, explicitly set fft=False.\n",
      "  warnings.warn(\n",
      "/Users/swebb/opt/anaconda3/lib/python3.9/site-packages/numpy/core/fromnumeric.py:3419: RuntimeWarning: Mean of empty slice.\n",
      "  return _methods._mean(a, axis=axis, dtype=dtype,\n",
      "/Users/swebb/opt/anaconda3/lib/python3.9/site-packages/numpy/core/_methods.py:188: RuntimeWarning: invalid value encountered in double_scalars\n",
      "  ret = ret.dtype.type(ret / rcount)\n",
      "/Users/swebb/opt/anaconda3/lib/python3.9/site-packages/numpy/core/_methods.py:261: RuntimeWarning: Degrees of freedom <= 0 for slice\n",
      "  ret = _var(a, axis=axis, dtype=dtype, out=out, ddof=ddof,\n",
      "/Users/swebb/opt/anaconda3/lib/python3.9/site-packages/numpy/core/_methods.py:221: RuntimeWarning: invalid value encountered in true_divide\n",
      "  arrmean = um.true_divide(arrmean, div, out=arrmean, casting='unsafe',\n",
      "/Users/swebb/opt/anaconda3/lib/python3.9/site-packages/numpy/core/_methods.py:253: RuntimeWarning: invalid value encountered in double_scalars\n",
      "  ret = ret.dtype.type(ret / rcount)\n",
      "/Users/swebb/opt/anaconda3/lib/python3.9/site-packages/feets/extractors/ext_stetson.py:247: RuntimeWarning: divide by zero encountered in double_scalars\n",
      "  K = (1 / np.sqrt(N_autocor * 1.0) *\n",
      "/Users/swebb/opt/anaconda3/lib/python3.9/site-packages/feets/extractors/ext_stetson.py:247: RuntimeWarning: invalid value encountered in double_scalars\n",
      "  K = (1 / np.sqrt(N_autocor * 1.0) *\n"
     ]
    },
    {
     "name": "stdout",
     "output_type": "stream",
     "text": [
      "['Autocor_length' 'Beyond1Std' 'CAR_mean' 'CAR_sigma' 'CAR_tau' 'Con'\n",
      " 'LinearTrend' 'MaxSlope' 'Mean' 'Meanvariance' 'MedianAbsDev' 'MedianBRP'\n",
      " 'PairSlopeTrend' 'PercentAmplitude' 'Q31' 'Rcs' 'Skew' 'SlottedA_length'\n",
      " 'SmallKurtosis' 'Std' 'StetsonK_AC'] [ 1.22000000e+02  4.12500000e-01  1.17667380e+05  1.00000000e+01\n",
      "  5.00000000e-01  0.00000000e+00 -1.23572937e-01             inf\n",
      "  5.88336898e+04  1.59349440e-06  8.10295000e-02  2.01785714e-01\n",
      "  9.66666667e-01  2.79674788e-06  1.61770750e-01  4.32513494e-01\n",
      " -2.99680559e-02             nan -1.18686295e+00  9.37511555e-02\n",
      "             nan]\n",
      "122.0\n",
      "['Autocor_length' 'Beyond1Std' 'CAR_mean' 'CAR_sigma' 'CAR_tau' 'Con'\n",
      " 'LinearTrend' 'MaxSlope' 'Mean' 'Meanvariance' 'MedianAbsDev' 'MedianBRP'\n",
      " 'PairSlopeTrend' 'PercentAmplitude' 'Q31' 'Rcs' 'Skew' 'SlottedA_length'\n",
      " 'SmallKurtosis' 'Std' 'StetsonK_AC'] [ 1.20000000e+02  4.11657559e-01  1.17667379e+05  1.00000000e+01\n",
      "  5.00000000e-01  0.00000000e+00  1.32437817e-01  2.77338000e+05\n",
      "  5.88336895e+04  1.58381779e-06  8.00030000e-02  2.02185792e-01\n",
      "  9.66666667e-01  2.79185273e-06  1.59777000e-01  4.32373911e-01\n",
      " -2.29599062e-02             nan -1.17488248e+00  9.31818443e-02\n",
      "  1.00000000e+00]\n",
      "120.0\n"
     ]
    },
    {
     "name": "stderr",
     "output_type": "stream",
     "text": [
      "/Users/swebb/opt/anaconda3/lib/python3.9/site-packages/feets/extractors/ext_max_slope.py:91: RuntimeWarning: divide by zero encountered in true_divide\n",
      "  slope = np.abs(magnitude[1:] - magnitude[:-1]) / (time[1:] - time[:-1])\n",
      "/Users/swebb/opt/anaconda3/lib/python3.9/site-packages/numpy/core/fromnumeric.py:3419: RuntimeWarning: Mean of empty slice.\n",
      "  return _methods._mean(a, axis=axis, dtype=dtype,\n",
      "/Users/swebb/opt/anaconda3/lib/python3.9/site-packages/numpy/core/_methods.py:188: RuntimeWarning: invalid value encountered in double_scalars\n",
      "  ret = ret.dtype.type(ret / rcount)\n",
      "/Users/swebb/opt/anaconda3/lib/python3.9/site-packages/numpy/core/_methods.py:261: RuntimeWarning: Degrees of freedom <= 0 for slice\n",
      "  ret = _var(a, axis=axis, dtype=dtype, out=out, ddof=ddof,\n",
      "/Users/swebb/opt/anaconda3/lib/python3.9/site-packages/numpy/core/_methods.py:221: RuntimeWarning: invalid value encountered in true_divide\n",
      "  arrmean = um.true_divide(arrmean, div, out=arrmean, casting='unsafe',\n",
      "/Users/swebb/opt/anaconda3/lib/python3.9/site-packages/numpy/core/_methods.py:253: RuntimeWarning: invalid value encountered in double_scalars\n",
      "  ret = ret.dtype.type(ret / rcount)\n",
      "/Users/swebb/opt/anaconda3/lib/python3.9/site-packages/feets/extractors/ext_stetson.py:247: RuntimeWarning: divide by zero encountered in double_scalars\n",
      "  K = (1 / np.sqrt(N_autocor * 1.0) *\n",
      "/Users/swebb/opt/anaconda3/lib/python3.9/site-packages/feets/extractors/ext_stetson.py:247: RuntimeWarning: invalid value encountered in double_scalars\n",
      "  K = (1 / np.sqrt(N_autocor * 1.0) *\n",
      "/Users/swebb/opt/anaconda3/lib/python3.9/site-packages/statsmodels/tsa/stattools.py:667: FutureWarning: fft=True will become the default after the release of the 0.12 release of statsmodels. To suppress this warning, explicitly set fft=False.\n",
      "  warnings.warn(\n"
     ]
    },
    {
     "name": "stdout",
     "output_type": "stream",
     "text": [
      "['Autocor_length' 'Beyond1Std' 'CAR_mean' 'CAR_sigma' 'CAR_tau' 'Con'\n",
      " 'LinearTrend' 'MaxSlope' 'Mean' 'Meanvariance' 'MedianAbsDev' 'MedianBRP'\n",
      " 'PairSlopeTrend' 'PercentAmplitude' 'Q31' 'Rcs' 'Skew' 'SlottedA_length'\n",
      " 'SmallKurtosis' 'Std' 'StetsonK_AC'] [ 1.25000000e+02  4.07732865e-01  1.17667377e+05  1.00000000e+01\n",
      "  5.00000000e-01  0.00000000e+00 -5.06791796e-01             inf\n",
      "  5.88336883e+04  1.59488473e-06  8.14890000e-02  1.96836555e-01\n",
      "  9.66666667e-01  2.75325251e-06  1.62622000e-01  4.33671001e-01\n",
      "  1.14062408e-03             nan -1.20042521e+00  9.38329508e-02\n",
      "             nan]\n",
      "125.0\n",
      "['Autocor_length' 'Beyond1Std' 'CAR_mean' 'CAR_sigma' 'CAR_tau' 'Con'\n",
      " 'LinearTrend' 'MaxSlope' 'Mean' 'Meanvariance' 'MedianAbsDev' 'MedianBRP'\n",
      " 'PairSlopeTrend' 'PercentAmplitude' 'Q31' 'Rcs' 'Skew' 'SlottedA_length'\n",
      " 'SmallKurtosis' 'Std' 'StetsonK_AC'] [ 1.25000000e+02  4.01754386e-01  1.17667376e+05  1.00000000e+01\n",
      "  5.00000000e-01  0.00000000e+00 -2.49708161e-02  1.49363000e+05\n",
      "  5.88336882e+04  1.59349126e-06  8.13110000e-02  1.98245614e-01\n",
      "  9.66666667e-01  2.75752728e-06  1.62340750e-01  4.33347058e-01\n",
      "  1.49098131e-03             nan -1.19727335e+00  9.37509679e-02\n",
      "             nan]\n",
      "125.0\n"
     ]
    },
    {
     "name": "stderr",
     "output_type": "stream",
     "text": [
      "/Users/swebb/opt/anaconda3/lib/python3.9/site-packages/statsmodels/tsa/stattools.py:667: FutureWarning: fft=True will become the default after the release of the 0.12 release of statsmodels. To suppress this warning, explicitly set fft=False.\n",
      "  warnings.warn(\n",
      "/Users/swebb/opt/anaconda3/lib/python3.9/site-packages/numpy/core/fromnumeric.py:3419: RuntimeWarning: Mean of empty slice.\n",
      "  return _methods._mean(a, axis=axis, dtype=dtype,\n",
      "/Users/swebb/opt/anaconda3/lib/python3.9/site-packages/numpy/core/_methods.py:188: RuntimeWarning: invalid value encountered in double_scalars\n",
      "  ret = ret.dtype.type(ret / rcount)\n",
      "/Users/swebb/opt/anaconda3/lib/python3.9/site-packages/numpy/core/_methods.py:261: RuntimeWarning: Degrees of freedom <= 0 for slice\n",
      "  ret = _var(a, axis=axis, dtype=dtype, out=out, ddof=ddof,\n",
      "/Users/swebb/opt/anaconda3/lib/python3.9/site-packages/numpy/core/_methods.py:221: RuntimeWarning: invalid value encountered in true_divide\n",
      "  arrmean = um.true_divide(arrmean, div, out=arrmean, casting='unsafe',\n",
      "/Users/swebb/opt/anaconda3/lib/python3.9/site-packages/numpy/core/_methods.py:253: RuntimeWarning: invalid value encountered in double_scalars\n",
      "  ret = ret.dtype.type(ret / rcount)\n",
      "/Users/swebb/opt/anaconda3/lib/python3.9/site-packages/feets/extractors/ext_stetson.py:247: RuntimeWarning: divide by zero encountered in double_scalars\n",
      "  K = (1 / np.sqrt(N_autocor * 1.0) *\n",
      "/Users/swebb/opt/anaconda3/lib/python3.9/site-packages/feets/extractors/ext_stetson.py:247: RuntimeWarning: invalid value encountered in double_scalars\n",
      "  K = (1 / np.sqrt(N_autocor * 1.0) *\n",
      "/Users/swebb/opt/anaconda3/lib/python3.9/site-packages/feets/extractors/ext_max_slope.py:91: RuntimeWarning: divide by zero encountered in true_divide\n",
      "  slope = np.abs(magnitude[1:] - magnitude[:-1]) / (time[1:] - time[:-1])\n"
     ]
    },
    {
     "name": "stdout",
     "output_type": "stream",
     "text": [
      "['Autocor_length' 'Beyond1Std' 'CAR_mean' 'CAR_sigma' 'CAR_tau' 'Con'\n",
      " 'LinearTrend' 'MaxSlope' 'Mean' 'Meanvariance' 'MedianAbsDev' 'MedianBRP'\n",
      " 'PairSlopeTrend' 'PercentAmplitude' 'Q31' 'Rcs' 'Skew' 'SlottedA_length'\n",
      " 'SmallKurtosis' 'Std' 'StetsonK_AC'] [ 1.25000000e+02  4.03508772e-01  1.17667376e+05  1.00000000e+01\n",
      "  5.00000000e-01  0.00000000e+00  9.53345905e-01             inf\n",
      "  5.88336882e+04  1.59349126e-06  8.13110000e-02  1.98245614e-01\n",
      "  9.66666667e-01  2.75752728e-06  1.62340750e-01  4.33347058e-01\n",
      "  1.49098131e-03             nan -1.19727335e+00  9.37509679e-02\n",
      "             nan]\n",
      "125.0\n"
     ]
    },
    {
     "name": "stderr",
     "output_type": "stream",
     "text": [
      "/Users/swebb/opt/anaconda3/lib/python3.9/site-packages/statsmodels/tsa/stattools.py:667: FutureWarning: fft=True will become the default after the release of the 0.12 release of statsmodels. To suppress this warning, explicitly set fft=False.\n",
      "  warnings.warn(\n"
     ]
    },
    {
     "name": "stdout",
     "output_type": "stream",
     "text": [
      "['Autocor_length' 'Beyond1Std' 'CAR_mean' 'CAR_sigma' 'CAR_tau' 'Con'\n",
      " 'LinearTrend' 'MaxSlope' 'Mean' 'Meanvariance' 'MedianAbsDev' 'MedianBRP'\n",
      " 'PairSlopeTrend' 'PercentAmplitude' 'Q31' 'Rcs' 'Skew' 'SlottedA_length'\n",
      " 'SmallKurtosis' 'Std' 'StetsonK_AC'] [ 1.24000000e+02  4.20774648e-01  1.17667377e+05  1.00000000e+01\n",
      "  5.00000000e-01  0.00000000e+00  4.08919309e-02  2.64286000e+05\n",
      "  5.88336886e+04  1.59318694e-06  8.10295000e-02  1.98943662e-01\n",
      "  9.66666667e-01  2.75805417e-06  1.61779000e-01  4.33106005e-01\n",
      " -5.48602979e-03  1.00000000e+00 -1.19385188e+00  9.37330642e-02\n",
      "  1.00000000e+00]\n",
      "124.0\n"
     ]
    },
    {
     "name": "stderr",
     "output_type": "stream",
     "text": [
      "/Users/swebb/opt/anaconda3/lib/python3.9/site-packages/numpy/core/fromnumeric.py:3419: RuntimeWarning: Mean of empty slice.\n",
      "  return _methods._mean(a, axis=axis, dtype=dtype,\n",
      "/Users/swebb/opt/anaconda3/lib/python3.9/site-packages/numpy/core/_methods.py:188: RuntimeWarning: invalid value encountered in double_scalars\n",
      "  ret = ret.dtype.type(ret / rcount)\n",
      "/Users/swebb/opt/anaconda3/lib/python3.9/site-packages/numpy/core/_methods.py:261: RuntimeWarning: Degrees of freedom <= 0 for slice\n",
      "  ret = _var(a, axis=axis, dtype=dtype, out=out, ddof=ddof,\n",
      "/Users/swebb/opt/anaconda3/lib/python3.9/site-packages/numpy/core/_methods.py:221: RuntimeWarning: invalid value encountered in true_divide\n",
      "  arrmean = um.true_divide(arrmean, div, out=arrmean, casting='unsafe',\n",
      "/Users/swebb/opt/anaconda3/lib/python3.9/site-packages/numpy/core/_methods.py:253: RuntimeWarning: invalid value encountered in double_scalars\n",
      "  ret = ret.dtype.type(ret / rcount)\n",
      "/Users/swebb/opt/anaconda3/lib/python3.9/site-packages/feets/extractors/ext_stetson.py:247: RuntimeWarning: divide by zero encountered in double_scalars\n",
      "  K = (1 / np.sqrt(N_autocor * 1.0) *\n",
      "/Users/swebb/opt/anaconda3/lib/python3.9/site-packages/feets/extractors/ext_stetson.py:247: RuntimeWarning: invalid value encountered in double_scalars\n",
      "  K = (1 / np.sqrt(N_autocor * 1.0) *\n",
      "/Users/swebb/opt/anaconda3/lib/python3.9/site-packages/statsmodels/tsa/stattools.py:667: FutureWarning: fft=True will become the default after the release of the 0.12 release of statsmodels. To suppress this warning, explicitly set fft=False.\n",
      "  warnings.warn(\n"
     ]
    },
    {
     "name": "stdout",
     "output_type": "stream",
     "text": [
      "['Autocor_length' 'Beyond1Std' 'CAR_mean' 'CAR_sigma' 'CAR_tau' 'Con'\n",
      " 'LinearTrend' 'MaxSlope' 'Mean' 'Meanvariance' 'MedianAbsDev' 'MedianBRP'\n",
      " 'PairSlopeTrend' 'PercentAmplitude' 'Q31' 'Rcs' 'Skew' 'SlottedA_length'\n",
      " 'SmallKurtosis' 'Std' 'StetsonK_AC'] [ 1.25000000e+02  4.21052632e-01  1.17667376e+05  1.00000000e+01\n",
      "  5.00000000e-01  0.00000000e+00  1.67060589e+00  4.38760000e+04\n",
      "  5.88336882e+04  1.59349126e-06  8.13110000e-02  1.98245614e-01\n",
      "  9.66666667e-01  2.75752728e-06  1.62340750e-01  4.33347058e-01\n",
      "  1.49098131e-03             nan -1.19727335e+00  9.37509679e-02\n",
      "             nan]\n",
      "125.0\n"
     ]
    },
    {
     "name": "stderr",
     "output_type": "stream",
     "text": [
      "/Users/swebb/opt/anaconda3/lib/python3.9/site-packages/statsmodels/tsa/stattools.py:667: FutureWarning: fft=True will become the default after the release of the 0.12 release of statsmodels. To suppress this warning, explicitly set fft=False.\n",
      "  warnings.warn(\n"
     ]
    },
    {
     "name": "stdout",
     "output_type": "stream",
     "text": [
      "['Autocor_length' 'Beyond1Std' 'CAR_mean' 'CAR_sigma' 'CAR_tau' 'Con'\n",
      " 'LinearTrend' 'MaxSlope' 'Mean' 'Meanvariance' 'MedianAbsDev' 'MedianBRP'\n",
      " 'PairSlopeTrend' 'PercentAmplitude' 'Q31' 'Rcs' 'Skew' 'SlottedA_length'\n",
      " 'SmallKurtosis' 'Std' 'StetsonK_AC'] [ 1.03000000e+02  4.17355372e-01  1.17667393e+05  1.00000000e+01\n",
      "  5.00000000e-01  0.00000000e+00 -5.17954248e-02  1.50284500e+05\n",
      "  5.88336963e+04  1.55792482e-06  7.61815000e-02  2.31404959e-01\n",
      "  9.66666667e-01  2.92962203e-06  1.52798500e-01  4.27139260e-01\n",
      " -8.25497006e-02  1.00000000e+00 -1.12034803e+00  9.16584757e-02\n",
      "  8.46938315e-01]\n",
      "103.0\n"
     ]
    },
    {
     "name": "stderr",
     "output_type": "stream",
     "text": [
      "/Users/swebb/opt/anaconda3/lib/python3.9/site-packages/numpy/core/fromnumeric.py:3419: RuntimeWarning: Mean of empty slice.\n",
      "  return _methods._mean(a, axis=axis, dtype=dtype,\n",
      "/Users/swebb/opt/anaconda3/lib/python3.9/site-packages/numpy/core/_methods.py:188: RuntimeWarning: invalid value encountered in double_scalars\n",
      "  ret = ret.dtype.type(ret / rcount)\n",
      "/Users/swebb/opt/anaconda3/lib/python3.9/site-packages/numpy/core/_methods.py:261: RuntimeWarning: Degrees of freedom <= 0 for slice\n",
      "  ret = _var(a, axis=axis, dtype=dtype, out=out, ddof=ddof,\n",
      "/Users/swebb/opt/anaconda3/lib/python3.9/site-packages/numpy/core/_methods.py:221: RuntimeWarning: invalid value encountered in true_divide\n",
      "  arrmean = um.true_divide(arrmean, div, out=arrmean, casting='unsafe',\n",
      "/Users/swebb/opt/anaconda3/lib/python3.9/site-packages/numpy/core/_methods.py:253: RuntimeWarning: invalid value encountered in double_scalars\n",
      "  ret = ret.dtype.type(ret / rcount)\n",
      "/Users/swebb/opt/anaconda3/lib/python3.9/site-packages/feets/extractors/ext_stetson.py:247: RuntimeWarning: divide by zero encountered in double_scalars\n",
      "  K = (1 / np.sqrt(N_autocor * 1.0) *\n",
      "/Users/swebb/opt/anaconda3/lib/python3.9/site-packages/feets/extractors/ext_stetson.py:247: RuntimeWarning: invalid value encountered in double_scalars\n",
      "  K = (1 / np.sqrt(N_autocor * 1.0) *\n",
      "/Users/swebb/opt/anaconda3/lib/python3.9/site-packages/statsmodels/tsa/stattools.py:667: FutureWarning: fft=True will become the default after the release of the 0.12 release of statsmodels. To suppress this warning, explicitly set fft=False.\n",
      "  warnings.warn(\n",
      "/Users/swebb/opt/anaconda3/lib/python3.9/site-packages/feets/extractors/ext_max_slope.py:91: RuntimeWarning: divide by zero encountered in true_divide\n",
      "  slope = np.abs(magnitude[1:] - magnitude[:-1]) / (time[1:] - time[:-1])\n"
     ]
    },
    {
     "name": "stdout",
     "output_type": "stream",
     "text": [
      "['Autocor_length' 'Beyond1Std' 'CAR_mean' 'CAR_sigma' 'CAR_tau' 'Con'\n",
      " 'LinearTrend' 'MaxSlope' 'Mean' 'Meanvariance' 'MedianAbsDev' 'MedianBRP'\n",
      " 'PairSlopeTrend' 'PercentAmplitude' 'Q31' 'Rcs' 'Skew' 'SlottedA_length'\n",
      " 'SmallKurtosis' 'Std' 'StetsonK_AC'] [ 1.24000000e+02  4.00702988e-01  1.17667376e+05  1.00000000e+01\n",
      "  5.00000000e-01  0.00000000e+00 -1.48655575e-01             inf\n",
      "  5.88336881e+04  1.59386763e-06  8.14740000e-02  1.98594025e-01\n",
      "  9.66666667e-01  2.76236296e-06  1.62622000e-01  4.33254262e-01\n",
      "  4.90077104e-03             nan -1.19671692e+00  9.37731107e-02\n",
      "             nan]\n",
      "124.0\n"
     ]
    },
    {
     "name": "stderr",
     "output_type": "stream",
     "text": [
      "/Users/swebb/opt/anaconda3/lib/python3.9/site-packages/feets/extractors/ext_max_slope.py:91: RuntimeWarning: divide by zero encountered in true_divide\n",
      "  slope = np.abs(magnitude[1:] - magnitude[:-1]) / (time[1:] - time[:-1])\n",
      "/Users/swebb/opt/anaconda3/lib/python3.9/site-packages/statsmodels/tsa/stattools.py:667: FutureWarning: fft=True will become the default after the release of the 0.12 release of statsmodels. To suppress this warning, explicitly set fft=False.\n",
      "  warnings.warn(\n"
     ]
    },
    {
     "name": "stdout",
     "output_type": "stream",
     "text": [
      "['Autocor_length' 'Beyond1Std' 'CAR_mean' 'CAR_sigma' 'CAR_tau' 'Con'\n",
      " 'LinearTrend' 'MaxSlope' 'Mean' 'Meanvariance' 'MedianAbsDev' 'MedianBRP'\n",
      " 'PairSlopeTrend' 'PercentAmplitude' 'Q31' 'Rcs' 'Skew' 'SlottedA_length'\n",
      " 'SmallKurtosis' 'Std' 'StetsonK_AC'] [ 1.11000000e+02  4.10714286e-01  1.17667399e+05  1.00000000e+01\n",
      "  5.00000000e-01  0.00000000e+00 -8.71292959e-02             inf\n",
      "  5.88336993e+04  1.50617530e-06  7.59115000e-02  1.90476190e-01\n",
      "  9.66666667e-01  2.72337980e-06  1.51532250e-01  4.34393127e-01\n",
      " -2.29807668e-02  1.00000000e+00 -1.17220216e+00  8.86138644e-02\n",
      "  1.00000000e+00]\n",
      "111.0\n",
      "['Autocor_length' 'Beyond1Std' 'CAR_mean' 'CAR_sigma' 'CAR_tau' 'Con'\n",
      " 'LinearTrend' 'MaxSlope' 'Mean' 'Meanvariance' 'MedianAbsDev' 'MedianBRP'\n",
      " 'PairSlopeTrend' 'PercentAmplitude' 'Q31' 'Rcs' 'Skew' 'SlottedA_length'\n",
      " 'SmallKurtosis' 'Std' 'StetsonK_AC'] [ 1.25000000e+02  4.10526316e-01  1.17667376e+05  1.00000000e+01\n",
      "  5.00000000e-01  0.00000000e+00 -4.35204264e-01  2.63104000e+05\n",
      "  5.88336882e+04  1.59349126e-06  8.13110000e-02  1.98245614e-01\n",
      "  9.66666667e-01  2.75752728e-06  1.62340750e-01  4.33347058e-01\n",
      "  1.49098131e-03  1.00000000e+00 -1.19727335e+00  9.37509679e-02\n",
      "  1.00000000e+00]\n",
      "125.0\n"
     ]
    },
    {
     "name": "stderr",
     "output_type": "stream",
     "text": [
      "/Users/swebb/opt/anaconda3/lib/python3.9/site-packages/numpy/core/fromnumeric.py:3419: RuntimeWarning: Mean of empty slice.\n",
      "  return _methods._mean(a, axis=axis, dtype=dtype,\n",
      "/Users/swebb/opt/anaconda3/lib/python3.9/site-packages/numpy/core/_methods.py:188: RuntimeWarning: invalid value encountered in double_scalars\n",
      "  ret = ret.dtype.type(ret / rcount)\n",
      "/Users/swebb/opt/anaconda3/lib/python3.9/site-packages/numpy/core/_methods.py:261: RuntimeWarning: Degrees of freedom <= 0 for slice\n",
      "  ret = _var(a, axis=axis, dtype=dtype, out=out, ddof=ddof,\n",
      "/Users/swebb/opt/anaconda3/lib/python3.9/site-packages/numpy/core/_methods.py:221: RuntimeWarning: invalid value encountered in true_divide\n",
      "  arrmean = um.true_divide(arrmean, div, out=arrmean, casting='unsafe',\n",
      "/Users/swebb/opt/anaconda3/lib/python3.9/site-packages/numpy/core/_methods.py:253: RuntimeWarning: invalid value encountered in double_scalars\n",
      "  ret = ret.dtype.type(ret / rcount)\n",
      "/Users/swebb/opt/anaconda3/lib/python3.9/site-packages/feets/extractors/ext_stetson.py:247: RuntimeWarning: divide by zero encountered in double_scalars\n",
      "  K = (1 / np.sqrt(N_autocor * 1.0) *\n",
      "/Users/swebb/opt/anaconda3/lib/python3.9/site-packages/feets/extractors/ext_stetson.py:247: RuntimeWarning: invalid value encountered in double_scalars\n",
      "  K = (1 / np.sqrt(N_autocor * 1.0) *\n",
      "/Users/swebb/opt/anaconda3/lib/python3.9/site-packages/statsmodels/tsa/stattools.py:667: FutureWarning: fft=True will become the default after the release of the 0.12 release of statsmodels. To suppress this warning, explicitly set fft=False.\n",
      "  warnings.warn(\n"
     ]
    },
    {
     "name": "stdout",
     "output_type": "stream",
     "text": [
      "['Autocor_length' 'Beyond1Std' 'CAR_mean' 'CAR_sigma' 'CAR_tau' 'Con'\n",
      " 'LinearTrend' 'MaxSlope' 'Mean' 'Meanvariance' 'MedianAbsDev' 'MedianBRP'\n",
      " 'PairSlopeTrend' 'PercentAmplitude' 'Q31' 'Rcs' 'Skew' 'SlottedA_length'\n",
      " 'SmallKurtosis' 'Std' 'StetsonK_AC'] [ 9.60000000e+01  4.23076923e-01  1.17667402e+05  1.00000000e+01\n",
      "  5.00000000e-01  0.00000000e+00 -1.07089615e+00  2.71890000e+04\n",
      "  5.88337011e+04  1.61008936e-06  8.04370000e-02  1.92307692e-01\n",
      "  9.66666667e-01  3.05569735e-06  1.61443000e-01  4.32904082e-01\n",
      " -1.83040679e-01             nan -1.18534713e+00  9.47275163e-02\n",
      "             nan]\n",
      "96.0\n"
     ]
    },
    {
     "name": "stderr",
     "output_type": "stream",
     "text": [
      "/Users/swebb/opt/anaconda3/lib/python3.9/site-packages/statsmodels/tsa/stattools.py:667: FutureWarning: fft=True will become the default after the release of the 0.12 release of statsmodels. To suppress this warning, explicitly set fft=False.\n",
      "  warnings.warn(\n"
     ]
    },
    {
     "name": "stdout",
     "output_type": "stream",
     "text": [
      "['Autocor_length' 'Beyond1Std' 'CAR_mean' 'CAR_sigma' 'CAR_tau' 'Con'\n",
      " 'LinearTrend' 'MaxSlope' 'Mean' 'Meanvariance' 'MedianAbsDev' 'MedianBRP'\n",
      " 'PairSlopeTrend' 'PercentAmplitude' 'Q31' 'Rcs' 'Skew' 'SlottedA_length'\n",
      " 'SmallKurtosis' 'Std' 'StetsonK_AC'] [ 1.23000000e+02  4.06749556e-01  1.17667379e+05  1.00000000e+01\n",
      "  5.00000000e-01  0.00000000e+00 -1.18487861e-01  1.24707000e+05\n",
      "  5.88336897e+04  1.58700004e-06  8.05740000e-02  2.00710480e-01\n",
      "  9.66666667e-01  2.78214744e-06  1.60916500e-01  4.32737972e-01\n",
      " -1.62818821e-02             nan -1.18706500e+00  9.33690681e-02\n",
      "  1.00000000e+00]\n",
      "123.0\n"
     ]
    },
    {
     "name": "stderr",
     "output_type": "stream",
     "text": [
      "/Users/swebb/opt/anaconda3/lib/python3.9/site-packages/numpy/core/fromnumeric.py:3419: RuntimeWarning: Mean of empty slice.\n",
      "  return _methods._mean(a, axis=axis, dtype=dtype,\n",
      "/Users/swebb/opt/anaconda3/lib/python3.9/site-packages/numpy/core/_methods.py:188: RuntimeWarning: invalid value encountered in double_scalars\n",
      "  ret = ret.dtype.type(ret / rcount)\n",
      "/Users/swebb/opt/anaconda3/lib/python3.9/site-packages/numpy/core/_methods.py:261: RuntimeWarning: Degrees of freedom <= 0 for slice\n",
      "  ret = _var(a, axis=axis, dtype=dtype, out=out, ddof=ddof,\n",
      "/Users/swebb/opt/anaconda3/lib/python3.9/site-packages/numpy/core/_methods.py:221: RuntimeWarning: invalid value encountered in true_divide\n",
      "  arrmean = um.true_divide(arrmean, div, out=arrmean, casting='unsafe',\n",
      "/Users/swebb/opt/anaconda3/lib/python3.9/site-packages/numpy/core/_methods.py:253: RuntimeWarning: invalid value encountered in double_scalars\n",
      "  ret = ret.dtype.type(ret / rcount)\n",
      "/Users/swebb/opt/anaconda3/lib/python3.9/site-packages/feets/extractors/ext_stetson.py:247: RuntimeWarning: divide by zero encountered in double_scalars\n",
      "  K = (1 / np.sqrt(N_autocor * 1.0) *\n",
      "/Users/swebb/opt/anaconda3/lib/python3.9/site-packages/feets/extractors/ext_stetson.py:247: RuntimeWarning: invalid value encountered in double_scalars\n",
      "  K = (1 / np.sqrt(N_autocor * 1.0) *\n"
     ]
    },
    {
     "name": "stdout",
     "output_type": "stream",
     "text": [
      "['Autocor_length' 'Beyond1Std' 'CAR_mean' 'CAR_sigma' 'CAR_tau' 'Con'\n",
      " 'LinearTrend' 'MaxSlope' 'Mean' 'Meanvariance' 'MedianAbsDev' 'MedianBRP'\n",
      " 'PairSlopeTrend' 'PercentAmplitude' 'Q31' 'Rcs' 'Skew' 'SlottedA_length'\n",
      " 'SmallKurtosis' 'Std' 'StetsonK_AC'] [ 1.23000000e+02  4.10301954e-01  1.17667378e+05  1.00000000e+01\n",
      "  5.00000000e-01  0.00000000e+00  2.31088936e-01  1.24707000e+05\n",
      "  5.88336889e+04  1.59811958e-06  8.17030000e-02  1.97158082e-01\n",
      "  9.66666667e-01  2.77259511e-06  1.63195500e-01  4.33674889e-01\n",
      " -1.24282764e-02             nan -1.20253223e+00  9.40232700e-02\n",
      "             nan]\n",
      "123.0\n"
     ]
    },
    {
     "name": "stderr",
     "output_type": "stream",
     "text": [
      "/Users/swebb/opt/anaconda3/lib/python3.9/site-packages/statsmodels/tsa/stattools.py:667: FutureWarning: fft=True will become the default after the release of the 0.12 release of statsmodels. To suppress this warning, explicitly set fft=False.\n",
      "  warnings.warn(\n",
      "/Users/swebb/opt/anaconda3/lib/python3.9/site-packages/feets/extractors/ext_max_slope.py:91: RuntimeWarning: divide by zero encountered in true_divide\n",
      "  slope = np.abs(magnitude[1:] - magnitude[:-1]) / (time[1:] - time[:-1])\n",
      "/Users/swebb/opt/anaconda3/lib/python3.9/site-packages/numpy/core/fromnumeric.py:3419: RuntimeWarning: Mean of empty slice.\n",
      "  return _methods._mean(a, axis=axis, dtype=dtype,\n",
      "/Users/swebb/opt/anaconda3/lib/python3.9/site-packages/numpy/core/_methods.py:188: RuntimeWarning: invalid value encountered in double_scalars\n",
      "  ret = ret.dtype.type(ret / rcount)\n",
      "/Users/swebb/opt/anaconda3/lib/python3.9/site-packages/numpy/core/_methods.py:261: RuntimeWarning: Degrees of freedom <= 0 for slice\n",
      "  ret = _var(a, axis=axis, dtype=dtype, out=out, ddof=ddof,\n",
      "/Users/swebb/opt/anaconda3/lib/python3.9/site-packages/numpy/core/_methods.py:221: RuntimeWarning: invalid value encountered in true_divide\n",
      "  arrmean = um.true_divide(arrmean, div, out=arrmean, casting='unsafe',\n",
      "/Users/swebb/opt/anaconda3/lib/python3.9/site-packages/numpy/core/_methods.py:253: RuntimeWarning: invalid value encountered in double_scalars\n",
      "  ret = ret.dtype.type(ret / rcount)\n",
      "/Users/swebb/opt/anaconda3/lib/python3.9/site-packages/feets/extractors/ext_stetson.py:247: RuntimeWarning: divide by zero encountered in double_scalars\n",
      "  K = (1 / np.sqrt(N_autocor * 1.0) *\n",
      "/Users/swebb/opt/anaconda3/lib/python3.9/site-packages/feets/extractors/ext_stetson.py:247: RuntimeWarning: invalid value encountered in double_scalars\n",
      "  K = (1 / np.sqrt(N_autocor * 1.0) *\n"
     ]
    },
    {
     "name": "stdout",
     "output_type": "stream",
     "text": [
      "['Autocor_length' 'Beyond1Std' 'CAR_mean' 'CAR_sigma' 'CAR_tau' 'Con'\n",
      " 'LinearTrend' 'MaxSlope' 'Mean' 'Meanvariance' 'MedianAbsDev' 'MedianBRP'\n",
      " 'PairSlopeTrend' 'PercentAmplitude' 'Q31' 'Rcs' 'Skew' 'SlottedA_length'\n",
      " 'SmallKurtosis' 'Std' 'StetsonK_AC'] [ 1.24000000e+02  4.11247803e-01  1.17667377e+05  1.00000000e+01\n",
      "  5.00000000e-01  0.00000000e+00 -5.14125827e-01             inf\n",
      "  5.88336884e+04  1.59415877e-06  8.14890000e-02  1.98594025e-01\n",
      "  9.66666667e-01  2.75325251e-06  1.62622000e-01  4.33291460e-01\n",
      " -1.65446606e-03             nan -1.19760112e+00  9.37902402e-02\n",
      "             nan]\n",
      "124.0\n"
     ]
    },
    {
     "name": "stderr",
     "output_type": "stream",
     "text": [
      "/Users/swebb/opt/anaconda3/lib/python3.9/site-packages/feets/extractors/ext_max_slope.py:91: RuntimeWarning: divide by zero encountered in true_divide\n",
      "  slope = np.abs(magnitude[1:] - magnitude[:-1]) / (time[1:] - time[:-1])\n",
      "/Users/swebb/opt/anaconda3/lib/python3.9/site-packages/statsmodels/tsa/stattools.py:667: FutureWarning: fft=True will become the default after the release of the 0.12 release of statsmodels. To suppress this warning, explicitly set fft=False.\n",
      "  warnings.warn(\n"
     ]
    },
    {
     "name": "stdout",
     "output_type": "stream",
     "text": [
      "['Autocor_length' 'Beyond1Std' 'CAR_mean' 'CAR_sigma' 'CAR_tau' 'Con'\n",
      " 'LinearTrend' 'MaxSlope' 'Mean' 'Meanvariance' 'MedianAbsDev' 'MedianBRP'\n",
      " 'PairSlopeTrend' 'PercentAmplitude' 'Q31' 'Rcs' 'Skew' 'SlottedA_length'\n",
      " 'SmallKurtosis' 'Std' 'StetsonK_AC'] [ 1.25000000e+02  4.20035149e-01  1.17667377e+05  1.00000000e+01\n",
      "  5.00000000e-01  0.00000000e+00 -2.77587823e-01             inf\n",
      "  5.88336883e+04  1.59488229e-06  8.14890000e-02  1.96836555e-01\n",
      "  9.66666667e-01  2.75325251e-06  1.62622000e-01  4.33661100e-01\n",
      "  1.07769273e-03  1.00000000e+00 -1.20041424e+00  9.38328075e-02\n",
      "  1.00000000e+00]\n",
      "125.0\n",
      "['Autocor_length' 'Beyond1Std' 'CAR_mean' 'CAR_sigma' 'CAR_tau' 'Con'\n",
      " 'LinearTrend' 'MaxSlope' 'Mean' 'Meanvariance' 'MedianAbsDev' 'MedianBRP'\n",
      " 'PairSlopeTrend' 'PercentAmplitude' 'Q31' 'Rcs' 'Skew' 'SlottedA_length'\n",
      " 'SmallKurtosis' 'Std' 'StetsonK_AC'] [ 1.14000000e+02  4.19047619e-01  1.17667385e+05  1.00000000e+01\n",
      "  5.00000000e-01  0.00000000e+00 -2.61175731e-01  1.91647000e+05\n",
      "  5.88336925e+04  1.59392738e-06  8.10990000e-02  2.07619048e-01\n",
      "  9.66666667e-01  2.84073615e-06  1.61440000e-01  4.31987107e-01\n",
      " -4.39424990e-02  1.00000000e+00 -1.18992260e+00  9.37766335e-02\n",
      "  1.00000000e+00]\n",
      "114.0\n"
     ]
    },
    {
     "name": "stderr",
     "output_type": "stream",
     "text": [
      "/Users/swebb/opt/anaconda3/lib/python3.9/site-packages/statsmodels/tsa/stattools.py:667: FutureWarning: fft=True will become the default after the release of the 0.12 release of statsmodels. To suppress this warning, explicitly set fft=False.\n",
      "  warnings.warn(\n"
     ]
    },
    {
     "name": "stdout",
     "output_type": "stream",
     "text": [
      "['Autocor_length' 'Beyond1Std' 'CAR_mean' 'CAR_sigma' 'CAR_tau' 'Con'\n",
      " 'LinearTrend' 'MaxSlope' 'Mean' 'Meanvariance' 'MedianAbsDev' 'MedianBRP'\n",
      " 'PairSlopeTrend' 'PercentAmplitude' 'Q31' 'Rcs' 'Skew' 'SlottedA_length'\n",
      " 'SmallKurtosis' 'Std' 'StetsonK_AC'] [ 1.04000000e+02  4.23799582e-01  1.17667396e+05  1.00000000e+01\n",
      "  5.00000000e-01  0.00000000e+00  4.79383671e-01  1.71080000e+04\n",
      "  5.88336981e+04  1.60470277e-06  8.06530000e-02  2.00417537e-01\n",
      "  9.66666667e-01  3.02185631e-06  1.60916500e-01  4.32564817e-01\n",
      " -1.50551102e-01  1.00000000e+00 -1.17488027e+00  9.44105983e-02\n",
      "  1.00000000e+00]\n",
      "104.0\n"
     ]
    },
    {
     "name": "stderr",
     "output_type": "stream",
     "text": [
      "/Users/swebb/opt/anaconda3/lib/python3.9/site-packages/numpy/core/fromnumeric.py:3419: RuntimeWarning: Mean of empty slice.\n",
      "  return _methods._mean(a, axis=axis, dtype=dtype,\n",
      "/Users/swebb/opt/anaconda3/lib/python3.9/site-packages/numpy/core/_methods.py:188: RuntimeWarning: invalid value encountered in double_scalars\n",
      "  ret = ret.dtype.type(ret / rcount)\n",
      "/Users/swebb/opt/anaconda3/lib/python3.9/site-packages/numpy/core/_methods.py:261: RuntimeWarning: Degrees of freedom <= 0 for slice\n",
      "  ret = _var(a, axis=axis, dtype=dtype, out=out, ddof=ddof,\n",
      "/Users/swebb/opt/anaconda3/lib/python3.9/site-packages/numpy/core/_methods.py:221: RuntimeWarning: invalid value encountered in true_divide\n",
      "  arrmean = um.true_divide(arrmean, div, out=arrmean, casting='unsafe',\n",
      "/Users/swebb/opt/anaconda3/lib/python3.9/site-packages/numpy/core/_methods.py:253: RuntimeWarning: invalid value encountered in double_scalars\n",
      "  ret = ret.dtype.type(ret / rcount)\n",
      "/Users/swebb/opt/anaconda3/lib/python3.9/site-packages/feets/extractors/ext_stetson.py:247: RuntimeWarning: divide by zero encountered in double_scalars\n",
      "  K = (1 / np.sqrt(N_autocor * 1.0) *\n",
      "/Users/swebb/opt/anaconda3/lib/python3.9/site-packages/feets/extractors/ext_stetson.py:247: RuntimeWarning: invalid value encountered in double_scalars\n",
      "  K = (1 / np.sqrt(N_autocor * 1.0) *\n",
      "/Users/swebb/opt/anaconda3/lib/python3.9/site-packages/statsmodels/tsa/stattools.py:667: FutureWarning: fft=True will become the default after the release of the 0.12 release of statsmodels. To suppress this warning, explicitly set fft=False.\n",
      "  warnings.warn(\n",
      "/Users/swebb/opt/anaconda3/lib/python3.9/site-packages/feets/extractors/ext_max_slope.py:91: RuntimeWarning: divide by zero encountered in true_divide\n",
      "  slope = np.abs(magnitude[1:] - magnitude[:-1]) / (time[1:] - time[:-1])\n"
     ]
    },
    {
     "name": "stdout",
     "output_type": "stream",
     "text": [
      "['Autocor_length' 'Beyond1Std' 'CAR_mean' 'CAR_sigma' 'CAR_tau' 'Con'\n",
      " 'LinearTrend' 'MaxSlope' 'Mean' 'Meanvariance' 'MedianAbsDev' 'MedianBRP'\n",
      " 'PairSlopeTrend' 'PercentAmplitude' 'Q31' 'Rcs' 'Skew' 'SlottedA_length'\n",
      " 'SmallKurtosis' 'Std' 'StetsonK_AC'] [ 1.24000000e+02  4.06690141e-01  1.17667377e+05  1.00000000e+01\n",
      "  5.00000000e-01  0.00000000e+00  3.09184019e-01             inf\n",
      "  5.88336883e+04  1.59225636e-06  8.10300000e-02  1.98943662e-01\n",
      "  9.66666667e-01  2.75752728e-06  1.61778250e-01  4.33101508e-01\n",
      "  1.90337892e-03             nan -1.19275253e+00  9.36783142e-02\n",
      "             nan]\n",
      "124.0\n"
     ]
    },
    {
     "name": "stderr",
     "output_type": "stream",
     "text": [
      "/Users/swebb/opt/anaconda3/lib/python3.9/site-packages/numpy/core/fromnumeric.py:3419: RuntimeWarning: Mean of empty slice.\n",
      "  return _methods._mean(a, axis=axis, dtype=dtype,\n",
      "/Users/swebb/opt/anaconda3/lib/python3.9/site-packages/numpy/core/_methods.py:188: RuntimeWarning: invalid value encountered in double_scalars\n",
      "  ret = ret.dtype.type(ret / rcount)\n",
      "/Users/swebb/opt/anaconda3/lib/python3.9/site-packages/numpy/core/_methods.py:261: RuntimeWarning: Degrees of freedom <= 0 for slice\n",
      "  ret = _var(a, axis=axis, dtype=dtype, out=out, ddof=ddof,\n",
      "/Users/swebb/opt/anaconda3/lib/python3.9/site-packages/numpy/core/_methods.py:221: RuntimeWarning: invalid value encountered in true_divide\n",
      "  arrmean = um.true_divide(arrmean, div, out=arrmean, casting='unsafe',\n",
      "/Users/swebb/opt/anaconda3/lib/python3.9/site-packages/numpy/core/_methods.py:253: RuntimeWarning: invalid value encountered in double_scalars\n",
      "  ret = ret.dtype.type(ret / rcount)\n",
      "/Users/swebb/opt/anaconda3/lib/python3.9/site-packages/feets/extractors/ext_stetson.py:247: RuntimeWarning: divide by zero encountered in double_scalars\n",
      "  K = (1 / np.sqrt(N_autocor * 1.0) *\n",
      "/Users/swebb/opt/anaconda3/lib/python3.9/site-packages/feets/extractors/ext_stetson.py:247: RuntimeWarning: invalid value encountered in double_scalars\n",
      "  K = (1 / np.sqrt(N_autocor * 1.0) *\n",
      "/Users/swebb/opt/anaconda3/lib/python3.9/site-packages/feets/extractors/ext_max_slope.py:91: RuntimeWarning: divide by zero encountered in true_divide\n",
      "  slope = np.abs(magnitude[1:] - magnitude[:-1]) / (time[1:] - time[:-1])\n"
     ]
    },
    {
     "name": "stdout",
     "output_type": "stream",
     "text": [
      "['Autocor_length' 'Beyond1Std' 'CAR_mean' 'CAR_sigma' 'CAR_tau' 'Con'\n",
      " 'LinearTrend' 'MaxSlope' 'Mean' 'Meanvariance' 'MedianAbsDev' 'MedianBRP'\n",
      " 'PairSlopeTrend' 'PercentAmplitude' 'Q31' 'Rcs' 'Skew' 'SlottedA_length'\n",
      " 'SmallKurtosis' 'Std' 'StetsonK_AC'] [ 1.25000000e+02  4.21052632e-01  1.17667376e+05  1.00000000e+01\n",
      "  5.00000000e-01  0.00000000e+00 -1.97815977e+00             inf\n",
      "  5.88336882e+04  1.59349126e-06  8.13110000e-02  1.98245614e-01\n",
      "  9.66666667e-01  2.75752728e-06  1.62340750e-01  4.33347058e-01\n",
      "  1.49098131e-03             nan -1.19727335e+00  9.37509679e-02\n",
      "             nan]\n",
      "125.0\n"
     ]
    },
    {
     "name": "stderr",
     "output_type": "stream",
     "text": [
      "/Users/swebb/opt/anaconda3/lib/python3.9/site-packages/numpy/core/fromnumeric.py:3419: RuntimeWarning: Mean of empty slice.\n",
      "  return _methods._mean(a, axis=axis, dtype=dtype,\n",
      "/Users/swebb/opt/anaconda3/lib/python3.9/site-packages/numpy/core/_methods.py:188: RuntimeWarning: invalid value encountered in double_scalars\n",
      "  ret = ret.dtype.type(ret / rcount)\n",
      "/Users/swebb/opt/anaconda3/lib/python3.9/site-packages/numpy/core/_methods.py:261: RuntimeWarning: Degrees of freedom <= 0 for slice\n",
      "  ret = _var(a, axis=axis, dtype=dtype, out=out, ddof=ddof,\n",
      "/Users/swebb/opt/anaconda3/lib/python3.9/site-packages/numpy/core/_methods.py:221: RuntimeWarning: invalid value encountered in true_divide\n",
      "  arrmean = um.true_divide(arrmean, div, out=arrmean, casting='unsafe',\n",
      "/Users/swebb/opt/anaconda3/lib/python3.9/site-packages/numpy/core/_methods.py:253: RuntimeWarning: invalid value encountered in double_scalars\n",
      "  ret = ret.dtype.type(ret / rcount)\n",
      "/Users/swebb/opt/anaconda3/lib/python3.9/site-packages/feets/extractors/ext_stetson.py:247: RuntimeWarning: divide by zero encountered in double_scalars\n",
      "  K = (1 / np.sqrt(N_autocor * 1.0) *\n",
      "/Users/swebb/opt/anaconda3/lib/python3.9/site-packages/feets/extractors/ext_stetson.py:247: RuntimeWarning: invalid value encountered in double_scalars\n",
      "  K = (1 / np.sqrt(N_autocor * 1.0) *\n",
      "/Users/swebb/opt/anaconda3/lib/python3.9/site-packages/statsmodels/tsa/stattools.py:667: FutureWarning: fft=True will become the default after the release of the 0.12 release of statsmodels. To suppress this warning, explicitly set fft=False.\n",
      "  warnings.warn(\n"
     ]
    },
    {
     "name": "stdout",
     "output_type": "stream",
     "text": [
      "['Autocor_length' 'Beyond1Std' 'CAR_mean' 'CAR_sigma' 'CAR_tau' 'Con'\n",
      " 'LinearTrend' 'MaxSlope' 'Mean' 'Meanvariance' 'MedianAbsDev' 'MedianBRP'\n",
      " 'PairSlopeTrend' 'PercentAmplitude' 'Q31' 'Rcs' 'Skew' 'SlottedA_length'\n",
      " 'SmallKurtosis' 'Std' 'StetsonK_AC'] [ 1.25000000e+02  4.08771930e-01  1.17667376e+05  1.00000000e+01\n",
      "  5.00000000e-01  0.00000000e+00  3.42957477e-01             inf\n",
      "  5.88336882e+04  1.59349126e-06  8.13110000e-02  1.98245614e-01\n",
      "  9.66666667e-01  2.75752728e-06  1.62340750e-01  4.33347058e-01\n",
      "  1.49098131e-03             nan -1.19727335e+00  9.37509679e-02\n",
      "             nan]\n",
      "125.0\n",
      "['Autocor_length' 'Beyond1Std' 'CAR_mean' 'CAR_sigma' 'CAR_tau' 'Con'\n",
      " 'LinearTrend' 'MaxSlope' 'Mean' 'Meanvariance' 'MedianAbsDev' 'MedianBRP'\n",
      " 'PairSlopeTrend' 'PercentAmplitude' 'Q31' 'Rcs' 'Skew' 'SlottedA_length'\n",
      " 'SmallKurtosis' 'Std' 'StetsonK_AC'] [ 1.25000000e+02  4.22807018e-01  1.17667376e+05  1.00000000e+01\n",
      "  5.00000000e-01  0.00000000e+00  1.30735118e+00  6.26919999e+04\n",
      "  5.88336882e+04  1.59349126e-06  8.13110000e-02  1.98245614e-01\n",
      "  9.66666667e-01  2.75752728e-06  1.62340750e-01  4.33347058e-01\n",
      "  1.49098131e-03             nan -1.19727335e+00  9.37509679e-02\n",
      "             nan]\n",
      "125.0\n"
     ]
    },
    {
     "name": "stderr",
     "output_type": "stream",
     "text": [
      "/Users/swebb/opt/anaconda3/lib/python3.9/site-packages/numpy/core/fromnumeric.py:3419: RuntimeWarning: Mean of empty slice.\n",
      "  return _methods._mean(a, axis=axis, dtype=dtype,\n",
      "/Users/swebb/opt/anaconda3/lib/python3.9/site-packages/numpy/core/_methods.py:188: RuntimeWarning: invalid value encountered in double_scalars\n",
      "  ret = ret.dtype.type(ret / rcount)\n",
      "/Users/swebb/opt/anaconda3/lib/python3.9/site-packages/numpy/core/_methods.py:261: RuntimeWarning: Degrees of freedom <= 0 for slice\n",
      "  ret = _var(a, axis=axis, dtype=dtype, out=out, ddof=ddof,\n",
      "/Users/swebb/opt/anaconda3/lib/python3.9/site-packages/numpy/core/_methods.py:221: RuntimeWarning: invalid value encountered in true_divide\n",
      "  arrmean = um.true_divide(arrmean, div, out=arrmean, casting='unsafe',\n",
      "/Users/swebb/opt/anaconda3/lib/python3.9/site-packages/numpy/core/_methods.py:253: RuntimeWarning: invalid value encountered in double_scalars\n",
      "  ret = ret.dtype.type(ret / rcount)\n",
      "/Users/swebb/opt/anaconda3/lib/python3.9/site-packages/feets/extractors/ext_stetson.py:247: RuntimeWarning: divide by zero encountered in double_scalars\n",
      "  K = (1 / np.sqrt(N_autocor * 1.0) *\n",
      "/Users/swebb/opt/anaconda3/lib/python3.9/site-packages/feets/extractors/ext_stetson.py:247: RuntimeWarning: invalid value encountered in double_scalars\n",
      "  K = (1 / np.sqrt(N_autocor * 1.0) *\n",
      "/Users/swebb/opt/anaconda3/lib/python3.9/site-packages/feets/extractors/ext_max_slope.py:91: RuntimeWarning: divide by zero encountered in true_divide\n",
      "  slope = np.abs(magnitude[1:] - magnitude[:-1]) / (time[1:] - time[:-1])\n",
      "/Users/swebb/opt/anaconda3/lib/python3.9/site-packages/statsmodels/tsa/stattools.py:667: FutureWarning: fft=True will become the default after the release of the 0.12 release of statsmodels. To suppress this warning, explicitly set fft=False.\n",
      "  warnings.warn(\n"
     ]
    },
    {
     "name": "stdout",
     "output_type": "stream",
     "text": [
      "['Autocor_length' 'Beyond1Std' 'CAR_mean' 'CAR_sigma' 'CAR_tau' 'Con'\n",
      " 'LinearTrend' 'MaxSlope' 'Mean' 'Meanvariance' 'MedianAbsDev' 'MedianBRP'\n",
      " 'PairSlopeTrend' 'PercentAmplitude' 'Q31' 'Rcs' 'Skew' 'SlottedA_length'\n",
      " 'SmallKurtosis' 'Std' 'StetsonK_AC'] [ 1.25000000e+02  4.10526316e-01  1.17667376e+05  1.00000000e+01\n",
      "  5.00000000e-01  0.00000000e+00 -8.72096338e-02             inf\n",
      "  5.88336882e+04  1.59349126e-06  8.13110000e-02  1.98245614e-01\n",
      "  9.66666667e-01  2.75752728e-06  1.62340750e-01  4.33347058e-01\n",
      "  1.49098131e-03             nan -1.19727335e+00  9.37509679e-02\n",
      "             nan]\n",
      "125.0\n",
      "['Autocor_length' 'Beyond1Std' 'CAR_mean' 'CAR_sigma' 'CAR_tau' 'Con'\n",
      " 'LinearTrend' 'MaxSlope' 'Mean' 'Meanvariance' 'MedianAbsDev' 'MedianBRP'\n",
      " 'PairSlopeTrend' 'PercentAmplitude' 'Q31' 'Rcs' 'Skew' 'SlottedA_length'\n",
      " 'SmallKurtosis' 'Std' 'StetsonK_AC'] [ 1.25000000e+02  4.22807018e-01  1.17667376e+05  1.00000000e+01\n",
      "  5.00000000e-01  0.00000000e+00 -4.19481983e-01  8.26000000e+03\n",
      "  5.88336882e+04  1.59349126e-06  8.13110000e-02  1.98245614e-01\n",
      "  9.66666667e-01  2.75752728e-06  1.62340750e-01  4.33347058e-01\n",
      "  1.49098131e-03  1.00000000e+00 -1.19727335e+00  9.37509679e-02\n",
      "  1.00000000e+00]\n",
      "125.0\n"
     ]
    },
    {
     "name": "stderr",
     "output_type": "stream",
     "text": [
      "/Users/swebb/opt/anaconda3/lib/python3.9/site-packages/statsmodels/tsa/stattools.py:667: FutureWarning: fft=True will become the default after the release of the 0.12 release of statsmodels. To suppress this warning, explicitly set fft=False.\n",
      "  warnings.warn(\n",
      "/Users/swebb/opt/anaconda3/lib/python3.9/site-packages/feets/extractors/ext_max_slope.py:91: RuntimeWarning: divide by zero encountered in true_divide\n",
      "  slope = np.abs(magnitude[1:] - magnitude[:-1]) / (time[1:] - time[:-1])\n",
      "/Users/swebb/opt/anaconda3/lib/python3.9/site-packages/numpy/core/fromnumeric.py:3419: RuntimeWarning: Mean of empty slice.\n",
      "  return _methods._mean(a, axis=axis, dtype=dtype,\n",
      "/Users/swebb/opt/anaconda3/lib/python3.9/site-packages/numpy/core/_methods.py:188: RuntimeWarning: invalid value encountered in double_scalars\n",
      "  ret = ret.dtype.type(ret / rcount)\n",
      "/Users/swebb/opt/anaconda3/lib/python3.9/site-packages/numpy/core/_methods.py:261: RuntimeWarning: Degrees of freedom <= 0 for slice\n",
      "  ret = _var(a, axis=axis, dtype=dtype, out=out, ddof=ddof,\n",
      "/Users/swebb/opt/anaconda3/lib/python3.9/site-packages/numpy/core/_methods.py:221: RuntimeWarning: invalid value encountered in true_divide\n",
      "  arrmean = um.true_divide(arrmean, div, out=arrmean, casting='unsafe',\n",
      "/Users/swebb/opt/anaconda3/lib/python3.9/site-packages/numpy/core/_methods.py:253: RuntimeWarning: invalid value encountered in double_scalars\n",
      "  ret = ret.dtype.type(ret / rcount)\n",
      "/Users/swebb/opt/anaconda3/lib/python3.9/site-packages/feets/extractors/ext_stetson.py:247: RuntimeWarning: divide by zero encountered in double_scalars\n",
      "  K = (1 / np.sqrt(N_autocor * 1.0) *\n",
      "/Users/swebb/opt/anaconda3/lib/python3.9/site-packages/feets/extractors/ext_stetson.py:247: RuntimeWarning: invalid value encountered in double_scalars\n",
      "  K = (1 / np.sqrt(N_autocor * 1.0) *\n"
     ]
    },
    {
     "name": "stdout",
     "output_type": "stream",
     "text": [
      "['Autocor_length' 'Beyond1Std' 'CAR_mean' 'CAR_sigma' 'CAR_tau' 'Con'\n",
      " 'LinearTrend' 'MaxSlope' 'Mean' 'Meanvariance' 'MedianAbsDev' 'MedianBRP'\n",
      " 'PairSlopeTrend' 'PercentAmplitude' 'Q31' 'Rcs' 'Skew' 'SlottedA_length'\n",
      " 'SmallKurtosis' 'Std' 'StetsonK_AC'] [ 1.24000000e+02  4.16666667e-01  1.17667376e+05  1.00000000e+01\n",
      "  5.00000000e-01  0.00000000e+00 -6.21022533e-01             inf\n",
      "  5.88336882e+04  1.60173895e-06  8.21585000e-02  1.89716312e-01\n",
      "  9.66666667e-01  2.75805417e-06  1.64027000e-01  4.35065900e-01\n",
      "  2.04561018e-03             nan -1.21544744e+00  9.42362099e-02\n",
      "             nan]\n",
      "124.0\n",
      "['Autocor_length' 'Beyond1Std' 'CAR_mean' 'CAR_sigma' 'CAR_tau' 'Con'\n",
      " 'LinearTrend' 'MaxSlope' 'Mean' 'Meanvariance' 'MedianAbsDev' 'MedianBRP'\n",
      " 'PairSlopeTrend' 'PercentAmplitude' 'Q31' 'Rcs' 'Skew' 'SlottedA_length'\n",
      " 'SmallKurtosis' 'Std' 'StetsonK_AC'] [ 1.25000000e+02  4.22807018e-01  1.17667376e+05  1.00000000e+01\n",
      "  5.00000000e-01  0.00000000e+00 -2.34304082e-01  3.96950000e+04\n",
      "  5.88336882e+04  1.59349126e-06  8.13110000e-02  1.98245614e-01\n",
      "  9.66666667e-01  2.75752728e-06  1.62340750e-01  4.33347058e-01\n",
      "  1.49098131e-03  1.00000000e+00 -1.19727335e+00  9.37509679e-02\n",
      "  1.00000000e+00]\n",
      "125.0\n"
     ]
    },
    {
     "name": "stderr",
     "output_type": "stream",
     "text": [
      "/Users/swebb/opt/anaconda3/lib/python3.9/site-packages/feets/extractors/ext_max_slope.py:91: RuntimeWarning: divide by zero encountered in true_divide\n",
      "  slope = np.abs(magnitude[1:] - magnitude[:-1]) / (time[1:] - time[:-1])\n",
      "/Users/swebb/opt/anaconda3/lib/python3.9/site-packages/statsmodels/tsa/stattools.py:667: FutureWarning: fft=True will become the default after the release of the 0.12 release of statsmodels. To suppress this warning, explicitly set fft=False.\n",
      "  warnings.warn(\n",
      "/Users/swebb/opt/anaconda3/lib/python3.9/site-packages/numpy/core/fromnumeric.py:3419: RuntimeWarning: Mean of empty slice.\n",
      "  return _methods._mean(a, axis=axis, dtype=dtype,\n",
      "/Users/swebb/opt/anaconda3/lib/python3.9/site-packages/numpy/core/_methods.py:188: RuntimeWarning: invalid value encountered in double_scalars\n",
      "  ret = ret.dtype.type(ret / rcount)\n",
      "/Users/swebb/opt/anaconda3/lib/python3.9/site-packages/numpy/core/_methods.py:261: RuntimeWarning: Degrees of freedom <= 0 for slice\n",
      "  ret = _var(a, axis=axis, dtype=dtype, out=out, ddof=ddof,\n",
      "/Users/swebb/opt/anaconda3/lib/python3.9/site-packages/numpy/core/_methods.py:221: RuntimeWarning: invalid value encountered in true_divide\n",
      "  arrmean = um.true_divide(arrmean, div, out=arrmean, casting='unsafe',\n",
      "/Users/swebb/opt/anaconda3/lib/python3.9/site-packages/numpy/core/_methods.py:253: RuntimeWarning: invalid value encountered in double_scalars\n",
      "  ret = ret.dtype.type(ret / rcount)\n",
      "/Users/swebb/opt/anaconda3/lib/python3.9/site-packages/feets/extractors/ext_stetson.py:247: RuntimeWarning: divide by zero encountered in double_scalars\n",
      "  K = (1 / np.sqrt(N_autocor * 1.0) *\n",
      "/Users/swebb/opt/anaconda3/lib/python3.9/site-packages/feets/extractors/ext_stetson.py:247: RuntimeWarning: invalid value encountered in double_scalars\n",
      "  K = (1 / np.sqrt(N_autocor * 1.0) *\n"
     ]
    },
    {
     "name": "stdout",
     "output_type": "stream",
     "text": [
      "['Autocor_length' 'Beyond1Std' 'CAR_mean' 'CAR_sigma' 'CAR_tau' 'Con'\n",
      " 'LinearTrend' 'MaxSlope' 'Mean' 'Meanvariance' 'MedianAbsDev' 'MedianBRP'\n",
      " 'PairSlopeTrend' 'PercentAmplitude' 'Q31' 'Rcs' 'Skew' 'SlottedA_length'\n",
      " 'SmallKurtosis' 'Std' 'StetsonK_AC'] [ 1.25000000e+02  4.19298246e-01  1.17667376e+05  1.00000000e+01\n",
      "  5.00000000e-01  0.00000000e+00  1.54568712e-01             inf\n",
      "  5.88336882e+04  1.59349126e-06  8.13110000e-02  1.98245614e-01\n",
      "  9.66666667e-01  2.75752728e-06  1.62340750e-01  4.33347058e-01\n",
      "  1.49098131e-03             nan -1.19727335e+00  9.37509679e-02\n",
      "             nan]\n",
      "125.0\n"
     ]
    },
    {
     "name": "stderr",
     "output_type": "stream",
     "text": [
      "/Users/swebb/opt/anaconda3/lib/python3.9/site-packages/statsmodels/tsa/stattools.py:667: FutureWarning: fft=True will become the default after the release of the 0.12 release of statsmodels. To suppress this warning, explicitly set fft=False.\n",
      "  warnings.warn(\n",
      "/Users/swebb/opt/anaconda3/lib/python3.9/site-packages/feets/extractors/ext_max_slope.py:91: RuntimeWarning: divide by zero encountered in true_divide\n",
      "  slope = np.abs(magnitude[1:] - magnitude[:-1]) / (time[1:] - time[:-1])\n",
      "/Users/swebb/opt/anaconda3/lib/python3.9/site-packages/statsmodels/tsa/stattools.py:667: FutureWarning: fft=True will become the default after the release of the 0.12 release of statsmodels. To suppress this warning, explicitly set fft=False.\n",
      "  warnings.warn(\n"
     ]
    },
    {
     "name": "stdout",
     "output_type": "stream",
     "text": [
      "['Autocor_length' 'Beyond1Std' 'CAR_mean' 'CAR_sigma' 'CAR_tau' 'Con'\n",
      " 'LinearTrend' 'MaxSlope' 'Mean' 'Meanvariance' 'MedianAbsDev' 'MedianBRP'\n",
      " 'PairSlopeTrend' 'PercentAmplitude' 'Q31' 'Rcs' 'Skew' 'SlottedA_length'\n",
      " 'SmallKurtosis' 'Std' 'StetsonK_AC'] [ 9.50000000e+01  4.23162584e-01  1.17667413e+05  1.00000000e+01\n",
      "  5.00000000e-01  0.00000000e+00 -8.69022918e-02             inf\n",
      "  5.88337064e+04  1.53013231e-06  7.22100000e-02  2.13808463e-01\n",
      "  9.66666667e-01  3.09892062e-06  1.44908000e-01  4.27144878e-01\n",
      " -2.08780820e-01  2.00000000e+00 -1.05865122e+00  9.00233553e-02\n",
      "  9.42643521e-01]\n",
      "95.0\n"
     ]
    },
    {
     "name": "stderr",
     "output_type": "stream",
     "text": [
      "/Users/swebb/opt/anaconda3/lib/python3.9/site-packages/numpy/core/fromnumeric.py:3419: RuntimeWarning: Mean of empty slice.\n",
      "  return _methods._mean(a, axis=axis, dtype=dtype,\n",
      "/Users/swebb/opt/anaconda3/lib/python3.9/site-packages/numpy/core/_methods.py:188: RuntimeWarning: invalid value encountered in double_scalars\n",
      "  ret = ret.dtype.type(ret / rcount)\n",
      "/Users/swebb/opt/anaconda3/lib/python3.9/site-packages/numpy/core/_methods.py:261: RuntimeWarning: Degrees of freedom <= 0 for slice\n",
      "  ret = _var(a, axis=axis, dtype=dtype, out=out, ddof=ddof,\n",
      "/Users/swebb/opt/anaconda3/lib/python3.9/site-packages/numpy/core/_methods.py:221: RuntimeWarning: invalid value encountered in true_divide\n",
      "  arrmean = um.true_divide(arrmean, div, out=arrmean, casting='unsafe',\n",
      "/Users/swebb/opt/anaconda3/lib/python3.9/site-packages/numpy/core/_methods.py:253: RuntimeWarning: invalid value encountered in double_scalars\n",
      "  ret = ret.dtype.type(ret / rcount)\n",
      "/Users/swebb/opt/anaconda3/lib/python3.9/site-packages/feets/extractors/ext_stetson.py:247: RuntimeWarning: divide by zero encountered in double_scalars\n",
      "  K = (1 / np.sqrt(N_autocor * 1.0) *\n",
      "/Users/swebb/opt/anaconda3/lib/python3.9/site-packages/feets/extractors/ext_stetson.py:247: RuntimeWarning: invalid value encountered in double_scalars\n",
      "  K = (1 / np.sqrt(N_autocor * 1.0) *\n"
     ]
    },
    {
     "name": "stdout",
     "output_type": "stream",
     "text": [
      "['Autocor_length' 'Beyond1Std' 'CAR_mean' 'CAR_sigma' 'CAR_tau' 'Con'\n",
      " 'LinearTrend' 'MaxSlope' 'Mean' 'Meanvariance' 'MedianAbsDev' 'MedianBRP'\n",
      " 'PairSlopeTrend' 'PercentAmplitude' 'Q31' 'Rcs' 'Skew' 'SlottedA_length'\n",
      " 'SmallKurtosis' 'Std' 'StetsonK_AC'] [ 1.25000000e+02  4.05263158e-01  1.17667376e+05  1.00000000e+01\n",
      "  5.00000000e-01  0.00000000e+00 -2.92508798e-01  2.22646000e+05\n",
      "  5.88336882e+04  1.59349126e-06  8.13110000e-02  1.98245614e-01\n",
      "  9.66666667e-01  2.75752728e-06  1.62340750e-01  4.33347058e-01\n",
      "  1.49098131e-03             nan -1.19727335e+00  9.37509679e-02\n",
      "             nan]\n",
      "125.0\n"
     ]
    },
    {
     "name": "stderr",
     "output_type": "stream",
     "text": [
      "/Users/swebb/opt/anaconda3/lib/python3.9/site-packages/statsmodels/tsa/stattools.py:667: FutureWarning: fft=True will become the default after the release of the 0.12 release of statsmodels. To suppress this warning, explicitly set fft=False.\n",
      "  warnings.warn(\n",
      "/Users/swebb/opt/anaconda3/lib/python3.9/site-packages/numpy/core/fromnumeric.py:3419: RuntimeWarning: Mean of empty slice.\n",
      "  return _methods._mean(a, axis=axis, dtype=dtype,\n",
      "/Users/swebb/opt/anaconda3/lib/python3.9/site-packages/numpy/core/_methods.py:188: RuntimeWarning: invalid value encountered in double_scalars\n",
      "  ret = ret.dtype.type(ret / rcount)\n",
      "/Users/swebb/opt/anaconda3/lib/python3.9/site-packages/numpy/core/_methods.py:261: RuntimeWarning: Degrees of freedom <= 0 for slice\n",
      "  ret = _var(a, axis=axis, dtype=dtype, out=out, ddof=ddof,\n",
      "/Users/swebb/opt/anaconda3/lib/python3.9/site-packages/numpy/core/_methods.py:221: RuntimeWarning: invalid value encountered in true_divide\n",
      "  arrmean = um.true_divide(arrmean, div, out=arrmean, casting='unsafe',\n",
      "/Users/swebb/opt/anaconda3/lib/python3.9/site-packages/numpy/core/_methods.py:253: RuntimeWarning: invalid value encountered in double_scalars\n",
      "  ret = ret.dtype.type(ret / rcount)\n",
      "/Users/swebb/opt/anaconda3/lib/python3.9/site-packages/feets/extractors/ext_stetson.py:247: RuntimeWarning: divide by zero encountered in double_scalars\n",
      "  K = (1 / np.sqrt(N_autocor * 1.0) *\n",
      "/Users/swebb/opt/anaconda3/lib/python3.9/site-packages/feets/extractors/ext_stetson.py:247: RuntimeWarning: invalid value encountered in double_scalars\n",
      "  K = (1 / np.sqrt(N_autocor * 1.0) *\n",
      "/Users/swebb/opt/anaconda3/lib/python3.9/site-packages/feets/extractors/ext_max_slope.py:91: RuntimeWarning: divide by zero encountered in true_divide\n",
      "  slope = np.abs(magnitude[1:] - magnitude[:-1]) / (time[1:] - time[:-1])\n"
     ]
    },
    {
     "name": "stdout",
     "output_type": "stream",
     "text": [
      "['Autocor_length' 'Beyond1Std' 'CAR_mean' 'CAR_sigma' 'CAR_tau' 'Con'\n",
      " 'LinearTrend' 'MaxSlope' 'Mean' 'Meanvariance' 'MedianAbsDev' 'MedianBRP'\n",
      " 'PairSlopeTrend' 'PercentAmplitude' 'Q31' 'Rcs' 'Skew' 'SlottedA_length'\n",
      " 'SmallKurtosis' 'Std' 'StetsonK_AC'] [ 1.24000000e+02  4.23550088e-01  1.17667377e+05  1.00000000e+01\n",
      "  5.00000000e-01  0.00000000e+00 -3.88507510e-01             inf\n",
      "  5.88336883e+04  1.59450030e-06  8.14890000e-02  1.98594025e-01\n",
      "  9.66666667e-01  2.75325251e-06  1.62622000e-01  4.33369539e-01\n",
      " -1.03268930e-03             nan -1.19881226e+00  9.38103335e-02\n",
      "             nan]\n",
      "124.0\n"
     ]
    },
    {
     "name": "stderr",
     "output_type": "stream",
     "text": [
      "/Users/swebb/opt/anaconda3/lib/python3.9/site-packages/statsmodels/tsa/stattools.py:667: FutureWarning: fft=True will become the default after the release of the 0.12 release of statsmodels. To suppress this warning, explicitly set fft=False.\n",
      "  warnings.warn(\n",
      "/Users/swebb/opt/anaconda3/lib/python3.9/site-packages/numpy/core/fromnumeric.py:3419: RuntimeWarning: Mean of empty slice.\n",
      "  return _methods._mean(a, axis=axis, dtype=dtype,\n",
      "/Users/swebb/opt/anaconda3/lib/python3.9/site-packages/numpy/core/_methods.py:188: RuntimeWarning: invalid value encountered in double_scalars\n",
      "  ret = ret.dtype.type(ret / rcount)\n",
      "/Users/swebb/opt/anaconda3/lib/python3.9/site-packages/numpy/core/_methods.py:261: RuntimeWarning: Degrees of freedom <= 0 for slice\n",
      "  ret = _var(a, axis=axis, dtype=dtype, out=out, ddof=ddof,\n",
      "/Users/swebb/opt/anaconda3/lib/python3.9/site-packages/numpy/core/_methods.py:221: RuntimeWarning: invalid value encountered in true_divide\n",
      "  arrmean = um.true_divide(arrmean, div, out=arrmean, casting='unsafe',\n",
      "/Users/swebb/opt/anaconda3/lib/python3.9/site-packages/numpy/core/_methods.py:253: RuntimeWarning: invalid value encountered in double_scalars\n",
      "  ret = ret.dtype.type(ret / rcount)\n",
      "/Users/swebb/opt/anaconda3/lib/python3.9/site-packages/feets/extractors/ext_stetson.py:247: RuntimeWarning: divide by zero encountered in double_scalars\n",
      "  K = (1 / np.sqrt(N_autocor * 1.0) *\n",
      "/Users/swebb/opt/anaconda3/lib/python3.9/site-packages/feets/extractors/ext_stetson.py:247: RuntimeWarning: invalid value encountered in double_scalars\n",
      "  K = (1 / np.sqrt(N_autocor * 1.0) *\n",
      "/Users/swebb/opt/anaconda3/lib/python3.9/site-packages/feets/extractors/ext_max_slope.py:91: RuntimeWarning: divide by zero encountered in true_divide\n",
      "  slope = np.abs(magnitude[1:] - magnitude[:-1]) / (time[1:] - time[:-1])\n"
     ]
    },
    {
     "name": "stdout",
     "output_type": "stream",
     "text": [
      "['Autocor_length' 'Beyond1Std' 'CAR_mean' 'CAR_sigma' 'CAR_tau' 'Con'\n",
      " 'LinearTrend' 'MaxSlope' 'Mean' 'Meanvariance' 'MedianAbsDev' 'MedianBRP'\n",
      " 'PairSlopeTrend' 'PercentAmplitude' 'Q31' 'Rcs' 'Skew' 'SlottedA_length'\n",
      " 'SmallKurtosis' 'Std' 'StetsonK_AC'] [ 1.25000000e+02  4.07017544e-01  1.17667376e+05  1.00000000e+01\n",
      "  5.00000000e-01  0.00000000e+00  1.03561353e+00             inf\n",
      "  5.88336882e+04  1.59349126e-06  8.13110000e-02  1.98245614e-01\n",
      "  9.66666667e-01  2.75752728e-06  1.62340750e-01  4.33347058e-01\n",
      "  1.49098131e-03             nan -1.19727335e+00  9.37509679e-02\n",
      "             nan]\n",
      "125.0\n"
     ]
    },
    {
     "name": "stderr",
     "output_type": "stream",
     "text": [
      "/Users/swebb/opt/anaconda3/lib/python3.9/site-packages/feets/extractors/ext_max_slope.py:91: RuntimeWarning: divide by zero encountered in true_divide\n",
      "  slope = np.abs(magnitude[1:] - magnitude[:-1]) / (time[1:] - time[:-1])\n",
      "/Users/swebb/opt/anaconda3/lib/python3.9/site-packages/statsmodels/tsa/stattools.py:667: FutureWarning: fft=True will become the default after the release of the 0.12 release of statsmodels. To suppress this warning, explicitly set fft=False.\n",
      "  warnings.warn(\n"
     ]
    },
    {
     "name": "stdout",
     "output_type": "stream",
     "text": [
      "['Autocor_length' 'Beyond1Std' 'CAR_mean' 'CAR_sigma' 'CAR_tau' 'Con'\n",
      " 'LinearTrend' 'MaxSlope' 'Mean' 'Meanvariance' 'MedianAbsDev' 'MedianBRP'\n",
      " 'PairSlopeTrend' 'PercentAmplitude' 'Q31' 'Rcs' 'Skew' 'SlottedA_length'\n",
      " 'SmallKurtosis' 'Std' 'StetsonK_AC'] [ 1.25000000e+02  4.16520211e-01  1.17667376e+05  1.00000000e+01\n",
      "  5.00000000e-01  0.00000000e+00 -1.60200024e-01             inf\n",
      "  5.88336882e+04  1.59488841e-06  8.14890000e-02  1.96836555e-01\n",
      "  9.66666667e-01  2.75325251e-06  1.62622000e-01  4.33691296e-01\n",
      "  1.26778284e-03  1.00000000e+00 -1.20044174e+00  9.38331674e-02\n",
      "  1.00000000e+00]\n",
      "125.0\n"
     ]
    },
    {
     "name": "stderr",
     "output_type": "stream",
     "text": [
      "/Users/swebb/opt/anaconda3/lib/python3.9/site-packages/numpy/core/fromnumeric.py:3419: RuntimeWarning: Mean of empty slice.\n",
      "  return _methods._mean(a, axis=axis, dtype=dtype,\n",
      "/Users/swebb/opt/anaconda3/lib/python3.9/site-packages/numpy/core/_methods.py:188: RuntimeWarning: invalid value encountered in double_scalars\n",
      "  ret = ret.dtype.type(ret / rcount)\n",
      "/Users/swebb/opt/anaconda3/lib/python3.9/site-packages/numpy/core/_methods.py:261: RuntimeWarning: Degrees of freedom <= 0 for slice\n",
      "  ret = _var(a, axis=axis, dtype=dtype, out=out, ddof=ddof,\n",
      "/Users/swebb/opt/anaconda3/lib/python3.9/site-packages/numpy/core/_methods.py:221: RuntimeWarning: invalid value encountered in true_divide\n",
      "  arrmean = um.true_divide(arrmean, div, out=arrmean, casting='unsafe',\n",
      "/Users/swebb/opt/anaconda3/lib/python3.9/site-packages/numpy/core/_methods.py:253: RuntimeWarning: invalid value encountered in double_scalars\n",
      "  ret = ret.dtype.type(ret / rcount)\n",
      "/Users/swebb/opt/anaconda3/lib/python3.9/site-packages/feets/extractors/ext_stetson.py:247: RuntimeWarning: divide by zero encountered in double_scalars\n",
      "  K = (1 / np.sqrt(N_autocor * 1.0) *\n",
      "/Users/swebb/opt/anaconda3/lib/python3.9/site-packages/feets/extractors/ext_stetson.py:247: RuntimeWarning: invalid value encountered in double_scalars\n",
      "  K = (1 / np.sqrt(N_autocor * 1.0) *\n"
     ]
    },
    {
     "name": "stdout",
     "output_type": "stream",
     "text": [
      "['Autocor_length' 'Beyond1Std' 'CAR_mean' 'CAR_sigma' 'CAR_tau' 'Con'\n",
      " 'LinearTrend' 'MaxSlope' 'Mean' 'Meanvariance' 'MedianAbsDev' 'MedianBRP'\n",
      " 'PairSlopeTrend' 'PercentAmplitude' 'Q31' 'Rcs' 'Skew' 'SlottedA_length'\n",
      " 'SmallKurtosis' 'Std' 'StetsonK_AC'] [ 1.25000000e+02  4.10526316e-01  1.17667376e+05  1.00000000e+01\n",
      "  5.00000000e-01  0.00000000e+00 -1.54440818e-01             inf\n",
      "  5.88336882e+04  1.59349126e-06  8.13110000e-02  1.98245614e-01\n",
      "  9.66666667e-01  2.75752728e-06  1.62340750e-01  4.33347058e-01\n",
      "  1.49098131e-03             nan -1.19727335e+00  9.37509679e-02\n",
      "             nan]\n",
      "125.0\n"
     ]
    },
    {
     "name": "stderr",
     "output_type": "stream",
     "text": [
      "/Users/swebb/opt/anaconda3/lib/python3.9/site-packages/statsmodels/tsa/stattools.py:667: FutureWarning: fft=True will become the default after the release of the 0.12 release of statsmodels. To suppress this warning, explicitly set fft=False.\n",
      "  warnings.warn(\n",
      "/Users/swebb/opt/anaconda3/lib/python3.9/site-packages/numpy/core/fromnumeric.py:3419: RuntimeWarning: Mean of empty slice.\n",
      "  return _methods._mean(a, axis=axis, dtype=dtype,\n",
      "/Users/swebb/opt/anaconda3/lib/python3.9/site-packages/numpy/core/_methods.py:188: RuntimeWarning: invalid value encountered in double_scalars\n",
      "  ret = ret.dtype.type(ret / rcount)\n",
      "/Users/swebb/opt/anaconda3/lib/python3.9/site-packages/numpy/core/_methods.py:261: RuntimeWarning: Degrees of freedom <= 0 for slice\n",
      "  ret = _var(a, axis=axis, dtype=dtype, out=out, ddof=ddof,\n",
      "/Users/swebb/opt/anaconda3/lib/python3.9/site-packages/numpy/core/_methods.py:221: RuntimeWarning: invalid value encountered in true_divide\n",
      "  arrmean = um.true_divide(arrmean, div, out=arrmean, casting='unsafe',\n",
      "/Users/swebb/opt/anaconda3/lib/python3.9/site-packages/numpy/core/_methods.py:253: RuntimeWarning: invalid value encountered in double_scalars\n",
      "  ret = ret.dtype.type(ret / rcount)\n",
      "/Users/swebb/opt/anaconda3/lib/python3.9/site-packages/feets/extractors/ext_stetson.py:247: RuntimeWarning: divide by zero encountered in double_scalars\n",
      "  K = (1 / np.sqrt(N_autocor * 1.0) *\n",
      "/Users/swebb/opt/anaconda3/lib/python3.9/site-packages/feets/extractors/ext_stetson.py:247: RuntimeWarning: invalid value encountered in double_scalars\n",
      "  K = (1 / np.sqrt(N_autocor * 1.0) *\n"
     ]
    },
    {
     "name": "stdout",
     "output_type": "stream",
     "text": [
      "['Autocor_length' 'Beyond1Std' 'CAR_mean' 'CAR_sigma' 'CAR_tau' 'Con'\n",
      " 'LinearTrend' 'MaxSlope' 'Mean' 'Meanvariance' 'MedianAbsDev' 'MedianBRP'\n",
      " 'PairSlopeTrend' 'PercentAmplitude' 'Q31' 'Rcs' 'Skew' 'SlottedA_length'\n",
      " 'SmallKurtosis' 'Std' 'StetsonK_AC'] [ 1.25000000e+02  4.07732865e-01  1.17667376e+05  1.00000000e+01\n",
      "  5.00000000e-01  0.00000000e+00  1.15172185e+00  1.23207000e+05\n",
      "  5.88336882e+04  1.59488765e-06  8.14890000e-02  1.96836555e-01\n",
      "  9.66666667e-01  2.75325251e-06  1.62622000e-01  4.33686230e-01\n",
      "  1.23627090e-03             nan -1.20043834e+00  9.38331228e-02\n",
      "             nan]\n",
      "125.0\n"
     ]
    },
    {
     "name": "stderr",
     "output_type": "stream",
     "text": [
      "/Users/swebb/opt/anaconda3/lib/python3.9/site-packages/feets/extractors/ext_max_slope.py:91: RuntimeWarning: divide by zero encountered in true_divide\n",
      "  slope = np.abs(magnitude[1:] - magnitude[:-1]) / (time[1:] - time[:-1])\n",
      "/Users/swebb/opt/anaconda3/lib/python3.9/site-packages/numpy/core/fromnumeric.py:3419: RuntimeWarning: Mean of empty slice.\n",
      "  return _methods._mean(a, axis=axis, dtype=dtype,\n",
      "/Users/swebb/opt/anaconda3/lib/python3.9/site-packages/numpy/core/_methods.py:188: RuntimeWarning: invalid value encountered in double_scalars\n",
      "  ret = ret.dtype.type(ret / rcount)\n",
      "/Users/swebb/opt/anaconda3/lib/python3.9/site-packages/numpy/core/_methods.py:261: RuntimeWarning: Degrees of freedom <= 0 for slice\n",
      "  ret = _var(a, axis=axis, dtype=dtype, out=out, ddof=ddof,\n",
      "/Users/swebb/opt/anaconda3/lib/python3.9/site-packages/numpy/core/_methods.py:221: RuntimeWarning: invalid value encountered in true_divide\n",
      "  arrmean = um.true_divide(arrmean, div, out=arrmean, casting='unsafe',\n",
      "/Users/swebb/opt/anaconda3/lib/python3.9/site-packages/numpy/core/_methods.py:253: RuntimeWarning: invalid value encountered in double_scalars\n",
      "  ret = ret.dtype.type(ret / rcount)\n",
      "/Users/swebb/opt/anaconda3/lib/python3.9/site-packages/feets/extractors/ext_stetson.py:247: RuntimeWarning: divide by zero encountered in double_scalars\n",
      "  K = (1 / np.sqrt(N_autocor * 1.0) *\n",
      "/Users/swebb/opt/anaconda3/lib/python3.9/site-packages/feets/extractors/ext_stetson.py:247: RuntimeWarning: invalid value encountered in double_scalars\n",
      "  K = (1 / np.sqrt(N_autocor * 1.0) *\n",
      "/Users/swebb/opt/anaconda3/lib/python3.9/site-packages/statsmodels/tsa/stattools.py:667: FutureWarning: fft=True will become the default after the release of the 0.12 release of statsmodels. To suppress this warning, explicitly set fft=False.\n",
      "  warnings.warn(\n"
     ]
    },
    {
     "name": "stdout",
     "output_type": "stream",
     "text": [
      "['Autocor_length' 'Beyond1Std' 'CAR_mean' 'CAR_sigma' 'CAR_tau' 'Con'\n",
      " 'LinearTrend' 'MaxSlope' 'Mean' 'Meanvariance' 'MedianAbsDev' 'MedianBRP'\n",
      " 'PairSlopeTrend' 'PercentAmplitude' 'Q31' 'Rcs' 'Skew' 'SlottedA_length'\n",
      " 'SmallKurtosis' 'Std' 'StetsonK_AC'] [ 1.25000000e+02  4.03508772e-01  1.17667376e+05  1.00000000e+01\n",
      "  5.00000000e-01  0.00000000e+00 -3.59488838e-01             inf\n",
      "  5.88336882e+04  1.59349126e-06  8.13110000e-02  1.98245614e-01\n",
      "  9.66666667e-01  2.75752728e-06  1.62340750e-01  4.33347058e-01\n",
      "  1.49098131e-03             nan -1.19727335e+00  9.37509679e-02\n",
      "             nan]\n",
      "125.0\n"
     ]
    },
    {
     "name": "stderr",
     "output_type": "stream",
     "text": [
      "/Users/swebb/opt/anaconda3/lib/python3.9/site-packages/feets/extractors/ext_max_slope.py:91: RuntimeWarning: divide by zero encountered in true_divide\n",
      "  slope = np.abs(magnitude[1:] - magnitude[:-1]) / (time[1:] - time[:-1])\n",
      "/Users/swebb/opt/anaconda3/lib/python3.9/site-packages/numpy/core/fromnumeric.py:3419: RuntimeWarning: Mean of empty slice.\n",
      "  return _methods._mean(a, axis=axis, dtype=dtype,\n",
      "/Users/swebb/opt/anaconda3/lib/python3.9/site-packages/numpy/core/_methods.py:188: RuntimeWarning: invalid value encountered in double_scalars\n",
      "  ret = ret.dtype.type(ret / rcount)\n",
      "/Users/swebb/opt/anaconda3/lib/python3.9/site-packages/numpy/core/_methods.py:261: RuntimeWarning: Degrees of freedom <= 0 for slice\n",
      "  ret = _var(a, axis=axis, dtype=dtype, out=out, ddof=ddof,\n",
      "/Users/swebb/opt/anaconda3/lib/python3.9/site-packages/numpy/core/_methods.py:221: RuntimeWarning: invalid value encountered in true_divide\n",
      "  arrmean = um.true_divide(arrmean, div, out=arrmean, casting='unsafe',\n",
      "/Users/swebb/opt/anaconda3/lib/python3.9/site-packages/numpy/core/_methods.py:253: RuntimeWarning: invalid value encountered in double_scalars\n",
      "  ret = ret.dtype.type(ret / rcount)\n",
      "/Users/swebb/opt/anaconda3/lib/python3.9/site-packages/feets/extractors/ext_stetson.py:247: RuntimeWarning: divide by zero encountered in double_scalars\n",
      "  K = (1 / np.sqrt(N_autocor * 1.0) *\n",
      "/Users/swebb/opt/anaconda3/lib/python3.9/site-packages/feets/extractors/ext_stetson.py:247: RuntimeWarning: invalid value encountered in double_scalars\n",
      "  K = (1 / np.sqrt(N_autocor * 1.0) *\n",
      "/Users/swebb/opt/anaconda3/lib/python3.9/site-packages/statsmodels/tsa/stattools.py:667: FutureWarning: fft=True will become the default after the release of the 0.12 release of statsmodels. To suppress this warning, explicitly set fft=False.\n",
      "  warnings.warn(\n"
     ]
    },
    {
     "name": "stdout",
     "output_type": "stream",
     "text": [
      "['Autocor_length' 'Beyond1Std' 'CAR_mean' 'CAR_sigma' 'CAR_tau' 'Con'\n",
      " 'LinearTrend' 'MaxSlope' 'Mean' 'Meanvariance' 'MedianAbsDev' 'MedianBRP'\n",
      " 'PairSlopeTrend' 'PercentAmplitude' 'Q31' 'Rcs' 'Skew' 'SlottedA_length'\n",
      " 'SmallKurtosis' 'Std' 'StetsonK_AC'] [ 1.24000000e+02  4.14762742e-01  1.17667376e+05  1.00000000e+01\n",
      "  5.00000000e-01  0.00000000e+00  4.88911215e-01             inf\n",
      "  5.88336880e+04  1.59266143e-06  8.11400000e-02  1.98594025e-01\n",
      "  9.66666667e-01  2.76236296e-06  1.62060000e-01  4.33224382e-01\n",
      "  4.61897659e-03             nan -1.19475999e+00  9.37021459e-02\n",
      "             nan]\n",
      "124.0\n"
     ]
    },
    {
     "name": "stderr",
     "output_type": "stream",
     "text": [
      "/Users/swebb/opt/anaconda3/lib/python3.9/site-packages/statsmodels/tsa/stattools.py:667: FutureWarning: fft=True will become the default after the release of the 0.12 release of statsmodels. To suppress this warning, explicitly set fft=False.\n",
      "  warnings.warn(\n"
     ]
    },
    {
     "name": "stdout",
     "output_type": "stream",
     "text": [
      "['Autocor_length' 'Beyond1Std' 'CAR_mean' 'CAR_sigma' 'CAR_tau' 'Con'\n",
      " 'LinearTrend' 'MaxSlope' 'Mean' 'Meanvariance' 'MedianAbsDev' 'MedianBRP'\n",
      " 'PairSlopeTrend' 'PercentAmplitude' 'Q31' 'Rcs' 'Skew' 'SlottedA_length'\n",
      " 'SmallKurtosis' 'Std' 'StetsonK_AC'] [ 1.23000000e+02  4.14285714e-01  1.17667378e+05  1.00000000e+01\n",
      "  5.00000000e-01  0.00000000e+00  4.23278436e-01  1.63668000e+05\n",
      "  5.88336892e+04  1.59443714e-06  8.13110000e-02  1.96428571e-01\n",
      "  9.66666667e-01  2.77737128e-06  1.62342250e-01  4.33816331e-01\n",
      " -7.94130676e-03             nan -1.20014759e+00  9.38066193e-02\n",
      "             nan]\n",
      "123.0\n"
     ]
    },
    {
     "name": "stderr",
     "output_type": "stream",
     "text": [
      "/Users/swebb/opt/anaconda3/lib/python3.9/site-packages/feets/extractors/ext_max_slope.py:91: RuntimeWarning: divide by zero encountered in true_divide\n",
      "  slope = np.abs(magnitude[1:] - magnitude[:-1]) / (time[1:] - time[:-1])\n",
      "/Users/swebb/opt/anaconda3/lib/python3.9/site-packages/statsmodels/tsa/stattools.py:667: FutureWarning: fft=True will become the default after the release of the 0.12 release of statsmodels. To suppress this warning, explicitly set fft=False.\n",
      "  warnings.warn(\n",
      "/Users/swebb/opt/anaconda3/lib/python3.9/site-packages/numpy/core/fromnumeric.py:3419: RuntimeWarning: Mean of empty slice.\n",
      "  return _methods._mean(a, axis=axis, dtype=dtype,\n",
      "/Users/swebb/opt/anaconda3/lib/python3.9/site-packages/numpy/core/_methods.py:188: RuntimeWarning: invalid value encountered in double_scalars\n",
      "  ret = ret.dtype.type(ret / rcount)\n",
      "/Users/swebb/opt/anaconda3/lib/python3.9/site-packages/numpy/core/_methods.py:261: RuntimeWarning: Degrees of freedom <= 0 for slice\n",
      "  ret = _var(a, axis=axis, dtype=dtype, out=out, ddof=ddof,\n",
      "/Users/swebb/opt/anaconda3/lib/python3.9/site-packages/numpy/core/_methods.py:221: RuntimeWarning: invalid value encountered in true_divide\n",
      "  arrmean = um.true_divide(arrmean, div, out=arrmean, casting='unsafe',\n",
      "/Users/swebb/opt/anaconda3/lib/python3.9/site-packages/numpy/core/_methods.py:253: RuntimeWarning: invalid value encountered in double_scalars\n",
      "  ret = ret.dtype.type(ret / rcount)\n",
      "/Users/swebb/opt/anaconda3/lib/python3.9/site-packages/feets/extractors/ext_stetson.py:247: RuntimeWarning: divide by zero encountered in double_scalars\n",
      "  K = (1 / np.sqrt(N_autocor * 1.0) *\n",
      "/Users/swebb/opt/anaconda3/lib/python3.9/site-packages/feets/extractors/ext_stetson.py:247: RuntimeWarning: invalid value encountered in double_scalars\n",
      "  K = (1 / np.sqrt(N_autocor * 1.0) *\n"
     ]
    },
    {
     "name": "stdout",
     "output_type": "stream",
     "text": [
      "['Autocor_length' 'Beyond1Std' 'CAR_mean' 'CAR_sigma' 'CAR_tau' 'Con'\n",
      " 'LinearTrend' 'MaxSlope' 'Mean' 'Meanvariance' 'MedianAbsDev' 'MedianBRP'\n",
      " 'PairSlopeTrend' 'PercentAmplitude' 'Q31' 'Rcs' 'Skew' 'SlottedA_length'\n",
      " 'SmallKurtosis' 'Std' 'StetsonK_AC'] [ 1.24000000e+02  4.11971831e-01  1.17667377e+05  1.00000000e+01\n",
      "  5.00000000e-01  0.00000000e+00  6.40002273e-01             inf\n",
      "  5.88336884e+04  1.59396160e-06  8.13110000e-02  1.97183099e-01\n",
      "  9.66666667e-01  2.75752728e-06  1.62342000e-01  4.33515422e-01\n",
      " -9.57537223e-04             nan -1.19785966e+00  9.37786400e-02\n",
      "             nan]\n",
      "124.0\n",
      "['Autocor_length' 'Beyond1Std' 'CAR_mean' 'CAR_sigma' 'CAR_tau' 'Con'\n",
      " 'LinearTrend' 'MaxSlope' 'Mean' 'Meanvariance' 'MedianAbsDev' 'MedianBRP'\n",
      " 'PairSlopeTrend' 'PercentAmplitude' 'Q31' 'Rcs' 'Skew' 'SlottedA_length'\n",
      " 'SmallKurtosis' 'Std' 'StetsonK_AC'] [ 1.25000000e+02  4.12280702e-01  1.17667376e+05  1.00000000e+01\n",
      "  5.00000000e-01  0.00000000e+00 -2.35885544e-02             inf\n",
      "  5.88336882e+04  1.59349126e-06  8.13110000e-02  1.98245614e-01\n",
      "  9.66666667e-01  2.75752728e-06  1.62340750e-01  4.33347058e-01\n",
      "  1.49098131e-03             nan -1.19727335e+00  9.37509679e-02\n",
      "  1.00000000e+00]\n",
      "125.0\n"
     ]
    },
    {
     "name": "stderr",
     "output_type": "stream",
     "text": [
      "/Users/swebb/opt/anaconda3/lib/python3.9/site-packages/numpy/core/fromnumeric.py:3419: RuntimeWarning: Mean of empty slice.\n",
      "  return _methods._mean(a, axis=axis, dtype=dtype,\n",
      "/Users/swebb/opt/anaconda3/lib/python3.9/site-packages/numpy/core/_methods.py:188: RuntimeWarning: invalid value encountered in double_scalars\n",
      "  ret = ret.dtype.type(ret / rcount)\n",
      "/Users/swebb/opt/anaconda3/lib/python3.9/site-packages/numpy/core/_methods.py:261: RuntimeWarning: Degrees of freedom <= 0 for slice\n",
      "  ret = _var(a, axis=axis, dtype=dtype, out=out, ddof=ddof,\n",
      "/Users/swebb/opt/anaconda3/lib/python3.9/site-packages/numpy/core/_methods.py:221: RuntimeWarning: invalid value encountered in true_divide\n",
      "  arrmean = um.true_divide(arrmean, div, out=arrmean, casting='unsafe',\n",
      "/Users/swebb/opt/anaconda3/lib/python3.9/site-packages/numpy/core/_methods.py:253: RuntimeWarning: invalid value encountered in double_scalars\n",
      "  ret = ret.dtype.type(ret / rcount)\n",
      "/Users/swebb/opt/anaconda3/lib/python3.9/site-packages/feets/extractors/ext_stetson.py:247: RuntimeWarning: divide by zero encountered in double_scalars\n",
      "  K = (1 / np.sqrt(N_autocor * 1.0) *\n",
      "/Users/swebb/opt/anaconda3/lib/python3.9/site-packages/feets/extractors/ext_stetson.py:247: RuntimeWarning: invalid value encountered in double_scalars\n",
      "  K = (1 / np.sqrt(N_autocor * 1.0) *\n",
      "/Users/swebb/opt/anaconda3/lib/python3.9/site-packages/statsmodels/tsa/stattools.py:667: FutureWarning: fft=True will become the default after the release of the 0.12 release of statsmodels. To suppress this warning, explicitly set fft=False.\n",
      "  warnings.warn(\n",
      "/Users/swebb/opt/anaconda3/lib/python3.9/site-packages/feets/extractors/ext_max_slope.py:91: RuntimeWarning: divide by zero encountered in true_divide\n",
      "  slope = np.abs(magnitude[1:] - magnitude[:-1]) / (time[1:] - time[:-1])\n",
      "/Users/swebb/opt/anaconda3/lib/python3.9/site-packages/numpy/core/fromnumeric.py:3419: RuntimeWarning: Mean of empty slice.\n",
      "  return _methods._mean(a, axis=axis, dtype=dtype,\n",
      "/Users/swebb/opt/anaconda3/lib/python3.9/site-packages/numpy/core/_methods.py:188: RuntimeWarning: invalid value encountered in double_scalars\n",
      "  ret = ret.dtype.type(ret / rcount)\n",
      "/Users/swebb/opt/anaconda3/lib/python3.9/site-packages/numpy/core/_methods.py:261: RuntimeWarning: Degrees of freedom <= 0 for slice\n",
      "  ret = _var(a, axis=axis, dtype=dtype, out=out, ddof=ddof,\n",
      "/Users/swebb/opt/anaconda3/lib/python3.9/site-packages/numpy/core/_methods.py:221: RuntimeWarning: invalid value encountered in true_divide\n",
      "  arrmean = um.true_divide(arrmean, div, out=arrmean, casting='unsafe',\n",
      "/Users/swebb/opt/anaconda3/lib/python3.9/site-packages/numpy/core/_methods.py:253: RuntimeWarning: invalid value encountered in double_scalars\n",
      "  ret = ret.dtype.type(ret / rcount)\n",
      "/Users/swebb/opt/anaconda3/lib/python3.9/site-packages/feets/extractors/ext_stetson.py:247: RuntimeWarning: divide by zero encountered in double_scalars\n",
      "  K = (1 / np.sqrt(N_autocor * 1.0) *\n",
      "/Users/swebb/opt/anaconda3/lib/python3.9/site-packages/feets/extractors/ext_stetson.py:247: RuntimeWarning: invalid value encountered in double_scalars\n",
      "  K = (1 / np.sqrt(N_autocor * 1.0) *\n"
     ]
    },
    {
     "name": "stdout",
     "output_type": "stream",
     "text": [
      "['Autocor_length' 'Beyond1Std' 'CAR_mean' 'CAR_sigma' 'CAR_tau' 'Con'\n",
      " 'LinearTrend' 'MaxSlope' 'Mean' 'Meanvariance' 'MedianAbsDev' 'MedianBRP'\n",
      " 'PairSlopeTrend' 'PercentAmplitude' 'Q31' 'Rcs' 'Skew' 'SlottedA_length'\n",
      " 'SmallKurtosis' 'Std' 'StetsonK_AC'] [ 1.24000000e+02  4.11247803e-01  1.17667376e+05  1.00000000e+01\n",
      "  5.00000000e-01  0.00000000e+00  7.84885123e-01             inf\n",
      "  5.88336880e+04  1.59184374e-06  8.11400000e-02  1.98594025e-01\n",
      "  9.66666667e-01  2.76236296e-06  1.62060000e-01  4.33259225e-01\n",
      "  3.63308566e-03             nan -1.19494439e+00  9.36540380e-02\n",
      "             nan]\n",
      "124.0\n",
      "['Autocor_length' 'Beyond1Std' 'CAR_mean' 'CAR_sigma' 'CAR_tau' 'Con'\n",
      " 'LinearTrend' 'MaxSlope' 'Mean' 'Meanvariance' 'MedianAbsDev' 'MedianBRP'\n",
      " 'PairSlopeTrend' 'PercentAmplitude' 'Q31' 'Rcs' 'Skew' 'SlottedA_length'\n",
      " 'SmallKurtosis' 'Std' 'StetsonK_AC'] [ 1.25000000e+02  4.11247803e-01  1.17667376e+05  1.00000000e+01\n",
      "  5.00000000e-01  0.00000000e+00 -4.91974427e-01             inf\n",
      "  5.88336882e+04  1.59472924e-06  8.14740000e-02  1.96836555e-01\n",
      "  9.66666667e-01  2.76236296e-06  1.62622000e-01  4.33472928e-01\n",
      "  3.21065999e-03             nan -1.19973442e+00  9.38238031e-02\n",
      "             nan]\n",
      "125.0\n"
     ]
    },
    {
     "name": "stderr",
     "output_type": "stream",
     "text": [
      "/Users/swebb/opt/anaconda3/lib/python3.9/site-packages/statsmodels/tsa/stattools.py:667: FutureWarning: fft=True will become the default after the release of the 0.12 release of statsmodels. To suppress this warning, explicitly set fft=False.\n",
      "  warnings.warn(\n",
      "/Users/swebb/opt/anaconda3/lib/python3.9/site-packages/numpy/core/fromnumeric.py:3419: RuntimeWarning: Mean of empty slice.\n",
      "  return _methods._mean(a, axis=axis, dtype=dtype,\n",
      "/Users/swebb/opt/anaconda3/lib/python3.9/site-packages/numpy/core/_methods.py:188: RuntimeWarning: invalid value encountered in double_scalars\n",
      "  ret = ret.dtype.type(ret / rcount)\n",
      "/Users/swebb/opt/anaconda3/lib/python3.9/site-packages/numpy/core/_methods.py:261: RuntimeWarning: Degrees of freedom <= 0 for slice\n",
      "  ret = _var(a, axis=axis, dtype=dtype, out=out, ddof=ddof,\n",
      "/Users/swebb/opt/anaconda3/lib/python3.9/site-packages/numpy/core/_methods.py:221: RuntimeWarning: invalid value encountered in true_divide\n",
      "  arrmean = um.true_divide(arrmean, div, out=arrmean, casting='unsafe',\n",
      "/Users/swebb/opt/anaconda3/lib/python3.9/site-packages/numpy/core/_methods.py:253: RuntimeWarning: invalid value encountered in double_scalars\n",
      "  ret = ret.dtype.type(ret / rcount)\n",
      "/Users/swebb/opt/anaconda3/lib/python3.9/site-packages/feets/extractors/ext_stetson.py:247: RuntimeWarning: divide by zero encountered in double_scalars\n",
      "  K = (1 / np.sqrt(N_autocor * 1.0) *\n",
      "/Users/swebb/opt/anaconda3/lib/python3.9/site-packages/feets/extractors/ext_stetson.py:247: RuntimeWarning: invalid value encountered in double_scalars\n",
      "  K = (1 / np.sqrt(N_autocor * 1.0) *\n",
      "/Users/swebb/opt/anaconda3/lib/python3.9/site-packages/feets/extractors/ext_max_slope.py:91: RuntimeWarning: divide by zero encountered in true_divide\n",
      "  slope = np.abs(magnitude[1:] - magnitude[:-1]) / (time[1:] - time[:-1])\n"
     ]
    },
    {
     "name": "stdout",
     "output_type": "stream",
     "text": [
      "['Autocor_length' 'Beyond1Std' 'CAR_mean' 'CAR_sigma' 'CAR_tau' 'Con'\n",
      " 'LinearTrend' 'MaxSlope' 'Mean' 'Meanvariance' 'MedianAbsDev' 'MedianBRP'\n",
      " 'PairSlopeTrend' 'PercentAmplitude' 'Q31' 'Rcs' 'Skew' 'SlottedA_length'\n",
      " 'SmallKurtosis' 'Std' 'StetsonK_AC'] [ 1.24000000e+02  4.20494700e-01  1.17667377e+05  1.00000000e+01\n",
      "  5.00000000e-01  0.00000000e+00 -4.87478988e-01             inf\n",
      "  5.88336887e+04  1.59554775e-06  8.16000000e-02  1.97879859e-01\n",
      "  9.66666667e-01  2.76772547e-06  1.62908000e-01  4.33450238e-01\n",
      " -8.34701706e-03             nan -1.19858697e+00  9.38719597e-02\n",
      "             nan]\n",
      "124.0\n"
     ]
    },
    {
     "name": "stderr",
     "output_type": "stream",
     "text": [
      "/Users/swebb/opt/anaconda3/lib/python3.9/site-packages/numpy/core/fromnumeric.py:3419: RuntimeWarning: Mean of empty slice.\n",
      "  return _methods._mean(a, axis=axis, dtype=dtype,\n",
      "/Users/swebb/opt/anaconda3/lib/python3.9/site-packages/numpy/core/_methods.py:188: RuntimeWarning: invalid value encountered in double_scalars\n",
      "  ret = ret.dtype.type(ret / rcount)\n",
      "/Users/swebb/opt/anaconda3/lib/python3.9/site-packages/numpy/core/_methods.py:261: RuntimeWarning: Degrees of freedom <= 0 for slice\n",
      "  ret = _var(a, axis=axis, dtype=dtype, out=out, ddof=ddof,\n",
      "/Users/swebb/opt/anaconda3/lib/python3.9/site-packages/numpy/core/_methods.py:221: RuntimeWarning: invalid value encountered in true_divide\n",
      "  arrmean = um.true_divide(arrmean, div, out=arrmean, casting='unsafe',\n",
      "/Users/swebb/opt/anaconda3/lib/python3.9/site-packages/numpy/core/_methods.py:253: RuntimeWarning: invalid value encountered in double_scalars\n",
      "  ret = ret.dtype.type(ret / rcount)\n",
      "/Users/swebb/opt/anaconda3/lib/python3.9/site-packages/feets/extractors/ext_stetson.py:247: RuntimeWarning: divide by zero encountered in double_scalars\n",
      "  K = (1 / np.sqrt(N_autocor * 1.0) *\n",
      "/Users/swebb/opt/anaconda3/lib/python3.9/site-packages/feets/extractors/ext_stetson.py:247: RuntimeWarning: invalid value encountered in double_scalars\n",
      "  K = (1 / np.sqrt(N_autocor * 1.0) *\n",
      "/Users/swebb/opt/anaconda3/lib/python3.9/site-packages/statsmodels/tsa/stattools.py:667: FutureWarning: fft=True will become the default after the release of the 0.12 release of statsmodels. To suppress this warning, explicitly set fft=False.\n",
      "  warnings.warn(\n",
      "/Users/swebb/opt/anaconda3/lib/python3.9/site-packages/feets/extractors/ext_max_slope.py:91: RuntimeWarning: divide by zero encountered in true_divide\n",
      "  slope = np.abs(magnitude[1:] - magnitude[:-1]) / (time[1:] - time[:-1])\n"
     ]
    },
    {
     "name": "stdout",
     "output_type": "stream",
     "text": [
      "['Autocor_length' 'Beyond1Std' 'CAR_mean' 'CAR_sigma' 'CAR_tau' 'Con'\n",
      " 'LinearTrend' 'MaxSlope' 'Mean' 'Meanvariance' 'MedianAbsDev' 'MedianBRP'\n",
      " 'PairSlopeTrend' 'PercentAmplitude' 'Q31' 'Rcs' 'Skew' 'SlottedA_length'\n",
      " 'SmallKurtosis' 'Std' 'StetsonK_AC'] [ 1.24000000e+02  4.04929577e-01  1.17667377e+05  1.00000000e+01\n",
      "  5.00000000e-01  0.00000000e+00 -3.60176544e-01             inf\n",
      "  5.88336883e+04  1.59516885e-06  8.15880000e-02  1.97183099e-01\n",
      "  9.66666667e-01  2.75752728e-06  1.62902750e-01  4.33390900e-01\n",
      " -1.92077937e-04             nan -1.19938753e+00  9.38496667e-02\n",
      "             nan]\n",
      "124.0\n",
      "['Autocor_length' 'Beyond1Std' 'CAR_mean' 'CAR_sigma' 'CAR_tau' 'Con'\n",
      " 'LinearTrend' 'MaxSlope' 'Mean' 'Meanvariance' 'MedianAbsDev' 'MedianBRP'\n",
      " 'PairSlopeTrend' 'PercentAmplitude' 'Q31' 'Rcs' 'Skew' 'SlottedA_length'\n",
      " 'SmallKurtosis' 'Std' 'StetsonK_AC'] [ 1.25000000e+02  4.10526316e-01  1.17667376e+05  1.00000000e+01\n",
      "  5.00000000e-01  0.00000000e+00 -3.18575559e-02             inf\n",
      "  5.88336882e+04  1.59349126e-06  8.13110000e-02  1.98245614e-01\n",
      "  9.66666667e-01  2.75752728e-06  1.62340750e-01  4.33347058e-01\n",
      "  1.49098131e-03             nan -1.19727335e+00  9.37509679e-02\n",
      "             nan]\n",
      "125.0\n"
     ]
    },
    {
     "name": "stderr",
     "output_type": "stream",
     "text": [
      "/Users/swebb/opt/anaconda3/lib/python3.9/site-packages/statsmodels/tsa/stattools.py:667: FutureWarning: fft=True will become the default after the release of the 0.12 release of statsmodels. To suppress this warning, explicitly set fft=False.\n",
      "  warnings.warn(\n"
     ]
    },
    {
     "name": "stdout",
     "output_type": "stream",
     "text": [
      "['Autocor_length' 'Beyond1Std' 'CAR_mean' 'CAR_sigma' 'CAR_tau' 'Con'\n",
      " 'LinearTrend' 'MaxSlope' 'Mean' 'Meanvariance' 'MedianAbsDev' 'MedianBRP'\n",
      " 'PairSlopeTrend' 'PercentAmplitude' 'Q31' 'Rcs' 'Skew' 'SlottedA_length'\n",
      " 'SmallKurtosis' 'Std' 'StetsonK_AC'] [ 1.23000000e+02  4.15929204e-01  1.17667378e+05  1.00000000e+01\n",
      "  5.00000000e-01  0.00000000e+00  1.22520613e-02  1.62483000e+05\n",
      "  5.88336892e+04  1.59074473e-06  8.05640000e-02  2.00000000e-01\n",
      "  9.66666667e-01  2.77259511e-06  1.60915000e-01  4.32755511e-01\n",
      " -1.47178393e-02  1.00000000e+00 -1.18662306e+00  9.35893810e-02\n",
      "  1.00000000e+00]\n",
      "123.0\n"
     ]
    },
    {
     "name": "stderr",
     "output_type": "stream",
     "text": [
      "/Users/swebb/opt/anaconda3/lib/python3.9/site-packages/feets/extractors/ext_max_slope.py:91: RuntimeWarning: divide by zero encountered in true_divide\n",
      "  slope = np.abs(magnitude[1:] - magnitude[:-1]) / (time[1:] - time[:-1])\n",
      "/Users/swebb/opt/anaconda3/lib/python3.9/site-packages/statsmodels/tsa/stattools.py:667: FutureWarning: fft=True will become the default after the release of the 0.12 release of statsmodels. To suppress this warning, explicitly set fft=False.\n",
      "  warnings.warn(\n",
      "/Users/swebb/opt/anaconda3/lib/python3.9/site-packages/numpy/core/fromnumeric.py:3419: RuntimeWarning: Mean of empty slice.\n",
      "  return _methods._mean(a, axis=axis, dtype=dtype,\n",
      "/Users/swebb/opt/anaconda3/lib/python3.9/site-packages/numpy/core/_methods.py:188: RuntimeWarning: invalid value encountered in double_scalars\n",
      "  ret = ret.dtype.type(ret / rcount)\n",
      "/Users/swebb/opt/anaconda3/lib/python3.9/site-packages/numpy/core/_methods.py:261: RuntimeWarning: Degrees of freedom <= 0 for slice\n",
      "  ret = _var(a, axis=axis, dtype=dtype, out=out, ddof=ddof,\n",
      "/Users/swebb/opt/anaconda3/lib/python3.9/site-packages/numpy/core/_methods.py:221: RuntimeWarning: invalid value encountered in true_divide\n",
      "  arrmean = um.true_divide(arrmean, div, out=arrmean, casting='unsafe',\n",
      "/Users/swebb/opt/anaconda3/lib/python3.9/site-packages/numpy/core/_methods.py:253: RuntimeWarning: invalid value encountered in double_scalars\n",
      "  ret = ret.dtype.type(ret / rcount)\n",
      "/Users/swebb/opt/anaconda3/lib/python3.9/site-packages/feets/extractors/ext_stetson.py:247: RuntimeWarning: divide by zero encountered in double_scalars\n",
      "  K = (1 / np.sqrt(N_autocor * 1.0) *\n",
      "/Users/swebb/opt/anaconda3/lib/python3.9/site-packages/feets/extractors/ext_stetson.py:247: RuntimeWarning: invalid value encountered in double_scalars\n",
      "  K = (1 / np.sqrt(N_autocor * 1.0) *\n",
      "/Users/swebb/opt/anaconda3/lib/python3.9/site-packages/statsmodels/tsa/stattools.py:667: FutureWarning: fft=True will become the default after the release of the 0.12 release of statsmodels. To suppress this warning, explicitly set fft=False.\n",
      "  warnings.warn(\n",
      "/Users/swebb/opt/anaconda3/lib/python3.9/site-packages/feets/extractors/ext_max_slope.py:91: RuntimeWarning: divide by zero encountered in true_divide\n",
      "  slope = np.abs(magnitude[1:] - magnitude[:-1]) / (time[1:] - time[:-1])\n"
     ]
    },
    {
     "name": "stdout",
     "output_type": "stream",
     "text": [
      "['Autocor_length' 'Beyond1Std' 'CAR_mean' 'CAR_sigma' 'CAR_tau' 'Con'\n",
      " 'LinearTrend' 'MaxSlope' 'Mean' 'Meanvariance' 'MedianAbsDev' 'MedianBRP'\n",
      " 'PairSlopeTrend' 'PercentAmplitude' 'Q31' 'Rcs' 'Skew' 'SlottedA_length'\n",
      " 'SmallKurtosis' 'Std' 'StetsonK_AC'] [ 1.24000000e+02  4.07732865e-01  1.17667377e+05  1.00000000e+01\n",
      "  5.00000000e-01  0.00000000e+00 -1.52015505e-02             inf\n",
      "  5.88336885e+04  1.59079499e-06  8.11330000e-02  1.98594025e-01\n",
      "  9.66666667e-01  2.75325251e-06  1.62059000e-01  4.33341499e-01\n",
      "  1.28670477e-03             nan -1.19701465e+00  9.35923372e-02\n",
      "             nan]\n",
      "124.0\n",
      "['Autocor_length' 'Beyond1Std' 'CAR_mean' 'CAR_sigma' 'CAR_tau' 'Con'\n",
      " 'LinearTrend' 'MaxSlope' 'Mean' 'Meanvariance' 'MedianAbsDev' 'MedianBRP'\n",
      " 'PairSlopeTrend' 'PercentAmplitude' 'Q31' 'Rcs' 'Skew' 'SlottedA_length'\n",
      " 'SmallKurtosis' 'Std' 'StetsonK_AC'] [ 1.25000000e+02  4.05263158e-01  1.17667376e+05  1.00000000e+01\n",
      "  5.00000000e-01  0.00000000e+00  6.11333255e-02             inf\n",
      "  5.88336882e+04  1.59349126e-06  8.13110000e-02  1.98245614e-01\n",
      "  9.66666667e-01  2.75752728e-06  1.62340750e-01  4.33347058e-01\n",
      "  1.49098131e-03             nan -1.19727335e+00  9.37509679e-02\n",
      "             nan]\n",
      "125.0\n"
     ]
    },
    {
     "name": "stderr",
     "output_type": "stream",
     "text": [
      "/Users/swebb/opt/anaconda3/lib/python3.9/site-packages/statsmodels/tsa/stattools.py:667: FutureWarning: fft=True will become the default after the release of the 0.12 release of statsmodels. To suppress this warning, explicitly set fft=False.\n",
      "  warnings.warn(\n",
      "/Users/swebb/opt/anaconda3/lib/python3.9/site-packages/numpy/core/fromnumeric.py:3419: RuntimeWarning: Mean of empty slice.\n",
      "  return _methods._mean(a, axis=axis, dtype=dtype,\n",
      "/Users/swebb/opt/anaconda3/lib/python3.9/site-packages/numpy/core/_methods.py:188: RuntimeWarning: invalid value encountered in double_scalars\n",
      "  ret = ret.dtype.type(ret / rcount)\n",
      "/Users/swebb/opt/anaconda3/lib/python3.9/site-packages/numpy/core/_methods.py:261: RuntimeWarning: Degrees of freedom <= 0 for slice\n",
      "  ret = _var(a, axis=axis, dtype=dtype, out=out, ddof=ddof,\n",
      "/Users/swebb/opt/anaconda3/lib/python3.9/site-packages/numpy/core/_methods.py:221: RuntimeWarning: invalid value encountered in true_divide\n",
      "  arrmean = um.true_divide(arrmean, div, out=arrmean, casting='unsafe',\n",
      "/Users/swebb/opt/anaconda3/lib/python3.9/site-packages/numpy/core/_methods.py:253: RuntimeWarning: invalid value encountered in double_scalars\n",
      "  ret = ret.dtype.type(ret / rcount)\n",
      "/Users/swebb/opt/anaconda3/lib/python3.9/site-packages/feets/extractors/ext_stetson.py:247: RuntimeWarning: divide by zero encountered in double_scalars\n",
      "  K = (1 / np.sqrt(N_autocor * 1.0) *\n",
      "/Users/swebb/opt/anaconda3/lib/python3.9/site-packages/feets/extractors/ext_stetson.py:247: RuntimeWarning: invalid value encountered in double_scalars\n",
      "  K = (1 / np.sqrt(N_autocor * 1.0) *\n"
     ]
    },
    {
     "name": "stdout",
     "output_type": "stream",
     "text": [
      "['Autocor_length' 'Beyond1Std' 'CAR_mean' 'CAR_sigma' 'CAR_tau' 'Con'\n",
      " 'LinearTrend' 'MaxSlope' 'Mean' 'Meanvariance' 'MedianAbsDev' 'MedianBRP'\n",
      " 'PairSlopeTrend' 'PercentAmplitude' 'Q31' 'Rcs' 'Skew' 'SlottedA_length'\n",
      " 'SmallKurtosis' 'Std' 'StetsonK_AC'] [ 1.24000000e+02  4.15492958e-01  1.17667377e+05  1.00000000e+01\n",
      "  5.00000000e-01  0.00000000e+00  1.46380995e+00  5.46499999e+04\n",
      "  5.88336887e+04  1.59132545e-06  8.10295000e-02  1.98943662e-01\n",
      "  9.66666667e-01  2.75805417e-06  1.61779000e-01  4.33129819e-01\n",
      " -4.10824401e-03             nan -1.19246051e+00  9.36235463e-02\n",
      "             nan]\n",
      "124.0\n"
     ]
    },
    {
     "name": "stderr",
     "output_type": "stream",
     "text": [
      "/Users/swebb/opt/anaconda3/lib/python3.9/site-packages/numpy/core/fromnumeric.py:3419: RuntimeWarning: Mean of empty slice.\n",
      "  return _methods._mean(a, axis=axis, dtype=dtype,\n",
      "/Users/swebb/opt/anaconda3/lib/python3.9/site-packages/numpy/core/_methods.py:188: RuntimeWarning: invalid value encountered in double_scalars\n",
      "  ret = ret.dtype.type(ret / rcount)\n",
      "/Users/swebb/opt/anaconda3/lib/python3.9/site-packages/numpy/core/_methods.py:261: RuntimeWarning: Degrees of freedom <= 0 for slice\n",
      "  ret = _var(a, axis=axis, dtype=dtype, out=out, ddof=ddof,\n",
      "/Users/swebb/opt/anaconda3/lib/python3.9/site-packages/numpy/core/_methods.py:221: RuntimeWarning: invalid value encountered in true_divide\n",
      "  arrmean = um.true_divide(arrmean, div, out=arrmean, casting='unsafe',\n",
      "/Users/swebb/opt/anaconda3/lib/python3.9/site-packages/numpy/core/_methods.py:253: RuntimeWarning: invalid value encountered in double_scalars\n",
      "  ret = ret.dtype.type(ret / rcount)\n",
      "/Users/swebb/opt/anaconda3/lib/python3.9/site-packages/feets/extractors/ext_stetson.py:247: RuntimeWarning: divide by zero encountered in double_scalars\n",
      "  K = (1 / np.sqrt(N_autocor * 1.0) *\n",
      "/Users/swebb/opt/anaconda3/lib/python3.9/site-packages/feets/extractors/ext_stetson.py:247: RuntimeWarning: invalid value encountered in double_scalars\n",
      "  K = (1 / np.sqrt(N_autocor * 1.0) *\n",
      "/Users/swebb/opt/anaconda3/lib/python3.9/site-packages/statsmodels/tsa/stattools.py:667: FutureWarning: fft=True will become the default after the release of the 0.12 release of statsmodels. To suppress this warning, explicitly set fft=False.\n",
      "  warnings.warn(\n",
      "/Users/swebb/opt/anaconda3/lib/python3.9/site-packages/feets/extractors/ext_max_slope.py:91: RuntimeWarning: divide by zero encountered in true_divide\n",
      "  slope = np.abs(magnitude[1:] - magnitude[:-1]) / (time[1:] - time[:-1])\n"
     ]
    },
    {
     "name": "stdout",
     "output_type": "stream",
     "text": [
      "['Autocor_length' 'Beyond1Std' 'CAR_mean' 'CAR_sigma' 'CAR_tau' 'Con'\n",
      " 'LinearTrend' 'MaxSlope' 'Mean' 'Meanvariance' 'MedianAbsDev' 'MedianBRP'\n",
      " 'PairSlopeTrend' 'PercentAmplitude' 'Q31' 'Rcs' 'Skew' 'SlottedA_length'\n",
      " 'SmallKurtosis' 'Std' 'StetsonK_AC'] [ 1.24000000e+02  4.11247803e-01  1.17667377e+05  1.00000000e+01\n",
      "  5.00000000e-01  0.00000000e+00 -2.74402820e-01             inf\n",
      "  5.88336884e+04  1.59350162e-06  8.11330000e-02  1.98594025e-01\n",
      "  9.66666667e-01  2.75325251e-06  1.62059000e-01  4.33230910e-01\n",
      " -2.02126102e-03             nan -1.19586432e+00  9.37515776e-02\n",
      "             nan]\n",
      "124.0\n"
     ]
    },
    {
     "name": "stderr",
     "output_type": "stream",
     "text": [
      "/Users/swebb/opt/anaconda3/lib/python3.9/site-packages/numpy/core/fromnumeric.py:3419: RuntimeWarning: Mean of empty slice.\n",
      "  return _methods._mean(a, axis=axis, dtype=dtype,\n",
      "/Users/swebb/opt/anaconda3/lib/python3.9/site-packages/numpy/core/_methods.py:188: RuntimeWarning: invalid value encountered in double_scalars\n",
      "  ret = ret.dtype.type(ret / rcount)\n",
      "/Users/swebb/opt/anaconda3/lib/python3.9/site-packages/numpy/core/_methods.py:261: RuntimeWarning: Degrees of freedom <= 0 for slice\n",
      "  ret = _var(a, axis=axis, dtype=dtype, out=out, ddof=ddof,\n",
      "/Users/swebb/opt/anaconda3/lib/python3.9/site-packages/numpy/core/_methods.py:221: RuntimeWarning: invalid value encountered in true_divide\n",
      "  arrmean = um.true_divide(arrmean, div, out=arrmean, casting='unsafe',\n",
      "/Users/swebb/opt/anaconda3/lib/python3.9/site-packages/numpy/core/_methods.py:253: RuntimeWarning: invalid value encountered in double_scalars\n",
      "  ret = ret.dtype.type(ret / rcount)\n",
      "/Users/swebb/opt/anaconda3/lib/python3.9/site-packages/feets/extractors/ext_stetson.py:247: RuntimeWarning: divide by zero encountered in double_scalars\n",
      "  K = (1 / np.sqrt(N_autocor * 1.0) *\n",
      "/Users/swebb/opt/anaconda3/lib/python3.9/site-packages/feets/extractors/ext_stetson.py:247: RuntimeWarning: invalid value encountered in double_scalars\n",
      "  K = (1 / np.sqrt(N_autocor * 1.0) *\n",
      "/Users/swebb/opt/anaconda3/lib/python3.9/site-packages/feets/extractors/ext_max_slope.py:91: RuntimeWarning: divide by zero encountered in true_divide\n",
      "  slope = np.abs(magnitude[1:] - magnitude[:-1]) / (time[1:] - time[:-1])\n",
      "/Users/swebb/opt/anaconda3/lib/python3.9/site-packages/statsmodels/tsa/stattools.py:667: FutureWarning: fft=True will become the default after the release of the 0.12 release of statsmodels. To suppress this warning, explicitly set fft=False.\n",
      "  warnings.warn(\n"
     ]
    },
    {
     "name": "stdout",
     "output_type": "stream",
     "text": [
      "['Autocor_length' 'Beyond1Std' 'CAR_mean' 'CAR_sigma' 'CAR_tau' 'Con'\n",
      " 'LinearTrend' 'MaxSlope' 'Mean' 'Meanvariance' 'MedianAbsDev' 'MedianBRP'\n",
      " 'PairSlopeTrend' 'PercentAmplitude' 'Q31' 'Rcs' 'Skew' 'SlottedA_length'\n",
      " 'SmallKurtosis' 'Std' 'StetsonK_AC'] [ 1.25000000e+02  4.21052632e-01  1.17667376e+05  1.00000000e+01\n",
      "  5.00000000e-01  0.00000000e+00  1.12145859e+00             inf\n",
      "  5.88336882e+04  1.59349126e-06  8.13110000e-02  1.98245614e-01\n",
      "  9.66666667e-01  2.75752728e-06  1.62340750e-01  4.33347058e-01\n",
      "  1.49098131e-03             nan -1.19727335e+00  9.37509679e-02\n",
      "             nan]\n",
      "125.0\n",
      "['Autocor_length' 'Beyond1Std' 'CAR_mean' 'CAR_sigma' 'CAR_tau' 'Con'\n",
      " 'LinearTrend' 'MaxSlope' 'Mean' 'Meanvariance' 'MedianAbsDev' 'MedianBRP'\n",
      " 'PairSlopeTrend' 'PercentAmplitude' 'Q31' 'Rcs' 'Skew' 'SlottedA_length'\n",
      " 'SmallKurtosis' 'Std' 'StetsonK_AC'] [ 1.24000000e+02  4.04217926e-01  1.17667376e+05  1.00000000e+01\n",
      "  5.00000000e-01  0.00000000e+00 -2.53825639e-01  1.30126000e+05\n",
      "  5.88336882e+04  1.59456865e-06  8.14740000e-02  1.98594025e-01\n",
      "  9.66666667e-01  2.76236296e-06  1.62622000e-01  4.33393542e-01\n",
      "  3.82358065e-03             nan -1.19906973e+00  9.38143549e-02\n",
      "             nan]\n",
      "124.0\n"
     ]
    },
    {
     "name": "stderr",
     "output_type": "stream",
     "text": [
      "/Users/swebb/opt/anaconda3/lib/python3.9/site-packages/statsmodels/tsa/stattools.py:667: FutureWarning: fft=True will become the default after the release of the 0.12 release of statsmodels. To suppress this warning, explicitly set fft=False.\n",
      "  warnings.warn(\n",
      "/Users/swebb/opt/anaconda3/lib/python3.9/site-packages/feets/extractors/ext_max_slope.py:91: RuntimeWarning: divide by zero encountered in true_divide\n",
      "  slope = np.abs(magnitude[1:] - magnitude[:-1]) / (time[1:] - time[:-1])\n"
     ]
    },
    {
     "name": "stdout",
     "output_type": "stream",
     "text": [
      "['Autocor_length' 'Beyond1Std' 'CAR_mean' 'CAR_sigma' 'CAR_tau' 'Con'\n",
      " 'LinearTrend' 'MaxSlope' 'Mean' 'Meanvariance' 'MedianAbsDev' 'MedianBRP'\n",
      " 'PairSlopeTrend' 'PercentAmplitude' 'Q31' 'Rcs' 'Skew' 'SlottedA_length'\n",
      " 'SmallKurtosis' 'Std' 'StetsonK_AC'] [ 1.24000000e+02  4.10934744e-01  1.17667378e+05  1.00000000e+01\n",
      "  5.00000000e-01  0.00000000e+00 -1.17392811e-01             inf\n",
      "  5.88336888e+04  1.59270213e-06  8.09280000e-02  1.99294533e-01\n",
      "  9.66666667e-01  2.76285582e-06  1.61489500e-01  4.32980657e-01\n",
      " -8.85040368e-03             nan -1.19164240e+00  9.37045415e-02\n",
      "  1.00000000e+00]\n",
      "124.0\n"
     ]
    },
    {
     "name": "stderr",
     "output_type": "stream",
     "text": [
      "/Users/swebb/opt/anaconda3/lib/python3.9/site-packages/statsmodels/tsa/stattools.py:667: FutureWarning: fft=True will become the default after the release of the 0.12 release of statsmodels. To suppress this warning, explicitly set fft=False.\n",
      "  warnings.warn(\n",
      "/Users/swebb/opt/anaconda3/lib/python3.9/site-packages/numpy/core/fromnumeric.py:3419: RuntimeWarning: Mean of empty slice.\n",
      "  return _methods._mean(a, axis=axis, dtype=dtype,\n",
      "/Users/swebb/opt/anaconda3/lib/python3.9/site-packages/numpy/core/_methods.py:188: RuntimeWarning: invalid value encountered in double_scalars\n",
      "  ret = ret.dtype.type(ret / rcount)\n",
      "/Users/swebb/opt/anaconda3/lib/python3.9/site-packages/numpy/core/_methods.py:261: RuntimeWarning: Degrees of freedom <= 0 for slice\n",
      "  ret = _var(a, axis=axis, dtype=dtype, out=out, ddof=ddof,\n",
      "/Users/swebb/opt/anaconda3/lib/python3.9/site-packages/numpy/core/_methods.py:221: RuntimeWarning: invalid value encountered in true_divide\n",
      "  arrmean = um.true_divide(arrmean, div, out=arrmean, casting='unsafe',\n",
      "/Users/swebb/opt/anaconda3/lib/python3.9/site-packages/numpy/core/_methods.py:253: RuntimeWarning: invalid value encountered in double_scalars\n",
      "  ret = ret.dtype.type(ret / rcount)\n",
      "/Users/swebb/opt/anaconda3/lib/python3.9/site-packages/feets/extractors/ext_stetson.py:247: RuntimeWarning: divide by zero encountered in double_scalars\n",
      "  K = (1 / np.sqrt(N_autocor * 1.0) *\n",
      "/Users/swebb/opt/anaconda3/lib/python3.9/site-packages/feets/extractors/ext_stetson.py:247: RuntimeWarning: invalid value encountered in double_scalars\n",
      "  K = (1 / np.sqrt(N_autocor * 1.0) *\n"
     ]
    },
    {
     "name": "stdout",
     "output_type": "stream",
     "text": [
      "['Autocor_length' 'Beyond1Std' 'CAR_mean' 'CAR_sigma' 'CAR_tau' 'Con'\n",
      " 'LinearTrend' 'MaxSlope' 'Mean' 'Meanvariance' 'MedianAbsDev' 'MedianBRP'\n",
      " 'PairSlopeTrend' 'PercentAmplitude' 'Q31' 'Rcs' 'Skew' 'SlottedA_length'\n",
      " 'SmallKurtosis' 'Std' 'StetsonK_AC'] [ 1.25000000e+02  4.22807018e-01  1.17667376e+05  1.00000000e+01\n",
      "  5.00000000e-01  0.00000000e+00 -3.16656076e-01  5.75062500e+03\n",
      "  5.88336882e+04  1.59349126e-06  8.13110000e-02  1.98245614e-01\n",
      "  9.66666667e-01  2.75752728e-06  1.62340750e-01  4.33347058e-01\n",
      "  1.49098131e-03  1.00000000e+00 -1.19727335e+00  9.37509679e-02\n",
      "  1.00000000e+00]\n",
      "125.0\n",
      "['Autocor_length' 'Beyond1Std' 'CAR_mean' 'CAR_sigma' 'CAR_tau' 'Con'\n",
      " 'LinearTrend' 'MaxSlope' 'Mean' 'Meanvariance' 'MedianAbsDev' 'MedianBRP'\n",
      " 'PairSlopeTrend' 'PercentAmplitude' 'Q31' 'Rcs' 'Skew' 'SlottedA_length'\n",
      " 'SmallKurtosis' 'Std' 'StetsonK_AC'] [ 1.24000000e+02  4.18277680e-01  1.17667377e+05  1.00000000e+01\n",
      "  5.00000000e-01  0.00000000e+00 -1.01178243e+00  2.36008000e+05\n",
      "  5.88336884e+04  1.59285054e-06  8.11330000e-02  1.98594025e-01\n",
      "  9.66666667e-01  2.75325251e-06  1.62059000e-01  4.33223022e-01\n",
      " -1.77879523e-03             nan -1.19491719e+00  9.37132724e-02\n",
      "             nan]\n",
      "124.0\n"
     ]
    },
    {
     "name": "stderr",
     "output_type": "stream",
     "text": [
      "/Users/swebb/opt/anaconda3/lib/python3.9/site-packages/statsmodels/tsa/stattools.py:667: FutureWarning: fft=True will become the default after the release of the 0.12 release of statsmodels. To suppress this warning, explicitly set fft=False.\n",
      "  warnings.warn(\n",
      "/Users/swebb/opt/anaconda3/lib/python3.9/site-packages/numpy/core/fromnumeric.py:3419: RuntimeWarning: Mean of empty slice.\n",
      "  return _methods._mean(a, axis=axis, dtype=dtype,\n",
      "/Users/swebb/opt/anaconda3/lib/python3.9/site-packages/numpy/core/_methods.py:188: RuntimeWarning: invalid value encountered in double_scalars\n",
      "  ret = ret.dtype.type(ret / rcount)\n",
      "/Users/swebb/opt/anaconda3/lib/python3.9/site-packages/numpy/core/_methods.py:261: RuntimeWarning: Degrees of freedom <= 0 for slice\n",
      "  ret = _var(a, axis=axis, dtype=dtype, out=out, ddof=ddof,\n",
      "/Users/swebb/opt/anaconda3/lib/python3.9/site-packages/numpy/core/_methods.py:221: RuntimeWarning: invalid value encountered in true_divide\n",
      "  arrmean = um.true_divide(arrmean, div, out=arrmean, casting='unsafe',\n",
      "/Users/swebb/opt/anaconda3/lib/python3.9/site-packages/numpy/core/_methods.py:253: RuntimeWarning: invalid value encountered in double_scalars\n",
      "  ret = ret.dtype.type(ret / rcount)\n",
      "/Users/swebb/opt/anaconda3/lib/python3.9/site-packages/feets/extractors/ext_stetson.py:247: RuntimeWarning: divide by zero encountered in double_scalars\n",
      "  K = (1 / np.sqrt(N_autocor * 1.0) *\n",
      "/Users/swebb/opt/anaconda3/lib/python3.9/site-packages/feets/extractors/ext_stetson.py:247: RuntimeWarning: invalid value encountered in double_scalars\n",
      "  K = (1 / np.sqrt(N_autocor * 1.0) *\n",
      "/Users/swebb/opt/anaconda3/lib/python3.9/site-packages/feets/extractors/ext_max_slope.py:91: RuntimeWarning: divide by zero encountered in true_divide\n",
      "  slope = np.abs(magnitude[1:] - magnitude[:-1]) / (time[1:] - time[:-1])\n"
     ]
    },
    {
     "name": "stdout",
     "output_type": "stream",
     "text": [
      "['Autocor_length' 'Beyond1Std' 'CAR_mean' 'CAR_sigma' 'CAR_tau' 'Con'\n",
      " 'LinearTrend' 'MaxSlope' 'Mean' 'Meanvariance' 'MedianAbsDev' 'MedianBRP'\n",
      " 'PairSlopeTrend' 'PercentAmplitude' 'Q31' 'Rcs' 'Skew' 'SlottedA_length'\n",
      " 'SmallKurtosis' 'Std' 'StetsonK_AC'] [ 1.24000000e+02  4.07732865e-01  1.17667377e+05  1.00000000e+01\n",
      "  5.00000000e-01  0.00000000e+00 -4.00682367e-01             inf\n",
      "  5.88336885e+04  1.59228668e-06  8.11330000e-02  1.98594025e-01\n",
      "  9.66666667e-01  2.75325251e-06  1.62059000e-01  4.33239143e-01\n",
      " -1.23633034e-03             nan -1.19472156e+00  9.36800987e-02\n",
      "             nan]\n",
      "124.0\n"
     ]
    },
    {
     "name": "stderr",
     "output_type": "stream",
     "text": [
      "/Users/swebb/opt/anaconda3/lib/python3.9/site-packages/statsmodels/tsa/stattools.py:667: FutureWarning: fft=True will become the default after the release of the 0.12 release of statsmodels. To suppress this warning, explicitly set fft=False.\n",
      "  warnings.warn(\n"
     ]
    },
    {
     "name": "stdout",
     "output_type": "stream",
     "text": [
      "['Autocor_length' 'Beyond1Std' 'CAR_mean' 'CAR_sigma' 'CAR_tau' 'Con'\n",
      " 'LinearTrend' 'MaxSlope' 'Mean' 'Meanvariance' 'MedianAbsDev' 'MedianBRP'\n",
      " 'PairSlopeTrend' 'PercentAmplitude' 'Q31' 'Rcs' 'Skew' 'SlottedA_length'\n",
      " 'SmallKurtosis' 'Std' 'StetsonK_AC'] [ 1.24000000e+02  4.14462081e-01  1.17667378e+05  1.00000000e+01\n",
      "  5.00000000e-01  0.00000000e+00 -1.94209428e-01             inf\n",
      "  5.88336888e+04  1.59253250e-06  8.09280000e-02  1.99294533e-01\n",
      "  9.66666667e-01  2.76285582e-06  1.61489500e-01  4.32978729e-01\n",
      " -8.78538877e-03  1.00000000e+00 -1.19139714e+00  9.36945617e-02\n",
      "  1.00000000e+00]\n",
      "124.0\n"
     ]
    },
    {
     "name": "stderr",
     "output_type": "stream",
     "text": [
      "/Users/swebb/opt/anaconda3/lib/python3.9/site-packages/statsmodels/tsa/stattools.py:667: FutureWarning: fft=True will become the default after the release of the 0.12 release of statsmodels. To suppress this warning, explicitly set fft=False.\n",
      "  warnings.warn(\n"
     ]
    },
    {
     "name": "stdout",
     "output_type": "stream",
     "text": [
      "['Autocor_length' 'Beyond1Std' 'CAR_mean' 'CAR_sigma' 'CAR_tau' 'Con'\n",
      " 'LinearTrend' 'MaxSlope' 'Mean' 'Meanvariance' 'MedianAbsDev' 'MedianBRP'\n",
      " 'PairSlopeTrend' 'PercentAmplitude' 'Q31' 'Rcs' 'Skew' 'SlottedA_length'\n",
      " 'SmallKurtosis' 'Std' 'StetsonK_AC'] [ 4.50000000e+01  4.22330097e-01  1.17667376e+05  1.00000000e+01\n",
      "  5.00000000e-01  0.00000000e+00 -3.32404534e-01  1.36053704e+03\n",
      "  5.88336878e+04  1.58403331e-06  8.42595000e-02  2.08737864e-01\n",
      "  9.66666667e-01  2.75321851e-06  1.67549500e-01  4.29111478e-01\n",
      " -1.02499100e-02  1.00000000e+00 -1.13654373e+00  9.31945213e-02\n",
      "  1.00000000e+00]\n",
      "45.0\n"
     ]
    },
    {
     "name": "stderr",
     "output_type": "stream",
     "text": [
      "/Users/swebb/opt/anaconda3/lib/python3.9/site-packages/statsmodels/tsa/stattools.py:667: FutureWarning: fft=True will become the default after the release of the 0.12 release of statsmodels. To suppress this warning, explicitly set fft=False.\n",
      "  warnings.warn(\n",
      "/Users/swebb/opt/anaconda3/lib/python3.9/site-packages/feets/extractors/ext_max_slope.py:91: RuntimeWarning: divide by zero encountered in true_divide\n",
      "  slope = np.abs(magnitude[1:] - magnitude[:-1]) / (time[1:] - time[:-1])\n"
     ]
    },
    {
     "name": "stdout",
     "output_type": "stream",
     "text": [
      "['Autocor_length' 'Beyond1Std' 'CAR_mean' 'CAR_sigma' 'CAR_tau' 'Con'\n",
      " 'LinearTrend' 'MaxSlope' 'Mean' 'Meanvariance' 'MedianAbsDev' 'MedianBRP'\n",
      " 'PairSlopeTrend' 'PercentAmplitude' 'Q31' 'Rcs' 'Skew' 'SlottedA_length'\n",
      " 'SmallKurtosis' 'Std' 'StetsonK_AC'] [ 1.24000000e+02  4.05975395e-01  1.17667377e+05  1.00000000e+01\n",
      "  5.00000000e-01  0.00000000e+00 -3.18941263e-04             inf\n",
      "  5.88336884e+04  1.59285054e-06  8.11330000e-02  1.98594025e-01\n",
      "  9.66666667e-01  2.75325251e-06  1.62059000e-01  4.33223022e-01\n",
      " -1.77879523e-03  1.00000000e+00 -1.19491719e+00  9.37132724e-02\n",
      "  1.00000000e+00]\n",
      "124.0\n"
     ]
    },
    {
     "name": "stderr",
     "output_type": "stream",
     "text": [
      "/Users/swebb/opt/anaconda3/lib/python3.9/site-packages/numpy/core/fromnumeric.py:3419: RuntimeWarning: Mean of empty slice.\n",
      "  return _methods._mean(a, axis=axis, dtype=dtype,\n",
      "/Users/swebb/opt/anaconda3/lib/python3.9/site-packages/numpy/core/_methods.py:188: RuntimeWarning: invalid value encountered in double_scalars\n",
      "  ret = ret.dtype.type(ret / rcount)\n",
      "/Users/swebb/opt/anaconda3/lib/python3.9/site-packages/numpy/core/_methods.py:261: RuntimeWarning: Degrees of freedom <= 0 for slice\n",
      "  ret = _var(a, axis=axis, dtype=dtype, out=out, ddof=ddof,\n",
      "/Users/swebb/opt/anaconda3/lib/python3.9/site-packages/numpy/core/_methods.py:221: RuntimeWarning: invalid value encountered in true_divide\n",
      "  arrmean = um.true_divide(arrmean, div, out=arrmean, casting='unsafe',\n",
      "/Users/swebb/opt/anaconda3/lib/python3.9/site-packages/numpy/core/_methods.py:253: RuntimeWarning: invalid value encountered in double_scalars\n",
      "  ret = ret.dtype.type(ret / rcount)\n",
      "/Users/swebb/opt/anaconda3/lib/python3.9/site-packages/feets/extractors/ext_stetson.py:247: RuntimeWarning: divide by zero encountered in double_scalars\n",
      "  K = (1 / np.sqrt(N_autocor * 1.0) *\n",
      "/Users/swebb/opt/anaconda3/lib/python3.9/site-packages/feets/extractors/ext_stetson.py:247: RuntimeWarning: invalid value encountered in double_scalars\n",
      "  K = (1 / np.sqrt(N_autocor * 1.0) *\n",
      "/Users/swebb/opt/anaconda3/lib/python3.9/site-packages/statsmodels/tsa/stattools.py:667: FutureWarning: fft=True will become the default after the release of the 0.12 release of statsmodels. To suppress this warning, explicitly set fft=False.\n",
      "  warnings.warn(\n"
     ]
    },
    {
     "name": "stdout",
     "output_type": "stream",
     "text": [
      "['Autocor_length' 'Beyond1Std' 'CAR_mean' 'CAR_sigma' 'CAR_tau' 'Con'\n",
      " 'LinearTrend' 'MaxSlope' 'Mean' 'Meanvariance' 'MedianAbsDev' 'MedianBRP'\n",
      " 'PairSlopeTrend' 'PercentAmplitude' 'Q31' 'Rcs' 'Skew' 'SlottedA_length'\n",
      " 'SmallKurtosis' 'Std' 'StetsonK_AC'] [ 1.24000000e+02  4.04929577e-01  1.17667378e+05  1.00000000e+01\n",
      "  5.00000000e-01  0.00000000e+00  2.65075523e-01  2.15543000e+05\n",
      "  5.88336888e+04  1.58839111e-06  8.10295000e-02  1.98943662e-01\n",
      "  9.66666667e-01  2.75805417e-06  1.61779000e-01  4.33309330e-01\n",
      "  4.64571106e-04             nan -1.19593081e+00  9.34509085e-02\n",
      "             nan]\n",
      "124.0\n"
     ]
    },
    {
     "name": "stderr",
     "output_type": "stream",
     "text": [
      "/Users/swebb/opt/anaconda3/lib/python3.9/site-packages/numpy/core/fromnumeric.py:3419: RuntimeWarning: Mean of empty slice.\n",
      "  return _methods._mean(a, axis=axis, dtype=dtype,\n",
      "/Users/swebb/opt/anaconda3/lib/python3.9/site-packages/numpy/core/_methods.py:188: RuntimeWarning: invalid value encountered in double_scalars\n",
      "  ret = ret.dtype.type(ret / rcount)\n",
      "/Users/swebb/opt/anaconda3/lib/python3.9/site-packages/numpy/core/_methods.py:261: RuntimeWarning: Degrees of freedom <= 0 for slice\n",
      "  ret = _var(a, axis=axis, dtype=dtype, out=out, ddof=ddof,\n",
      "/Users/swebb/opt/anaconda3/lib/python3.9/site-packages/numpy/core/_methods.py:221: RuntimeWarning: invalid value encountered in true_divide\n",
      "  arrmean = um.true_divide(arrmean, div, out=arrmean, casting='unsafe',\n",
      "/Users/swebb/opt/anaconda3/lib/python3.9/site-packages/numpy/core/_methods.py:253: RuntimeWarning: invalid value encountered in double_scalars\n",
      "  ret = ret.dtype.type(ret / rcount)\n",
      "/Users/swebb/opt/anaconda3/lib/python3.9/site-packages/feets/extractors/ext_stetson.py:247: RuntimeWarning: divide by zero encountered in double_scalars\n",
      "  K = (1 / np.sqrt(N_autocor * 1.0) *\n",
      "/Users/swebb/opt/anaconda3/lib/python3.9/site-packages/feets/extractors/ext_stetson.py:247: RuntimeWarning: invalid value encountered in double_scalars\n",
      "  K = (1 / np.sqrt(N_autocor * 1.0) *\n",
      "/Users/swebb/opt/anaconda3/lib/python3.9/site-packages/statsmodels/tsa/stattools.py:667: FutureWarning: fft=True will become the default after the release of the 0.12 release of statsmodels. To suppress this warning, explicitly set fft=False.\n",
      "  warnings.warn(\n",
      "/Users/swebb/opt/anaconda3/lib/python3.9/site-packages/feets/extractors/ext_max_slope.py:91: RuntimeWarning: divide by zero encountered in true_divide\n",
      "  slope = np.abs(magnitude[1:] - magnitude[:-1]) / (time[1:] - time[:-1])\n"
     ]
    },
    {
     "name": "stdout",
     "output_type": "stream",
     "text": [
      "['Autocor_length' 'Beyond1Std' 'CAR_mean' 'CAR_sigma' 'CAR_tau' 'Con'\n",
      " 'LinearTrend' 'MaxSlope' 'Mean' 'Meanvariance' 'MedianAbsDev' 'MedianBRP'\n",
      " 'PairSlopeTrend' 'PercentAmplitude' 'Q31' 'Rcs' 'Skew' 'SlottedA_length'\n",
      " 'SmallKurtosis' 'Std' 'StetsonK_AC'] [ 1.25000000e+02  4.07017544e-01  1.17667376e+05  1.00000000e+01\n",
      "  5.00000000e-01  0.00000000e+00  7.80917003e-01  2.29489231e+04\n",
      "  5.88336882e+04  1.59349126e-06  8.13110000e-02  1.98245614e-01\n",
      "  9.66666667e-01  2.75752728e-06  1.62340750e-01  4.33347058e-01\n",
      "  1.49098131e-03             nan -1.19727335e+00  9.37509679e-02\n",
      "             nan]\n",
      "125.0\n",
      "['Autocor_length' 'Beyond1Std' 'CAR_mean' 'CAR_sigma' 'CAR_tau' 'Con'\n",
      " 'LinearTrend' 'MaxSlope' 'Mean' 'Meanvariance' 'MedianAbsDev' 'MedianBRP'\n",
      " 'PairSlopeTrend' 'PercentAmplitude' 'Q31' 'Rcs' 'Skew' 'SlottedA_length'\n",
      " 'SmallKurtosis' 'Std' 'StetsonK_AC'] [ 1.24000000e+02  4.03169014e-01  1.17667377e+05  1.00000000e+01\n",
      "  5.00000000e-01  0.00000000e+00 -1.66867664e-01             inf\n",
      "  5.88336884e+04  1.59564317e-06  8.15955000e-02  1.97183099e-01\n",
      "  9.66666667e-01  2.75805417e-06  1.62902750e-01  4.33580790e-01\n",
      " -2.20670412e-03             nan -1.20102521e+00  9.38775732e-02\n",
      "             nan]\n",
      "124.0\n"
     ]
    },
    {
     "name": "stderr",
     "output_type": "stream",
     "text": [
      "/Users/swebb/opt/anaconda3/lib/python3.9/site-packages/statsmodels/tsa/stattools.py:667: FutureWarning: fft=True will become the default after the release of the 0.12 release of statsmodels. To suppress this warning, explicitly set fft=False.\n",
      "  warnings.warn(\n",
      "/Users/swebb/opt/anaconda3/lib/python3.9/site-packages/feets/extractors/ext_max_slope.py:91: RuntimeWarning: divide by zero encountered in true_divide\n",
      "  slope = np.abs(magnitude[1:] - magnitude[:-1]) / (time[1:] - time[:-1])\n"
     ]
    },
    {
     "name": "stdout",
     "output_type": "stream",
     "text": [
      "['Autocor_length' 'Beyond1Std' 'CAR_mean' 'CAR_sigma' 'CAR_tau' 'Con'\n",
      " 'LinearTrend' 'MaxSlope' 'Mean' 'Meanvariance' 'MedianAbsDev' 'MedianBRP'\n",
      " 'PairSlopeTrend' 'PercentAmplitude' 'Q31' 'Rcs' 'Skew' 'SlottedA_length'\n",
      " 'SmallKurtosis' 'Std' 'StetsonK_AC'] [ 1.24000000e+02  3.97188049e-01  1.17667377e+05  1.00000000e+01\n",
      "  5.00000000e-01  0.00000000e+00  5.76745926e-01             inf\n",
      "  5.88336884e+04  1.59285054e-06  8.11330000e-02  1.98594025e-01\n",
      "  9.66666667e-01  2.75325251e-06  1.62059000e-01  4.33223022e-01\n",
      " -1.77879523e-03  1.00000000e+00 -1.19491719e+00  9.37132724e-02\n",
      "  1.00000000e+00]\n",
      "124.0\n"
     ]
    },
    {
     "name": "stderr",
     "output_type": "stream",
     "text": [
      "/Users/swebb/opt/anaconda3/lib/python3.9/site-packages/numpy/core/fromnumeric.py:3419: RuntimeWarning: Mean of empty slice.\n",
      "  return _methods._mean(a, axis=axis, dtype=dtype,\n",
      "/Users/swebb/opt/anaconda3/lib/python3.9/site-packages/numpy/core/_methods.py:188: RuntimeWarning: invalid value encountered in double_scalars\n",
      "  ret = ret.dtype.type(ret / rcount)\n",
      "/Users/swebb/opt/anaconda3/lib/python3.9/site-packages/numpy/core/_methods.py:261: RuntimeWarning: Degrees of freedom <= 0 for slice\n",
      "  ret = _var(a, axis=axis, dtype=dtype, out=out, ddof=ddof,\n",
      "/Users/swebb/opt/anaconda3/lib/python3.9/site-packages/numpy/core/_methods.py:221: RuntimeWarning: invalid value encountered in true_divide\n",
      "  arrmean = um.true_divide(arrmean, div, out=arrmean, casting='unsafe',\n",
      "/Users/swebb/opt/anaconda3/lib/python3.9/site-packages/numpy/core/_methods.py:253: RuntimeWarning: invalid value encountered in double_scalars\n",
      "  ret = ret.dtype.type(ret / rcount)\n",
      "/Users/swebb/opt/anaconda3/lib/python3.9/site-packages/feets/extractors/ext_stetson.py:247: RuntimeWarning: divide by zero encountered in double_scalars\n",
      "  K = (1 / np.sqrt(N_autocor * 1.0) *\n",
      "/Users/swebb/opt/anaconda3/lib/python3.9/site-packages/feets/extractors/ext_stetson.py:247: RuntimeWarning: invalid value encountered in double_scalars\n",
      "  K = (1 / np.sqrt(N_autocor * 1.0) *\n",
      "/Users/swebb/opt/anaconda3/lib/python3.9/site-packages/feets/extractors/ext_max_slope.py:91: RuntimeWarning: divide by zero encountered in true_divide\n",
      "  slope = np.abs(magnitude[1:] - magnitude[:-1]) / (time[1:] - time[:-1])\n"
     ]
    },
    {
     "name": "stdout",
     "output_type": "stream",
     "text": [
      "['Autocor_length' 'Beyond1Std' 'CAR_mean' 'CAR_sigma' 'CAR_tau' 'Con'\n",
      " 'LinearTrend' 'MaxSlope' 'Mean' 'Meanvariance' 'MedianAbsDev' 'MedianBRP'\n",
      " 'PairSlopeTrend' 'PercentAmplitude' 'Q31' 'Rcs' 'Skew' 'SlottedA_length'\n",
      " 'SmallKurtosis' 'Std' 'StetsonK_AC'] [ 1.25000000e+02  4.14762742e-01  1.17667377e+05  1.00000000e+01\n",
      "  5.00000000e-01  0.00000000e+00 -5.41232132e-01             inf\n",
      "  5.88336883e+04  1.59488678e-06  8.14890000e-02  1.96836555e-01\n",
      "  9.66666667e-01  2.75325251e-06  1.62622000e-01  4.33681110e-01\n",
      "  1.20427319e-03             nan -1.20043442e+00  9.38330714e-02\n",
      "             nan]\n",
      "125.0\n"
     ]
    },
    {
     "name": "stderr",
     "output_type": "stream",
     "text": [
      "/Users/swebb/opt/anaconda3/lib/python3.9/site-packages/statsmodels/tsa/stattools.py:667: FutureWarning: fft=True will become the default after the release of the 0.12 release of statsmodels. To suppress this warning, explicitly set fft=False.\n",
      "  warnings.warn(\n"
     ]
    }
   ],
   "source": [
    "used_lcs = []\n",
    "filenames = []\n",
    "  \n",
    "Autocor_length = []\n",
    "Beyond1Std = []\n",
    "CAR_sigma = []\n",
    "CAR_mean = []\n",
    "CAR_tau =[]\n",
    "Con =[]\n",
    "Eta_e = []\n",
    "LinearTrend = []\n",
    "MaxSlope =[]\n",
    "Mean = []\n",
    "Meanvariance = []\n",
    "MedianAbsDev =[]\n",
    "MedianBRP =[]\n",
    "PairSlopeTrend =[]\n",
    "PercentAmplitude =[]\n",
    "Q31 =[]\n",
    "Rcs =[]\n",
    "Skew =[]\n",
    "SlottedA_length =[]\n",
    "SmallKurtosis =[]\n",
    "Std = []\n",
    "StetsonK_AC = []\n",
    "\n",
    "\n",
    "for filename in file_list: \n",
    "        if filename.endswith('.ascii'):\n",
    "            try:\n",
    "                hjd, mag, emag = np.loadtxt(path + filename, unpack = True, skiprows=1)\n",
    "            except: \n",
    "                print('FILE EMPTY)')\n",
    "            sum_mag = np.sum(mag)\n",
    "            # We don't won't to work with light curves with no values so we \n",
    "            # should filter them out before we get the features\n",
    "            if sum_mag == 0:\n",
    "                lc_with_only_zeros.append(filename)\n",
    "            elif sum_mag != 0:\n",
    "                used_lcs.append(filename)\n",
    "            clean_hjd = []\n",
    "            clean_mag = []\n",
    "            clean_emag = []\n",
    "            # Now we want to clean the light curves to remove any none numbers (someones nan's will be in the data)\n",
    "            for l,m,n in zip(hjd,mag, emag):\n",
    "                if m != 0:\n",
    "                    if m != 0:\n",
    "                        clean_hjd.append(l)\n",
    "                        clean_mag.append(m)\n",
    "                        clean_emag.append(n)\n",
    "                    elif m != float: \n",
    "                        pass \n",
    "                    \n",
    "            # ---  The feets package needs at least 3 data points  \n",
    "            if len(clean_hjd) > 3:\n",
    "                lc = np.array([clean_mag, clean_hjd, clean_emag])\n",
    "                fs=feets.FeatureSpace(only=['Autocor_length', 'Beyond1Std', 'CAR_sigma', 'CAR_mean',\n",
    "                                            'CAR_tau', 'Con', 'LinearTrend', 'MaxSlope',\n",
    "                                            'Mean', 'Meanvariance', 'MedianAbsDev', 'MedianBRP',\n",
    "                                            'PairSlopeTrend', 'PercentAmplitude', 'Q31', 'Rcs', 'Skew',\n",
    "                                            'SlottedA_length', 'SmallKurtosis', 'Std',\n",
    "                                            'StetsonK_AC' ])\n",
    "                \n",
    "                features, values = fs.extract(*lc)\n",
    "                print(features, values)\n",
    "                results = dict(zip(features,values))\n",
    "                print(results['Autocor_length'])\n",
    "                filenames.append(filename)\n",
    "                Autocor_length.append(results['Autocor_length'])\n",
    "                Beyond1Std.append(results['Beyond1Std'])\n",
    "                CAR_sigma.append(results['CAR_sigma'])\n",
    "                CAR_mean.append(results['CAR_mean'])\n",
    "                CAR_tau.append(results['CAR_tau'])\n",
    "                Con.append(results['Con'])\n",
    "                LinearTrend.append(results['LinearTrend'])\n",
    "                MaxSlope.append(results['MaxSlope'])\n",
    "                Mean.append(results['Mean'])\n",
    "                Meanvariance.append(results['Meanvariance'])\n",
    "                MedianAbsDev.append(results['MedianAbsDev'])\n",
    "                MedianBRP.append(results['MedianBRP'])\n",
    "                PairSlopeTrend.append(results['PairSlopeTrend'])\n",
    "                PercentAmplitude.append(results['PercentAmplitude'])\n",
    "                Q31.append(results['Q31'])\n",
    "                Rcs.append(results['Rcs'])\n",
    "                Skew.append(results['Skew'])\n",
    "                SlottedA_length.append(results['SlottedA_length'])\n",
    "                SmallKurtosis.append(results['SmallKurtosis'])\n",
    "                Std.append(results['Std'])\n",
    "                StetsonK_AC.append(results['StetsonK_AC'])\n",
    "                \n",
    "                \n",
    "            else: \n",
    "                print('Not enough data points')\n",
    "    #put all into a mega table with each row representing a different light curve \n",
    "feature_table = Table()\n",
    "feature_table['LC_name'] = filenames\n",
    "feature_table['Autocor_length'] = Autocor_length\n",
    "feature_table['Beyond1Std'] = Beyond1Std\n",
    "feature_table['CAR_sigma'] = CAR_sigma\n",
    "feature_table['CAR_mean'] = CAR_mean\n",
    "feature_table['CAR_tau'] = CAR_tau\n",
    "feature_table['Con'] = Con\n",
    "feature_table['LinearTrend'] = LinearTrend\n",
    "feature_table['MaxSlope'] = MaxSlope\n",
    "feature_table['Mean'] =Mean\n",
    "feature_table['Meanvariance'] =Meanvariance\n",
    "feature_table['MedianAbsDev'] =MedianAbsDev\n",
    "feature_table['MedianBRP'] =MedianBRP\n",
    "feature_table['PairSlopeTrend'] =PairSlopeTrend\n",
    "feature_table['PercentAmplitude'] =PercentAmplitude\n",
    "feature_table['Q31'] =Q31\n",
    "feature_table['Rcs'] =Rcs\n",
    "feature_table['Skew'] =Skew\n",
    "feature_table['SlottedA_length'] =SlottedA_length\n",
    "feature_table['SmallKurtosis'] =SmallKurtosis\n",
    "feature_table['Std'] =Std\n",
    "feature_table['StetsonK_AC'] =StetsonK_AC\n",
    "output =path+'/features_set.csv'\n",
    "df = feature_table.to_pandas()\n",
    "df = df.replace(np.nan, 0)\n",
    "df.to_csv(output)\n"
   ]
  },
  {
   "cell_type": "markdown",
   "id": "d900fa7e",
   "metadata": {},
   "source": [
    "# Now think of some other features you can add in "
   ]
  },
  {
   "cell_type": "code",
   "execution_count": 9,
   "id": "3a4a5333",
   "metadata": {},
   "outputs": [
    {
     "name": "stderr",
     "output_type": "stream",
     "text": [
      "/var/folders/rw/x2cf5q4d4pb3gjtnt9b1qkbx3lm9jr/T/ipykernel_48551/3433039279.py:64: RuntimeWarning: divide by zero encountered in double_scalars\n",
      "  phase_2_1 = phase2/phase1\n",
      "/var/folders/rw/x2cf5q4d4pb3gjtnt9b1qkbx3lm9jr/T/ipykernel_48551/3433039279.py:65: RuntimeWarning: divide by zero encountered in double_scalars\n",
      "  phase_3_1 = phase3/phase1\n"
     ]
    }
   ],
   "source": [
    "# Some ideas \n",
    "\n",
    "Amplitudes = []\n",
    "VariabilityIndex = []\n",
    "hl_ratio = []\n",
    "amp1_val = []\n",
    "amp_2_1_ratio = []\n",
    "amp_3_1_ratio = []\n",
    "phase_2_1_ratio = []\n",
    "phase_3_1_ratio = []\n",
    "filenames = []\n",
    "for filename in file_list: \n",
    "        if filename.endswith('.ascii'):\n",
    "            try:\n",
    "                hjd, mag, emag = np.loadtxt(path + filename, unpack = True, skiprows=1)\n",
    "            except: \n",
    "                print('FILE EMPTY)')\n",
    "            sum_mag = np.sum(mag)\n",
    "            # We don't won't to work with light curves with no values so we \n",
    "            # should filter them out before we get the features\n",
    "            if sum_mag == 0:\n",
    "                lc_with_only_zeros.append(filename)\n",
    "            elif sum_mag != 0:\n",
    "                used_lcs.append(filename)\n",
    "            clean_hjd = []\n",
    "            clean_mag = []\n",
    "            clean_emag = []\n",
    "            # Now we want to clean the light curves to remove any none numbers (someones nan's will be in the data)\n",
    "            for l,m,n in zip(hjd,mag, emag):\n",
    "                if m != 0:\n",
    "                    if m != 0:\n",
    "                        clean_hjd.append(l)\n",
    "                        clean_mag.append(m)\n",
    "                        clean_emag.append(n)\n",
    "                    elif m != float: \n",
    "                        pass \n",
    "                    \n",
    "            # ---  The feets package needs at least 3 data points  \n",
    "            if len(clean_hjd) > 3:\n",
    "                filenames.append(filename)\n",
    "                N = len(clean_mag)\n",
    "                sorted_mag = np.sort(clean_mag)\n",
    "                amp = (np.median(sorted_mag[-int(math.ceil(0.05*N)):]) - np.median(sorted_mag[0:int(math.ceil(0.05*N))])) / 2\n",
    "                Amplitudes.append(amp)\n",
    "                clean_mag_array = np.asarray(clean_mag)\n",
    "                sigma2 = np.var(clean_mag)\n",
    "                VarIndex = 1/((N-1)*sigma2)*np.sum(np.power(clean_mag_array[1:]-clean_mag_array[:-1], 2))\n",
    "                VariabilityIndex.append(VarIndex)\n",
    "                non_detects = []\n",
    "                fft = np.fft.rfft(clean_mag)\n",
    "                amps = np.sqrt(fft.real**2+fft.imag**2)\n",
    "                amp1 = amps[0]\n",
    "                amp1_val.append(amp1)\n",
    "                amp2 = amps[1]\n",
    "                amp3 = amps[2]\n",
    "                amp_2_1 = amp2/amp1\n",
    "                amp_3_1 = amp3/amp1 \n",
    "                amp_2_1_ratio.append(amp_2_1)\n",
    "                amp_3_1_ratio.append(amp_3_1)\n",
    "                phases = np.arctan2(fft.imag, fft.real)\n",
    "                phase1 = phases[0]\n",
    "                phase2 = phases[1]\n",
    "                phase3 = phases[2]\n",
    "                phase_2_1 = phase2/phase1\n",
    "                phase_3_1 = phase3/phase1  \n",
    "                phase_2_1_ratio.append(phase_2_1)\n",
    "                phase_3_1_ratio.append(phase_3_1)\n",
    "                \n",
    "feature_table = Table()\n",
    "feature_table['LC_name'] = filenames\n",
    "feature_table['Amplitudes'] = Amplitudes\n",
    "feature_table['amp1'] = amp1_val\n",
    "feature_table['amp_2_1_ratio'] = amp_2_1_ratio \n",
    "feature_table['amp_3_1_ratio'] = amp_3_1_ratio\n",
    "output =path+'/features_set_extra.csv'\n",
    "df = feature_table.to_pandas()\n",
    "df = df.replace(np.nan, 0)\n",
    "df.to_csv(output)\n",
    "\n",
    "\n"
   ]
  },
  {
   "cell_type": "code",
   "execution_count": null,
   "id": "9b3b2d92",
   "metadata": {},
   "outputs": [],
   "source": []
  }
 ],
 "metadata": {
  "kernelspec": {
   "display_name": "Python 3 (ipykernel)",
   "language": "python",
   "name": "python3"
  },
  "language_info": {
   "codemirror_mode": {
    "name": "ipython",
    "version": 3
   },
   "file_extension": ".py",
   "mimetype": "text/x-python",
   "name": "python",
   "nbconvert_exporter": "python",
   "pygments_lexer": "ipython3",
   "version": "3.9.7"
  }
 },
 "nbformat": 4,
 "nbformat_minor": 5
}
