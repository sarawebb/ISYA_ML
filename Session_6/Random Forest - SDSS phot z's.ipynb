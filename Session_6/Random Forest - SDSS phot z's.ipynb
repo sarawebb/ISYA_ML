{
 "cells": [
  {
   "cell_type": "code",
   "execution_count": 21,
   "id": "9d57acb4",
   "metadata": {},
   "outputs": [],
   "source": [
    "import numpy as np\n",
    "from matplotlib import pyplot as plt\n",
    "from sklearn.manifold import LocallyLinearEmbedding\n",
    "from astroML.datasets import fetch_sdss_specgals\n",
    "from astroML.datasets import fetch_sdss_spectrum\n",
    "from sklearn.ensemble import RandomForestRegressor\n",
    "\n",
    "## inspiration from the code provided by W. Trick & M. Walther figure 9.15 "
   ]
  },
  {
   "cell_type": "code",
   "execution_count": 8,
   "id": "51e2a698",
   "metadata": {},
   "outputs": [
    {
     "name": "stdout",
     "output_type": "stream",
     "text": [
      "('ra', 'dec', 'mjd', 'plate', 'fiberID', 'z', 'zErr', 'rChi2', 'velDisp', 'velDispErr', 'extinction_r', 'petroMag_r', 'psfMag_r', 'psfMagErr_r', 'modelMag_u', 'modelMagErr_u', 'modelMag_g', 'modelMagErr_g', 'modelMag_r', 'modelMagErr_r', 'modelMag_i', 'modelMagErr_i', 'modelMag_z', 'modelMagErr_z', 'petroR50_r', 'petroR90_r', 'nii_6584_flux', 'nii_6584_flux_err', 'h_alpha_flux', 'h_alpha_flux_err', 'oiii_5007_flux', 'oiii_5007_flux_err', 'h_beta_flux', 'h_beta_flux_err', 'h_delta_flux', 'h_delta_flux_err', 'd4000', 'd4000_err', 'bptclass', 'lgm_tot_p50', 'sfr_tot_p50', 'objID', 'specObjID')\n"
     ]
    }
   ],
   "source": [
    "## Get SDSS Spectra \n",
    "data = fetch_sdss_specgals()\n",
    "print(data.dtype.names)"
   ]
  },
  {
   "cell_type": "code",
   "execution_count": 7,
   "id": "c5b419ac",
   "metadata": {},
   "outputs": [
    {
     "data": {
      "text/plain": [
       "661598"
      ]
     },
     "execution_count": 7,
     "metadata": {},
     "output_type": "execute_result"
    }
   ],
   "source": []
  },
  {
   "cell_type": "code",
   "execution_count": 14,
   "id": "ec16f3ec",
   "metadata": {},
   "outputs": [],
   "source": [
    "import matplotlib.pyplot as plt\n",
    "from astroML.datasets import fetch_sdss_specgals\n",
    "\n",
    "# Download the SDSS spectroscopic galaxy data\n",
    "data = fetch_sdss_specgals()\n",
    "\n",
    "# put magnitudes in a matrix\n",
    "mag = np.vstack([data['modelMag_%s' % f] for f in 'ugriz']).T\n",
    "z = data['z']"
   ]
  },
  {
   "cell_type": "code",
   "execution_count": 25,
   "id": "72a9d1a8",
   "metadata": {},
   "outputs": [],
   "source": [
    "### IDEAS TO TEST ### \n",
    "# change how many samples you use in the training verse testing data  "
   ]
  },
  {
   "cell_type": "code",
   "execution_count": 15,
   "id": "fa824c1e",
   "metadata": {},
   "outputs": [],
   "source": [
    "# train on ~60,000 points\n",
    "mag_train = mag[::10]\n",
    "z_train = z[::10]"
   ]
  },
  {
   "cell_type": "code",
   "execution_count": 16,
   "id": "9007904f",
   "metadata": {},
   "outputs": [],
   "source": [
    "# test on ~6,000 distinct points\n",
    "mag_test = mag[1::100]\n",
    "z_test = z[1::100]"
   ]
  },
  {
   "cell_type": "code",
   "execution_count": 18,
   "id": "b149943b",
   "metadata": {},
   "outputs": [],
   "source": [
    "def compute_photoz_forest(depth,nest):\n",
    "    rms_test = np.zeros(len(depth))\n",
    "    rms_train = np.zeros(len(depth))\n",
    "    i_best = 0\n",
    "    z_fit_best = None\n",
    "    \n",
    "    z_fit_arr=[]\n",
    "    \n",
    "    for i, d in enumerate(depth):\n",
    "        clf = RandomForestRegressor(n_estimators=nest,\n",
    "                                    max_depth=d, random_state=0,n_jobs=-1)\n",
    "        clf.fit(mag_train, z_train)\n",
    "\n",
    "        z_fit_train = clf.predict(mag_train)\n",
    "        z_fit = clf.predict(mag_test)\n",
    "        rms_train[i] = np.sqrt(np.mean((z_fit_train - z_train) ** 2))\n",
    "        rms_test[i] = np.sqrt(np.mean((z_fit - z_test) ** 2))\n",
    "        score=clf.score(mag_test,z_test)\n",
    "        z_fit_arr.append(z_fit)\n",
    "        \n",
    "        if rms_test[i] <= rms_test[i_best]:\n",
    "            i_best = i\n",
    "            z_fit_best = z_fit\n",
    "                   \n",
    "    return rms_test, rms_train, i_best, z_fit_best, z_fit_arr, score"
   ]
  },
  {
   "cell_type": "code",
   "execution_count": 19,
   "id": "b9780bfd",
   "metadata": {},
   "outputs": [],
   "source": [
    "def compute_photoz_forest_nest(depth,nest):\n",
    "    rms_test = np.zeros(len(nest))\n",
    "    rms_train = np.zeros(len(nest))\n",
    "    i_best = 0\n",
    "    z_fit_best = None\n",
    "    \n",
    "    z_fit_arr=[]\n",
    "    \n",
    "    for i, n in enumerate(nest):\n",
    "        clf = RandomForestRegressor(n_estimators=n,\n",
    "                                    max_depth=depth, random_state=0,n_jobs=-1)\n",
    "        clf.fit(mag_train, z_train)\n",
    "\n",
    "        z_fit_train = clf.predict(mag_train)\n",
    "        z_fit = clf.predict(mag_test)\n",
    "        rms_train[i] = np.sqrt(np.mean((z_fit_train - z_train) ** 2))\n",
    "        rms_test[i] = np.sqrt(np.mean((z_fit - z_test) ** 2))\n",
    "        \n",
    "        z_fit_arr.append(z_fit)\n",
    "        \n",
    "        if rms_test[i] <= rms_test[i_best]:\n",
    "            i_best = i\n",
    "            z_fit_best = z_fit\n",
    "                   \n",
    "    return rms_test, rms_train, i_best, z_fit_best, z_fit_arr, score"
   ]
  },
  {
   "cell_type": "code",
   "execution_count": null,
   "id": "a1b2ef36",
   "metadata": {},
   "outputs": [],
   "source": [
    "### IDEAS TO TEST ### \n",
    "# change the depth of the tree \n",
    "# change the number of trees you want in forest "
   ]
  },
  {
   "cell_type": "code",
   "execution_count": 22,
   "id": "14c07066",
   "metadata": {},
   "outputs": [],
   "source": [
    "\n",
    "depth = np.arange(1, 21) ## the depth of the tree you are building \n",
    "nest = np.arange(1,11) ## the number of trees you want in your forest \n",
    "rms_test, rms_train, i_best, z_fit_best, z_fit_arr, score = compute_photoz_forest(depth,10)\n",
    "# z_fit_best = best fit for the testing data \n",
    "\n",
    "best_depth = depth[i_best]\n",
    "\n",
    "rms_test_nest, rms_train_nest, i_best_nest, z_fit_best_nest, z_fit_arr_nest, score_nest = compute_photoz_forest_nest(best_depth,nest)\n"
   ]
  },
  {
   "cell_type": "code",
   "execution_count": 24,
   "id": "8291dcef",
   "metadata": {},
   "outputs": [
    {
     "data": {
      "image/png": "[encoded data removed]",
      "text/plain": [
       "<Figure size 1080x360 with 2 Axes>"
      ]
     },
     "metadata": {
      "needs_background": "light"
     },
     "output_type": "display_data"
    }
   ],
   "source": [
    "# Plot the results\n",
    "fig = plt.figure(figsize=(15, 5))\n",
    "fig.subplots_adjust(wspace=0.25,\n",
    "                    left=0.1, right=0.95,\n",
    "                    bottom=0.15, top=0.9)\n",
    "\n",
    "# left panel: plot cross-validation results\n",
    "ax = fig.add_subplot(121)\n",
    "ax.plot(depth, rms_test, '-k', label='cross-validation')\n",
    "ax.plot(depth, rms_train, '--k', label='training set')\n",
    "ax.legend(loc=1)\n",
    "\n",
    "ax.set_xlabel('depth of tree')\n",
    "ax.set_ylabel('rms error')\n",
    "\n",
    "ax.set_xlim(0, 21)\n",
    "ax.set_ylim(0.009,  0.04)\n",
    "ax.yaxis.set_major_locator(plt.MultipleLocator(0.01))\n",
    "\n",
    "# right panel: plot best fit\n",
    "ax = fig.add_subplot(122)\n",
    "ax.scatter(z_test, z_fit_best, s=1, lw=0, c='k')\n",
    "ax.plot([-0.1, 0.4], [-0.1, 0.4], ':k')\n",
    "ax.text(0.03, 0.97, \"depth = %i\\nrms = %.3f\" % (best_depth, rms_test[i_best]),\n",
    "        ha='left', va='top', transform=ax.transAxes)\n",
    "\n",
    "ax.set_xlabel(r'$z_{\\rm true}$')\n",
    "ax.set_ylabel(r'$z_{\\rm fit}$')\n",
    "\n",
    "ax.set_xlim(-0.02, 0.4001)\n",
    "ax.set_ylim(-0.02, 0.4001)\n",
    "ax.xaxis.set_major_locator(plt.MultipleLocator(0.1))\n",
    "ax.yaxis.set_major_locator(plt.MultipleLocator(0.1))"
   ]
  },
  {
   "cell_type": "markdown",
   "id": "09faa5d5",
   "metadata": {},
   "source": [
    "## Our Experiment \n",
    "\n",
    "1) We are now going to explore how changing the amount of data in the test and training samples effects the \n",
    "results of the random forest.  \n",
    "\n",
    "2) we will experiment with over fitting and under fitting \n",
    "\n",
    "3) we will experiment with using less information (e.g. not as many filters!) "
   ]
  },
  {
   "cell_type": "code",
   "execution_count": null,
   "id": "b3c5c530",
   "metadata": {},
   "outputs": [],
   "source": []
  },
  {
   "cell_type": "code",
   "execution_count": null,
   "id": "26d1761a",
   "metadata": {},
   "outputs": [],
   "source": []
  }
 ],
 "metadata": {
  "kernelspec": {
   "display_name": "Python 3 (ipykernel)",
   "language": "python",
   "name": "python3"
  },
  "language_info": {
   "codemirror_mode": {
    "name": "ipython",
    "version": 3
   },
   "file_extension": ".py",
   "mimetype": "text/x-python",
   "name": "python",
   "nbconvert_exporter": "python",
   "pygments_lexer": "ipython3",
   "version": "3.9.7"
  }
 },
 "nbformat": 4,
 "nbformat_minor": 5
}
